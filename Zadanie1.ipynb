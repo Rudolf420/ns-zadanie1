{
 "cells": [
  {
   "cell_type": "code",
   "execution_count": 1,
   "id": "cb8c8e33",
   "metadata": {},
   "outputs": [],
   "source": [
    "import numpy as np\n",
    "import pandas as pd\n",
    "from sklearn.model_selection import train_test_split\n",
    "from sklearn.preprocessing import MinMaxScaler\n",
    "from sklearn.metrics import accuracy_score\n",
    "np.set_printoptions(threshold=np.inf, suppress=True)"
   ]
  },
  {
   "cell_type": "markdown",
   "id": "4a8d1fad",
   "metadata": {},
   "source": [
    "Loading data"
   ]
  },
  {
   "cell_type": "code",
   "execution_count": 2,
   "id": "399516fb",
   "metadata": {},
   "outputs": [],
   "source": [
    "sonar_data = pd.read_csv('dataset/sonar.all-data', header=None)\n",
    "print(sonar_data.head())\n",
    "print(sonar_data.shape)\n",
    "print(sonar_data[60].value_counts())"
   ]
  },
  {
   "cell_type": "code",
   "execution_count": 3,
   "id": "ad1be166",
   "metadata": {},
   "outputs": [],
   "source": [
    "sonar_data.describe()"
   ]
  },
  {
   "cell_type": "code",
   "execution_count": 4,
   "id": "32fd4bb9",
   "metadata": {},
   "outputs": [],
   "source": [
    "# replacnutie R za 0 a M za 1\n",
    "# R - Rock M - Mina\n",
    "sonar_data[60] = sonar_data[60].replace(['R', 'M'], [0, 1])\n",
    "sonar_data.head()"
   ]
  },
  {
   "cell_type": "markdown",
   "id": "6d90d065",
   "metadata": {},
   "source": [
    "Data normalization"
   ]
  },
  {
   "cell_type": "code",
   "execution_count": 5,
   "id": "43fefc9a",
   "metadata": {},
   "outputs": [],
   "source": [
    "normalized_df = sonar_data.copy()\n",
    "for x in range(60):\n",
    "    normalized_df[x] = MinMaxScaler().fit_transform(np.array(normalized_df[x]).reshape(-1,1))\n",
    "\n",
    "normalized_df\n"
   ]
  },
  {
   "cell_type": "code",
   "execution_count": 6,
   "id": "8cb29279",
   "metadata": {},
   "outputs": [],
   "source": [
    "normalized_df.describe()"
   ]
  },
  {
   "cell_type": "markdown",
   "id": "280fd150",
   "metadata": {},
   "source": [
    "Train test val split\n",
    "80/10/10"
   ]
  },
  {
   "cell_type": "code",
   "execution_count": 7,
   "id": "f752c01c",
   "metadata": {},
   "outputs": [],
   "source": [
    "X = sonar_data.drop(columns=60, axis=1)\n",
    "y = sonar_data[60]"
   ]
  },
  {
   "cell_type": "code",
   "execution_count": 8,
   "id": "8ebe8b29",
   "metadata": {},
   "outputs": [],
   "source": [
    "X_train, X_test, y_train, y_test = train_test_split(X, y, test_size=0.2, random_state=1)\n",
    "X_test, X_val, y_test, y_val = train_test_split(X_test, y_test, test_size=0.5, random_state=1)"
   ]
  },
  {
   "cell_type": "code",
   "execution_count": 9,
   "id": "bb690bcf",
   "metadata": {
    "scrolled": true
   },
   "outputs": [],
   "source": [
    "print(X_train.shape)\n",
    "print(y_train.value_counts())\n",
    "print('******')\n",
    "print(X_test.shape)\n",
    "print(y_test.value_counts())\n",
    "print('******')\n",
    "print(X_val.shape)\n",
    "print(y_val.value_counts())"
   ]
  },
  {
   "cell_type": "markdown",
   "id": "cc608bc5",
   "metadata": {},
   "source": [
    "Tensorflow"
   ]
  },
  {
   "cell_type": "code",
   "execution_count": 10,
   "id": "cdbd99f7",
   "metadata": {},
   "outputs": [],
   "source": [
    "import tensorflow as tf\n",
    "from tensorflow.keras.models import Sequential\n",
    "from tensorflow.keras.layers import Dense\n",
    "from tensorflow.keras.optimizers import Adam\n",
    "from wandb.keras import WandbCallback"
   ]
  },
  {
   "cell_type": "markdown",
   "id": "4ff1b105",
   "metadata": {},
   "source": [
    "Vytvorenie modelu"
   ]
  },
  {
   "cell_type": "code",
   "execution_count": null,
   "id": "e4021b58",
   "metadata": {},
   "outputs": [],
   "source": [
    "tf_model = Sequential()\n",
    "tf_model.add(Dense(16, activation=tf.keras.activations.relu, input_dim=len(X_train.columns)))\n",
    "tf_model.add(Dense(16, activation=tf.keras.activations.relu))\n",
    "tf_model.add(Dense(16, activation=tf.keras.activations.relu))\n",
    "tf_model.add(Dense(1, activation=tf.keras.activations.sigmoid))"
   ]
  },
  {
   "cell_type": "code",
   "execution_count": null,
   "id": "a713898a",
   "metadata": {},
   "outputs": [],
   "source": [
    "tf_model.compile(loss=tf.keras.losses.binary_crossentropy, optimizer=Adam(), metrics=['accuracy'])"
   ]
  },
  {
   "cell_type": "code",
   "execution_count": null,
   "id": "ce86c6af",
   "metadata": {},
   "outputs": [],
   "source": [
    "tf_model.fit(\n",
    "    X_train,\n",
    "    y_train,\n",
    "    batch_size=16,\n",
    "    epochs=100,\n",
    "    validation_data=(X_val,y_val)\n",
    ")"
   ]
  },
  {
   "cell_type": "code",
   "execution_count": null,
   "id": "92b0e13f",
   "metadata": {},
   "outputs": [],
   "source": [
    "tf_model.save('./model')"
   ]
  },
  {
   "cell_type": "code",
   "execution_count": null,
   "id": "2085f794",
   "metadata": {},
   "outputs": [],
   "source": [
    "#pomocna funkcia\n",
    "def predictEval(tf_model, XX, yy):\n",
    "    # vykonanie predikcie\n",
    "    y_pred = tf_model.predict(XX)\n",
    "    # uprava outputu na boolean\n",
    "    y_pred_bool = np.copy(y_pred)\n",
    "    for x in y_pred_bool:\n",
    "        x[0] = round(x[0])\n",
    "    y_pred_bool\n",
    "\n",
    "    #vratenie y a accuaracy\n",
    "    return [y_pred, y_pred_bool, accuracy_score(y_pred_bool, yy)]"
   ]
  },
  {
   "cell_type": "markdown",
   "id": "a18ac23f",
   "metadata": {},
   "source": [
    "Eval"
   ]
  },
  {
   "cell_type": "code",
   "execution_count": null,
   "id": "b444aef3",
   "metadata": {},
   "outputs": [],
   "source": [
    "train = predictEval(tf_model, X_train, y_train)\n",
    "val = predictEval(tf_model, X_val, y_val)\n",
    "test = predictEval(tf_model, X_test, y_test)\n",
    "\n",
    "print('Accuracy score')\n",
    "print(f'Train: {train[2]*100:.2f}%')\n",
    "print(f'Val: {val[2]*100:.2f}%')\n",
    "print(f'Test: {test[2]*100:.2f}%')"
   ]
  },
  {
   "cell_type": "code",
   "execution_count": null,
   "id": "2a688b36",
   "metadata": {},
   "outputs": [],
   "source": [
    "import torch\n",
    "import torch.nn as nn\n",
    "import torch.optim as optim\n",
    "from torch.utils.data import Dataset, DataLoader\n",
    "from sklearn.metrics import accuracy_score"
   ]
  },
  {
   "cell_type": "code",
   "execution_count": null,
   "id": "f17a7b69",
   "metadata": {},
   "outputs": [],
   "source": [
    "# Define the PyTorch model\n",
    "class PyTorchModel(nn.Module):\n",
    "    def __init__(self, input_dim):\n",
    "        super(PyTorchModel, self).__init__()\n",
    "        self.fc1 = nn.Linear(input_dim, 16)\n",
    "        self.fc2 = nn.Linear(16, 16)\n",
    "        self.fc3 = nn.Linear(16, 16)\n",
    "        self.fc4 = nn.Linear(16, 1)\n",
    "\n",
    "    def forward(self, x):\n",
    "        x = torch.relu(self.fc1(x))\n",
    "        x = torch.relu(self.fc2(x))\n",
    "        x = torch.relu(self.fc3(x))\n",
    "        x = torch.sigmoid(self.fc4(x))\n",
    "        return x"
   ]
  },
  {
   "cell_type": "code",
   "execution_count": null,
   "id": "5d7e8074",
   "metadata": {},
   "outputs": [],
   "source": [
    "# Create a custom dataset\n",
    "class SonarDataset(Dataset):\n",
    "    def __init__(self, X, y):\n",
    "        self.X = torch.tensor(X.values, dtype=torch.float32)\n",
    "        self.y = torch.tensor(y.values, dtype=torch.float32).view(-1, 1)\n",
    "\n",
    "    def __len__(self):\n",
    "        return len(self.X)\n",
    "\n",
    "    def __getitem__(self, idx):\n",
    "        return self.X[idx], self.y[idx]"
   ]
  },
  {
   "cell_type": "code",
   "execution_count": null,
   "id": "65da1a5f",
   "metadata": {},
   "outputs": [],
   "source": [
    "train_dataset = SonarDataset(X_train, y_train)\n",
    "val_dataset = SonarDataset(X_val, y_val)\n",
    "test_dataset = SonarDataset(X_test, y_test)\n",
    "\n",
    "train_loader = DataLoader(train_dataset, batch_size=16, shuffle=True)\n",
    "val_loader = DataLoader(val_dataset, batch_size=len(val_dataset), shuffle=False)\n",
    "test_loader = DataLoader(test_dataset, batch_size=len(test_dataset), shuffle=False)"
   ]
  },
  {
   "cell_type": "code",
   "execution_count": null,
   "id": "06616cf8",
   "metadata": {},
   "outputs": [],
   "source": [
    "# Instantiate the model\n",
    "input_dim = len(X_train.columns)\n",
    "model = PyTorchModel(input_dim)\n"
   ]
  },
  {
   "cell_type": "code",
   "execution_count": null,
   "id": "e1b6f25c",
   "metadata": {},
   "outputs": [],
   "source": [
    "criterion = nn.BCELoss()\n",
    "optimizer = optim.Adam(model.parameters())\n"
   ]
  },
  {
   "cell_type": "code",
   "execution_count": null,
   "id": "e9157ba8",
   "metadata": {},
   "outputs": [],
   "source": [
    "# Train the model\n",
    "num_epochs = 100\n",
    "for epoch in range(num_epochs):\n",
    "    model.train()\n",
    "    for X_batch, y_batch in train_loader:\n",
    "        optimizer.zero_grad()\n",
    "        y_pred = model(X_batch)\n",
    "        loss = criterion(y_pred, y_batch)\n",
    "        loss.backward()\n",
    "        optimizer.step()\n",
    "    with torch.no_grad():\n",
    "        model.eval()\n",
    "        for X_val_batch, y_val_batch in val_loader:\n",
    "            y_val_pred = model(X_val_batch)\n",
    "            val_loss = criterion(y_val_pred, y_val_batch)\n",
    "    print(f\"Epoch: {epoch + 1}/{num_epochs}, Loss: {loss.item():.4f}, Val Loss: {val_loss.item():.4f}\")"
   ]
  },
  {
   "cell_type": "code",
   "execution_count": null,
   "id": "1ab49a7e",
   "metadata": {},
   "outputs": [],
   "source": [
    "def predict_eval(model, loader):\n",
    "    with torch.no_grad():\n",
    "        model.eval()\n",
    "        for X_batch, y_batch in loader:\n",
    "            y_pred = model(X_batch)\n",
    "            y_pred_bool = torch.round(y_pred)\n",
    "            accuracy = accuracy_score(y_pred_bool, y_batch)\n",
    "    return accuracy"
   ]
  },
  {
   "cell_type": "code",
   "execution_count": null,
   "id": "ce38c74c",
   "metadata": {},
   "outputs": [],
   "source": [
    "train_accuracy = predict_eval(model, train_loader)\n",
    "val_accuracy = predict_eval(model, val_loader)\n",
    "test_accuracy = predict_eval(model, test_loader)"
   ]
  },
  {
   "cell_type": "code",
   "execution_count": null,
   "id": "5df66fc2",
   "metadata": {},
   "outputs": [],
   "source": [
    "print('Accuracy score')\n",
    "print(f'Train: {train_accuracy * 100:.2f}%')\n",
    "print(f'Val: {val_accuracy * 100:.2f}%')\n",
    "print(f'Test: {test_accuracy * 100:.2f}%')"
   ]
  },
  {
   "cell_type": "code",
   "execution_count": null,
   "id": "26db5e48",
   "metadata": {},
   "outputs": [],
   "source": []
  }
 ],
 "metadata": {
  "kernelspec": {
   "display_name": "Python 3 (ipykernel)",
   "language": "python",
   "name": "python3"
  },
  "language_info": {
   "codemirror_mode": {
    "name": "ipython",
    "version": 3
   },
   "file_extension": ".py",
   "mimetype": "text/x-python",
   "name": "python",
   "nbconvert_exporter": "python",
   "pygments_lexer": "ipython3",
   "version": "3.9.16"
  }
 },
 "nbformat": 4,
 "nbformat_minor": 5
}
