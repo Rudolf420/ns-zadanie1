{
 "cells": [
  {
   "cell_type": "code",
   "execution_count": null,
   "id": "cb8c8e33",
   "metadata": {},
   "outputs": [],
   "source": [
    "import numpy as np\n",
    "import pandas as pd\n",
    "from sklearn.model_selection import train_test_split\n",
    "from sklearn.preprocessing import MinMaxScaler\n",
    "from sklearn.preprocessing import StandardScaler\n",
    "from sklearn.metrics import accuracy_score\n",
    "from sklearn.metrics import mean_squared_error\n",
    "from sklearn.metrics import f1_score\n",
    "from sklearn.metrics import precision_score\n",
    "from sklearn.metrics import recall_score\n",
    "np.set_printoptions(threshold=np.inf, suppress=True)\n",
    "import matplotlib.pyplot as plt"
   ]
  },
  {
   "cell_type": "markdown",
   "id": "4a8d1fad",
   "metadata": {},
   "source": [
    "Loading data"
   ]
  },
  {
   "attachments": {},
   "cell_type": "markdown",
   "id": "96af29b5",
   "metadata": {},
   "source": [
    "Dataset obsahuje 60 continues features a jeden predicate (R/M), ktorý vraví o tom, či sa jedná o kameň alebo mínu. "
   ]
  },
  {
   "cell_type": "code",
   "execution_count": null,
   "id": "399516fb",
   "metadata": {},
   "outputs": [],
   "source": [
    "sonar_data = pd.read_csv('dataset/sonar.all-data', header=None)\n",
    "print(sonar_data.head())\n",
    "print(sonar_data.shape)\n",
    "print(sonar_data[60].value_counts())"
   ]
  },
  {
   "cell_type": "code",
   "execution_count": null,
   "id": "ad1be166",
   "metadata": {},
   "outputs": [],
   "source": [
    "sonar_data.describe()"
   ]
  },
  {
   "cell_type": "markdown",
   "id": "c9ef90e2",
   "metadata": {},
   "source": [
    "Vykonanie encodingu, kde mínu zakódujeme ako 1 a kameň ako 0"
   ]
  },
  {
   "cell_type": "code",
   "execution_count": null,
   "id": "32fd4bb9",
   "metadata": {},
   "outputs": [],
   "source": [
    "# replacnutie R za 0 a M za 1\n",
    "# R - Rock M - Mina\n",
    "sonar_data[60] = sonar_data[60].replace(['R', 'M'], [0, 1])\n",
    "sonar_data.head()"
   ]
  },
  {
   "attachments": {},
   "cell_type": "markdown",
   "id": "6d90d065",
   "metadata": {},
   "source": [
    "Data normalization\n",
    "\n",
    "Data, ktoré používame normalizujeme pomocou standard scaleru"
   ]
  },
  {
   "cell_type": "code",
   "execution_count": null,
   "id": "43fefc9a",
   "metadata": {},
   "outputs": [],
   "source": [
    "normalized_dfMinMax = sonar_data.copy()\n",
    "for x in range(60):\n",
    "    normalized_dfMinMax[x] = MinMaxScaler().fit_transform(np.array(normalized_dfMinMax[x]).reshape(-1,1))\n",
    "\n",
    "normalized_dfMinMax\n",
    "\n",
    "normalized_df = sonar_data.copy()\n",
    "for x in range(60):\n",
    "    normalized_df[x] = StandardScaler().fit_transform(np.array(normalized_df[x]).reshape(-1,1))\n",
    "\n",
    "normalized_df\n"
   ]
  },
  {
   "cell_type": "code",
   "execution_count": null,
   "id": "8cb29279",
   "metadata": {},
   "outputs": [],
   "source": [
    "normalized_df.describe()"
   ]
  },
  {
   "attachments": {},
   "cell_type": "markdown",
   "id": "280fd150",
   "metadata": {},
   "source": [
    "Train test val split 80/10/10\n",
    "\n",
    "Dáta delíme takto kvôli menšiemu počtu dostupných vzoriek"
   ]
  },
  {
   "cell_type": "code",
   "execution_count": null,
   "id": "f752c01c",
   "metadata": {},
   "outputs": [],
   "source": [
    "X = normalized_df.drop(columns=60, axis=1)\n",
    "y = normalized_df[60]"
   ]
  },
  {
   "cell_type": "code",
   "execution_count": null,
   "id": "8ebe8b29",
   "metadata": {},
   "outputs": [],
   "source": [
    "X_train, X_test, y_train, y_test = train_test_split(X, y, test_size=0.2, random_state=1)\n",
    "X_test, X_val, y_test, y_val = train_test_split(X_test, y_test, test_size=0.5, random_state=1)"
   ]
  },
  {
   "cell_type": "code",
   "execution_count": null,
   "id": "bb690bcf",
   "metadata": {
    "scrolled": true
   },
   "outputs": [],
   "source": [
    "print(X_train.shape)\n",
    "print(y_train.value_counts())\n",
    "print('******')\n",
    "print(X_test.shape)\n",
    "print(y_test.value_counts())\n",
    "print('******')\n",
    "print(X_val.shape)\n",
    "print(y_val.value_counts())"
   ]
  },
  {
   "cell_type": "markdown",
   "id": "cc608bc5",
   "metadata": {},
   "source": [
    "Tensorflow"
   ]
  },
  {
   "cell_type": "code",
   "execution_count": null,
   "id": "cdbd99f7",
   "metadata": {},
   "outputs": [],
   "source": [
    "import tensorflow as tf\n",
    "from tensorflow.keras.models import Sequential\n",
    "from tensorflow.keras.layers import Dense\n",
    "from tensorflow.keras.optimizers import Adam\n",
    "from tensorflow.keras.layers import Dropout\n",
    "import wandb\n",
    "from wandb.keras import WandbCallback"
   ]
  },
  {
   "cell_type": "markdown",
   "id": "4ff1b105",
   "metadata": {},
   "source": [
    "Vytvorenie modelu"
   ]
  },
  {
   "attachments": {},
   "cell_type": "markdown",
   "id": "aad4165d",
   "metadata": {},
   "source": [
    "V rámci tensorflow časti vytvárame 5 rôznych modelov\n",
    "\n",
    "Všetky majú rovnakú architektúru, len sa líšia v metódach použitých pri riešení problému overfittingu. Máme vstupnú vrstvu so 16 neuronmi, dve skryté vrstvy s 16 neurónmi a nakoniec výstupnú vrstvu s jedným neurónom.\n",
    "\n",
    "Pri všetkých vrstvách používame aktivačnú funkciu ReLu až na poslednú, kde používame sigmoid.\n",
    "\n",
    "Model 1 nepoužíva žiadnu metódu prevencie overfittingu\n",
    "\n",
    "Model 2 používa metódu dropout, kde sme ako šancu vypadnuta neurónu dali 50%, dropout sa vykonáva pri prvej a druhej skrytej vrstve.\n",
    "\n",
    "Model 3 používa early stopping, riadi sa podľa val_loss a parameter patience sme nastavili na 10 epoch.\n",
    "\n",
    "Model 4 používa regularizáciu, ako hodnotu parametrov l1 a l2 sme zvolili hodnotu 0,005. Skúsili sme použiť aj vyššie hodnoty ale to viedlo k oveľa horším výsledkom, kde napríklad acc padlo približne na 55%.\n",
    "\n",
    "Model 5 sme skúsili otestovať ako sa bude NN správať ak použijeme naraz dropout a early stopping, parametre sme použili rovnaké ako pri predchádzajúcich modeloch.\n",
    "\n",
    "\n",
    "\n"
   ]
  },
  {
   "cell_type": "code",
   "execution_count": null,
   "id": "e4021b58",
   "metadata": {},
   "outputs": [],
   "source": [
    "#nothing\n",
    "tf_model1 = Sequential()\n",
    "tf_model1.add(Dense(16, activation=tf.keras.activations.relu, input_dim=len(X_train.columns)))\n",
    "tf_model1.add(Dense(16, activation=tf.keras.activations.relu))\n",
    "tf_model1.add(Dense(16, activation=tf.keras.activations.relu))\n",
    "tf_model1.add(Dense(1, activation=tf.keras.activations.sigmoid))\n",
    "#dropout\n",
    "tf_model2 = Sequential()\n",
    "tf_model2.add(Dense(16, activation=tf.keras.activations.relu, input_dim=len(X_train.columns)))\n",
    "tf_model2.add(Dropout(0.5))\n",
    "tf_model2.add(Dense(16, activation=tf.keras.activations.relu))\n",
    "tf_model2.add(Dropout(0.5))\n",
    "tf_model2.add(Dense(16, activation=tf.keras.activations.relu))\n",
    "tf_model2.add(Dense(1, activation=tf.keras.activations.sigmoid))\n",
    "#early stopping\n",
    "tf_model3 = Sequential()\n",
    "tf_model3.add(Dense(16, activation=tf.keras.activations.relu, input_dim=len(X_train.columns)))\n",
    "tf_model3.add(Dense(16, activation=tf.keras.activations.relu))\n",
    "tf_model3.add(Dense(16, activation=tf.keras.activations.relu))\n",
    "tf_model3.add(Dense(1, activation=tf.keras.activations.sigmoid))\n",
    "earlyStop = tf.keras.callbacks.EarlyStopping(monitor='val_loss', patience=10)\n",
    "#regularization\n",
    "tf_model4 = Sequential()\n",
    "tf_model4.add(Dense(16, activation=tf.keras.activations.relu, input_dim=len(X_train.columns), kernel_regularizer=tf.keras.regularizers.l1_l2(l1=0.005, l2=0.005)))\n",
    "tf_model4.add(Dense(16, activation=tf.keras.activations.relu, kernel_regularizer=tf.keras.regularizers.l1_l2(l1=0.005, l2=0.005)))\n",
    "tf_model4.add(Dense(16, activation=tf.keras.activations.relu, kernel_regularizer=tf.keras.regularizers.l1_l2(l1=0.005, l2=0.005)))\n",
    "tf_model4.add(Dense(1, activation=tf.keras.activations.sigmoid))\n",
    "#dropout + earlystop\n",
    "tf_model5 = Sequential()\n",
    "tf_model5.add(Dense(16, activation=tf.keras.activations.relu, input_dim=len(X_train.columns)))\n",
    "tf_model5.add(Dropout(0.5))\n",
    "tf_model5.add(Dense(16, activation=tf.keras.activations.relu))\n",
    "tf_model5.add(Dropout(0.5))\n",
    "tf_model5.add(Dense(16, activation=tf.keras.activations.relu))\n",
    "tf_model5.add(Dense(1, activation=tf.keras.activations.sigmoid))\n",
    "\n"
   ]
  },
  {
   "attachments": {},
   "cell_type": "markdown",
   "id": "f05f31a8",
   "metadata": {},
   "source": [
    "Ako loss funkciu sme zvolili binary crossentropy a ako optimizer Adam.\n",
    "\n",
    "Na sledovanie NN sme vybrali 4 metriky Acc, MSE, precision a recall"
   ]
  },
  {
   "cell_type": "code",
   "execution_count": null,
   "id": "a04d45c1",
   "metadata": {},
   "outputs": [],
   "source": [
    "precision = tf.keras.metrics.Precision()\n",
    "recall = tf.keras.metrics.Recall()\n",
    "tf_model1.compile(loss=tf.keras.losses.binary_crossentropy, optimizer=Adam(), metrics=['accuracy', 'mse', precision, recall])\n",
    "tf_model2.compile(loss=tf.keras.losses.binary_crossentropy, optimizer=Adam(), metrics=['accuracy', 'mse', precision, recall])\n",
    "tf_model3.compile(loss=tf.keras.losses.binary_crossentropy, optimizer=Adam(), metrics=['accuracy', 'mse', precision, recall])\n",
    "tf_model4.compile(loss=tf.keras.losses.binary_crossentropy, optimizer=Adam(), metrics=['accuracy', 'mse', precision, recall])\n",
    "tf_model5.compile(loss=tf.keras.losses.binary_crossentropy, optimizer=Adam(), metrics=['accuracy', 'mse', precision, recall])"
   ]
  },
  {
   "attachments": {},
   "cell_type": "markdown",
   "id": "98d93102",
   "metadata": {},
   "source": [
    "Batch size sme zvolili na 16.\n",
    "\n",
    "Počet epoch trénovania sme zvolili 100, pri tomto zadaní by mal postačovať aj menší počet epoch ale kvôli krátkemu času behu sme nechali 100 epoch."
   ]
  },
  {
   "cell_type": "code",
   "execution_count": 69,
   "id": "a713898a",
   "metadata": {},
   "outputs": [],
   "source": [
    "def fitModel(model, name, callbackArg):\n",
    "    \n",
    "    model.fit(\n",
    "    X_train,\n",
    "    y_train,\n",
    "    batch_size=16,\n",
    "    epochs=100,\n",
    "    validation_data=(X_val,y_val),\n",
    "    callbacks=callbackArg\n",
    "    )\n",
    "\n",
    "    model.save('./'+ name)\n",
    "    "
   ]
  },
  {
   "cell_type": "code",
   "execution_count": 70,
   "id": "ce86c6af",
   "metadata": {
    "scrolled": true,
    "tags": []
   },
   "outputs": [
    {
     "data": {
      "text/html": [
       "Finishing last run (ID:sviaosc9) before initializing another..."
      ],
      "text/plain": [
       "<IPython.core.display.HTML object>"
      ]
     },
     "metadata": {},
     "output_type": "display_data"
    },
    {
     "data": {
      "text/html": [
       "Waiting for W&B process to finish... <strong style=\"color:green\">(success).</strong>"
      ],
      "text/plain": [
       "<IPython.core.display.HTML object>"
      ]
     },
     "metadata": {},
     "output_type": "display_data"
    },
    {
     "data": {
      "text/html": [
       "<style>\n",
       "    table.wandb td:nth-child(1) { padding: 0 10px; text-align: left ; width: auto;} td:nth-child(2) {text-align: left ; width: 100%}\n",
       "    .wandb-row { display: flex; flex-direction: row; flex-wrap: wrap; justify-content: flex-start; width: 100% }\n",
       "    .wandb-col { display: flex; flex-direction: column; flex-basis: 100%; flex: 1; padding: 10px; }\n",
       "    </style>\n",
       "<div class=\"wandb-row\"><div class=\"wandb-col\"><h3>Run history:</h3><br/><table class=\"wandb\"><tr><td>accuracy</td><td>▃▅▇███████▁▃▃▄▄▅▅▆▆▆▇▆▇▆▇▇▇▇█▇██▇█▇▇████</td></tr><tr><td>epoch</td><td>▁▂▃▃▄▅▆▇▇█▂▂▃▄▅▅▆▇█▁▂▁▂▂▃▄▅▆▆▇█▂▂▃▄▅▅▆▇█</td></tr><tr><td>loss</td><td>▇▅▃▂▂▁▁▁▁▁█▇▇▆▆▅▅▄▄▆▃▄▃▄▃▃▂▂▂▃▂▂▂▁▂▂▂▂▂▁</td></tr><tr><td>mse</td><td>▇▅▃▂▁▁▁▁▁▁█▇▇▆▅▅▅▄▄▅▂▃▃▄▃▃▂▂▁▂▂▂▂▁▂▂▁▂▁▁</td></tr><tr><td>precision_2</td><td>▂▅████████▁▃▃▄▄▅▅▆▆▆▇▆▇▆▇▇▇▇▇▇▇█▇█▇▇█▇██</td></tr><tr><td>recall_2</td><td>▇▆▆███████▁▅▄▅▅▅▅▆▆▇▇▇▆▇▇▇███▇█████▇████</td></tr><tr><td>val_accuracy</td><td>▁█▆███████▁▁▃▁▃▃▆▆▃▁█▆▆▆▆▃▆▆▆▆▆▆▆▆▆▆▆▆▆▆</td></tr><tr><td>val_loss</td><td>▂▁▁▁▂▂▂▃▃▃▂▂▂▁▁▁▂▂▂▂▁▂▃▃▄▄▄▅▅▅▅▆▆▆▇█▇█▇█</td></tr><tr><td>val_mse</td><td>█▂▁▃▃▄▄▅▅▅▇▆▄▃▄▃▃▃▃▇▂▄▄▄▅▆▅▆▇▆▇██▇▇▇▇█▇█</td></tr><tr><td>val_precision_2</td><td>▁▆▅▅▅▅▅▅▅▅▂▂▃▂▄▄▇▇▄▂█▇▇▅▅▄▅▅▅▅▅▅▅▅▅▅▅▅▅▅</td></tr><tr><td>val_recall_2</td><td>█▆▃███████▁▃▃▁▁▁▁▁▁▃▃▁▁▃▃▁▃▃▃▃▃▃▃▃▃▃▃▃▃▃</td></tr></table><br/></div><div class=\"wandb-col\"><h3>Run summary:</h3><br/><table class=\"wandb\"><tr><td>accuracy</td><td>0.98193</td></tr><tr><td>best_epoch</td><td>22</td></tr><tr><td>best_val_loss</td><td>0.36866</td></tr><tr><td>epoch</td><td>99</td></tr><tr><td>loss</td><td>0.05469</td></tr><tr><td>mse</td><td>0.01622</td></tr><tr><td>precision_2</td><td>0.96809</td></tr><tr><td>recall_2</td><td>1.0</td></tr><tr><td>val_accuracy</td><td>0.7619</td></tr><tr><td>val_loss</td><td>2.09743</td></tr><tr><td>val_mse</td><td>0.22139</td></tr><tr><td>val_precision_2</td><td>0.7</td></tr><tr><td>val_recall_2</td><td>0.77778</td></tr></table><br/></div></div>"
      ],
      "text/plain": [
       "<IPython.core.display.HTML object>"
      ]
     },
     "metadata": {},
     "output_type": "display_data"
    },
    {
     "data": {
      "text/html": [
       " View run <strong style=\"color:#cdcd00\">misty-grass-6</strong> at: <a href='https://wandb.ai/cajnyoby/zadanie1/runs/sviaosc9' target=\"_blank\">https://wandb.ai/cajnyoby/zadanie1/runs/sviaosc9</a><br/>Synced 5 W&B file(s), 3 media file(s), 110 artifact file(s) and 1 other file(s)"
      ],
      "text/plain": [
       "<IPython.core.display.HTML object>"
      ]
     },
     "metadata": {},
     "output_type": "display_data"
    },
    {
     "data": {
      "text/html": [
       "Find logs at: <code>.\\wandb\\run-20230329_021737-sviaosc9\\logs</code>"
      ],
      "text/plain": [
       "<IPython.core.display.HTML object>"
      ]
     },
     "metadata": {},
     "output_type": "display_data"
    },
    {
     "data": {
      "text/html": [
       "Successfully finished last run (ID:sviaosc9). Initializing new run:<br/>"
      ],
      "text/plain": [
       "<IPython.core.display.HTML object>"
      ]
     },
     "metadata": {},
     "output_type": "display_data"
    },
    {
     "data": {
      "application/vnd.jupyter.widget-view+json": {
       "model_id": "0bb80a415ea741fbb26847480351d62b",
       "version_major": 2,
       "version_minor": 0
      },
      "text/plain": [
       "VBox(children=(Label(value='Waiting for wandb.init()...\\r'), FloatProgress(value=0.016666666666666666, max=1.0…"
      ]
     },
     "metadata": {},
     "output_type": "display_data"
    },
    {
     "data": {
      "text/html": [
       "wandb version 0.14.0 is available!  To upgrade, please run:\n",
       " $ pip install wandb --upgrade"
      ],
      "text/plain": [
       "<IPython.core.display.HTML object>"
      ]
     },
     "metadata": {},
     "output_type": "display_data"
    },
    {
     "data": {
      "text/html": [
       "Tracking run with wandb version 0.13.10"
      ],
      "text/plain": [
       "<IPython.core.display.HTML object>"
      ]
     },
     "metadata": {},
     "output_type": "display_data"
    },
    {
     "data": {
      "text/html": [
       "Run data is saved locally in <code>C:\\Users\\Burka\\Documents\\School\\Letny semester 22-23\\Neuronky\\ns-zadanie1\\wandb\\run-20230329_022825-h7pawtdz</code>"
      ],
      "text/plain": [
       "<IPython.core.display.HTML object>"
      ]
     },
     "metadata": {},
     "output_type": "display_data"
    },
    {
     "data": {
      "text/html": [
       "Syncing run <strong><a href='https://wandb.ai/cajnyoby/zadanie1/runs/h7pawtdz' target=\"_blank\">misty-fire-7</a></strong> to <a href='https://wandb.ai/cajnyoby/zadanie1' target=\"_blank\">Weights & Biases</a> (<a href='https://wandb.me/run' target=\"_blank\">docs</a>)<br/>"
      ],
      "text/plain": [
       "<IPython.core.display.HTML object>"
      ]
     },
     "metadata": {},
     "output_type": "display_data"
    },
    {
     "data": {
      "text/html": [
       " View project at <a href='https://wandb.ai/cajnyoby/zadanie1' target=\"_blank\">https://wandb.ai/cajnyoby/zadanie1</a>"
      ],
      "text/plain": [
       "<IPython.core.display.HTML object>"
      ]
     },
     "metadata": {},
     "output_type": "display_data"
    },
    {
     "data": {
      "text/html": [
       " View run at <a href='https://wandb.ai/cajnyoby/zadanie1/runs/h7pawtdz' target=\"_blank\">https://wandb.ai/cajnyoby/zadanie1/runs/h7pawtdz</a>"
      ],
      "text/plain": [
       "<IPython.core.display.HTML object>"
      ]
     },
     "metadata": {},
     "output_type": "display_data"
    },
    {
     "name": "stdout",
     "output_type": "stream",
     "text": [
      "Epoch 1/100\n",
      " 1/11 [=>............................] - ETA: 0s - loss: 0.0012 - accuracy: 1.0000 - mse: 7.0446e-06 - precision_2: 1.0000 - recall_2: 1.0000WARNING:tensorflow:Callback method `on_train_batch_end` is slow compared to the batch time (batch time: 0.0016s vs `on_train_batch_end` time: 0.0018s). Check your callbacks.\n"
     ]
    },
    {
     "name": "stderr",
     "output_type": "stream",
     "text": [
      "WARNING:tensorflow:Callback method `on_train_batch_end` is slow compared to the batch time (batch time: 0.0016s vs `on_train_batch_end` time: 0.0018s). Check your callbacks.\n",
      "WARNING:absl:Found untraced functions such as _update_step_xla while saving (showing 1 of 1). These functions will not be directly callable after loading.\n"
     ]
    },
    {
     "name": "stdout",
     "output_type": "stream",
     "text": [
      "INFO:tensorflow:Assets written to: C:\\Users\\Burka\\Documents\\School\\Letny semester 22-23\\Neuronky\\ns-zadanie1\\wandb\\run-20230329_022825-h7pawtdz\\files\\model-best\\assets\n"
     ]
    },
    {
     "name": "stderr",
     "output_type": "stream",
     "text": [
      "INFO:tensorflow:Assets written to: C:\\Users\\Burka\\Documents\\School\\Letny semester 22-23\\Neuronky\\ns-zadanie1\\wandb\\run-20230329_022825-h7pawtdz\\files\\model-best\\assets\n",
      "\u001b[34m\u001b[1mwandb\u001b[0m: Adding directory to artifact (C:\\Users\\Burka\\Documents\\School\\Letny semester 22-23\\Neuronky\\ns-zadanie1\\wandb\\run-20230329_022825-h7pawtdz\\files\\model-best)... Done. 0.0s\n"
     ]
    },
    {
     "name": "stdout",
     "output_type": "stream",
     "text": [
      "11/11 [==============================] - 1s 108ms/step - loss: 0.0018 - accuracy: 1.0000 - mse: 2.3352e-05 - precision_2: 1.0000 - recall_2: 1.0000 - val_loss: 0.8640 - val_accuracy: 0.8095 - val_mse: 0.1847 - val_precision_2: 0.6923 - val_recall_2: 1.0000\n",
      "Epoch 2/100\n",
      " 1/11 [=>............................] - ETA: 0s - loss: 7.9037e-04 - accuracy: 1.0000 - mse: 2.1706e-06 - precision_2: 1.0000 - recall_2: 1.0000"
     ]
    },
    {
     "name": "stderr",
     "output_type": "stream",
     "text": [
      "WARNING:absl:Found untraced functions such as _update_step_xla while saving (showing 1 of 1). These functions will not be directly callable after loading.\n"
     ]
    },
    {
     "name": "stdout",
     "output_type": "stream",
     "text": [
      "INFO:tensorflow:Assets written to: C:\\Users\\Burka\\Documents\\School\\Letny semester 22-23\\Neuronky\\ns-zadanie1\\wandb\\run-20230329_022825-h7pawtdz\\files\\model-best\\assets\n"
     ]
    },
    {
     "name": "stderr",
     "output_type": "stream",
     "text": [
      "INFO:tensorflow:Assets written to: C:\\Users\\Burka\\Documents\\School\\Letny semester 22-23\\Neuronky\\ns-zadanie1\\wandb\\run-20230329_022825-h7pawtdz\\files\\model-best\\assets\n",
      "\u001b[34m\u001b[1mwandb\u001b[0m: Adding directory to artifact (C:\\Users\\Burka\\Documents\\School\\Letny semester 22-23\\Neuronky\\ns-zadanie1\\wandb\\run-20230329_022825-h7pawtdz\\files\\model-best)... Done. 0.0s\n"
     ]
    },
    {
     "name": "stdout",
     "output_type": "stream",
     "text": [
      "11/11 [==============================] - 1s 110ms/step - loss: 0.0018 - accuracy: 1.0000 - mse: 2.2044e-05 - precision_2: 1.0000 - recall_2: 1.0000 - val_loss: 0.8632 - val_accuracy: 0.8095 - val_mse: 0.1846 - val_precision_2: 0.6923 - val_recall_2: 1.0000\n",
      "Epoch 3/100\n",
      "11/11 [==============================] - 0s 6ms/step - loss: 0.0017 - accuracy: 1.0000 - mse: 2.0471e-05 - precision_2: 1.0000 - recall_2: 1.0000 - val_loss: 0.8639 - val_accuracy: 0.8095 - val_mse: 0.1844 - val_precision_2: 0.6923 - val_recall_2: 1.0000\n",
      "Epoch 4/100\n",
      "11/11 [==============================] - 0s 6ms/step - loss: 0.0016 - accuracy: 1.0000 - mse: 1.8760e-05 - precision_2: 1.0000 - recall_2: 1.0000 - val_loss: 0.8678 - val_accuracy: 0.8095 - val_mse: 0.1846 - val_precision_2: 0.6923 - val_recall_2: 1.0000\n",
      "Epoch 5/100\n",
      "11/11 [==============================] - 0s 6ms/step - loss: 0.0016 - accuracy: 1.0000 - mse: 1.7051e-05 - precision_2: 1.0000 - recall_2: 1.0000 - val_loss: 0.8685 - val_accuracy: 0.8095 - val_mse: 0.1842 - val_precision_2: 0.6923 - val_recall_2: 1.0000\n",
      "Epoch 6/100\n",
      "11/11 [==============================] - 0s 5ms/step - loss: 0.0015 - accuracy: 1.0000 - mse: 1.6161e-05 - precision_2: 1.0000 - recall_2: 1.0000 - val_loss: 0.8712 - val_accuracy: 0.8095 - val_mse: 0.1845 - val_precision_2: 0.6923 - val_recall_2: 1.0000\n",
      "Epoch 7/100\n",
      "11/11 [==============================] - 0s 5ms/step - loss: 0.0015 - accuracy: 1.0000 - mse: 1.4747e-05 - precision_2: 1.0000 - recall_2: 1.0000 - val_loss: 0.8780 - val_accuracy: 0.8095 - val_mse: 0.1844 - val_precision_2: 0.6923 - val_recall_2: 1.0000\n",
      "Epoch 8/100\n",
      "11/11 [==============================] - 0s 5ms/step - loss: 0.0014 - accuracy: 1.0000 - mse: 1.3717e-05 - precision_2: 1.0000 - recall_2: 1.0000 - val_loss: 0.8835 - val_accuracy: 0.8095 - val_mse: 0.1842 - val_precision_2: 0.6923 - val_recall_2: 1.0000\n",
      "Epoch 9/100\n",
      "11/11 [==============================] - 0s 6ms/step - loss: 0.0014 - accuracy: 1.0000 - mse: 1.2809e-05 - precision_2: 1.0000 - recall_2: 1.0000 - val_loss: 0.8857 - val_accuracy: 0.8095 - val_mse: 0.1844 - val_precision_2: 0.6923 - val_recall_2: 1.0000\n",
      "Epoch 10/100\n",
      "11/11 [==============================] - 0s 6ms/step - loss: 0.0013 - accuracy: 1.0000 - mse: 1.1770e-05 - precision_2: 1.0000 - recall_2: 1.0000 - val_loss: 0.8852 - val_accuracy: 0.8095 - val_mse: 0.1842 - val_precision_2: 0.6923 - val_recall_2: 1.0000\n",
      "Epoch 11/100\n",
      "11/11 [==============================] - 0s 5ms/step - loss: 0.0013 - accuracy: 1.0000 - mse: 1.1228e-05 - precision_2: 1.0000 - recall_2: 1.0000 - val_loss: 0.8868 - val_accuracy: 0.8095 - val_mse: 0.1842 - val_precision_2: 0.6923 - val_recall_2: 1.0000\n",
      "Epoch 12/100\n",
      "11/11 [==============================] - 0s 5ms/step - loss: 0.0012 - accuracy: 1.0000 - mse: 1.0349e-05 - precision_2: 1.0000 - recall_2: 1.0000 - val_loss: 0.8942 - val_accuracy: 0.8095 - val_mse: 0.1844 - val_precision_2: 0.6923 - val_recall_2: 1.0000\n",
      "Epoch 13/100\n",
      "11/11 [==============================] - 0s 6ms/step - loss: 0.0012 - accuracy: 1.0000 - mse: 9.6665e-06 - precision_2: 1.0000 - recall_2: 1.0000 - val_loss: 0.8950 - val_accuracy: 0.8095 - val_mse: 0.1842 - val_precision_2: 0.6923 - val_recall_2: 1.0000\n",
      "Epoch 14/100\n",
      "11/11 [==============================] - 0s 5ms/step - loss: 0.0012 - accuracy: 1.0000 - mse: 9.1766e-06 - precision_2: 1.0000 - recall_2: 1.0000 - val_loss: 0.8981 - val_accuracy: 0.8095 - val_mse: 0.1846 - val_precision_2: 0.6923 - val_recall_2: 1.0000\n",
      "Epoch 15/100\n",
      "11/11 [==============================] - 0s 5ms/step - loss: 0.0011 - accuracy: 1.0000 - mse: 8.3922e-06 - precision_2: 1.0000 - recall_2: 1.0000 - val_loss: 0.9018 - val_accuracy: 0.8095 - val_mse: 0.1846 - val_precision_2: 0.6923 - val_recall_2: 1.0000\n",
      "Epoch 16/100\n",
      "11/11 [==============================] - 0s 5ms/step - loss: 0.0011 - accuracy: 1.0000 - mse: 7.9168e-06 - precision_2: 1.0000 - recall_2: 1.0000 - val_loss: 0.9065 - val_accuracy: 0.8095 - val_mse: 0.1844 - val_precision_2: 0.6923 - val_recall_2: 1.0000\n",
      "Epoch 17/100\n",
      "11/11 [==============================] - 0s 6ms/step - loss: 0.0010 - accuracy: 1.0000 - mse: 7.3635e-06 - precision_2: 1.0000 - recall_2: 1.0000 - val_loss: 0.9089 - val_accuracy: 0.8095 - val_mse: 0.1845 - val_precision_2: 0.6923 - val_recall_2: 1.0000\n",
      "Epoch 18/100\n",
      "11/11 [==============================] - 0s 6ms/step - loss: 0.0010 - accuracy: 1.0000 - mse: 6.9440e-06 - precision_2: 1.0000 - recall_2: 1.0000 - val_loss: 0.9129 - val_accuracy: 0.8095 - val_mse: 0.1846 - val_precision_2: 0.6923 - val_recall_2: 1.0000\n",
      "Epoch 19/100\n",
      "11/11 [==============================] - 0s 6ms/step - loss: 9.8378e-04 - accuracy: 1.0000 - mse: 6.5266e-06 - precision_2: 1.0000 - recall_2: 1.0000 - val_loss: 0.9088 - val_accuracy: 0.8095 - val_mse: 0.1837 - val_precision_2: 0.6923 - val_recall_2: 1.0000\n",
      "Epoch 20/100\n",
      "11/11 [==============================] - 0s 5ms/step - loss: 9.5428e-04 - accuracy: 1.0000 - mse: 6.1082e-06 - precision_2: 1.0000 - recall_2: 1.0000 - val_loss: 0.9090 - val_accuracy: 0.8095 - val_mse: 0.1835 - val_precision_2: 0.6923 - val_recall_2: 1.0000\n",
      "Epoch 21/100\n",
      "11/11 [==============================] - 0s 5ms/step - loss: 9.2998e-04 - accuracy: 1.0000 - mse: 5.7912e-06 - precision_2: 1.0000 - recall_2: 1.0000 - val_loss: 0.9114 - val_accuracy: 0.8095 - val_mse: 0.1837 - val_precision_2: 0.6923 - val_recall_2: 1.0000\n",
      "Epoch 22/100\n",
      "11/11 [==============================] - 0s 6ms/step - loss: 9.0287e-04 - accuracy: 1.0000 - mse: 5.3607e-06 - precision_2: 1.0000 - recall_2: 1.0000 - val_loss: 0.9148 - val_accuracy: 0.8095 - val_mse: 0.1840 - val_precision_2: 0.6923 - val_recall_2: 1.0000\n",
      "Epoch 23/100\n",
      "11/11 [==============================] - 0s 5ms/step - loss: 8.7641e-04 - accuracy: 1.0000 - mse: 5.1142e-06 - precision_2: 1.0000 - recall_2: 1.0000 - val_loss: 0.9209 - val_accuracy: 0.8095 - val_mse: 0.1842 - val_precision_2: 0.6923 - val_recall_2: 1.0000\n",
      "Epoch 24/100\n",
      "11/11 [==============================] - 0s 6ms/step - loss: 8.5041e-04 - accuracy: 1.0000 - mse: 4.8000e-06 - precision_2: 1.0000 - recall_2: 1.0000 - val_loss: 0.9237 - val_accuracy: 0.8095 - val_mse: 0.1844 - val_precision_2: 0.6923 - val_recall_2: 1.0000\n",
      "Epoch 25/100\n",
      "11/11 [==============================] - 0s 5ms/step - loss: 8.2750e-04 - accuracy: 1.0000 - mse: 4.5127e-06 - precision_2: 1.0000 - recall_2: 1.0000 - val_loss: 0.9262 - val_accuracy: 0.8095 - val_mse: 0.1844 - val_precision_2: 0.6923 - val_recall_2: 1.0000\n",
      "Epoch 26/100\n",
      "11/11 [==============================] - 0s 5ms/step - loss: 8.0329e-04 - accuracy: 1.0000 - mse: 4.2462e-06 - precision_2: 1.0000 - recall_2: 1.0000 - val_loss: 0.9286 - val_accuracy: 0.8095 - val_mse: 0.1843 - val_precision_2: 0.6923 - val_recall_2: 1.0000\n",
      "Epoch 27/100\n",
      "11/11 [==============================] - 0s 5ms/step - loss: 7.7993e-04 - accuracy: 1.0000 - mse: 3.9508e-06 - precision_2: 1.0000 - recall_2: 1.0000 - val_loss: 0.9322 - val_accuracy: 0.8095 - val_mse: 0.1845 - val_precision_2: 0.6923 - val_recall_2: 1.0000\n",
      "Epoch 28/100\n",
      "11/11 [==============================] - 0s 5ms/step - loss: 7.6044e-04 - accuracy: 1.0000 - mse: 3.7920e-06 - precision_2: 1.0000 - recall_2: 1.0000 - val_loss: 0.9380 - val_accuracy: 0.8095 - val_mse: 0.1846 - val_precision_2: 0.6923 - val_recall_2: 1.0000\n",
      "Epoch 29/100\n",
      "11/11 [==============================] - 0s 8ms/step - loss: 7.3959e-04 - accuracy: 1.0000 - mse: 3.5756e-06 - precision_2: 1.0000 - recall_2: 1.0000 - val_loss: 0.9416 - val_accuracy: 0.8095 - val_mse: 0.1847 - val_precision_2: 0.6923 - val_recall_2: 1.0000\n",
      "Epoch 30/100\n",
      "11/11 [==============================] - 0s 5ms/step - loss: 7.2093e-04 - accuracy: 1.0000 - mse: 3.3883e-06 - precision_2: 1.0000 - recall_2: 1.0000 - val_loss: 0.9434 - val_accuracy: 0.8095 - val_mse: 0.1847 - val_precision_2: 0.6923 - val_recall_2: 1.0000\n",
      "Epoch 31/100\n",
      "11/11 [==============================] - 0s 6ms/step - loss: 7.0186e-04 - accuracy: 1.0000 - mse: 3.2062e-06 - precision_2: 1.0000 - recall_2: 1.0000 - val_loss: 0.9462 - val_accuracy: 0.8095 - val_mse: 0.1847 - val_precision_2: 0.6923 - val_recall_2: 1.0000\n",
      "Epoch 32/100\n",
      "11/11 [==============================] - 0s 6ms/step - loss: 6.8511e-04 - accuracy: 1.0000 - mse: 3.0546e-06 - precision_2: 1.0000 - recall_2: 1.0000 - val_loss: 0.9489 - val_accuracy: 0.8095 - val_mse: 0.1847 - val_precision_2: 0.6923 - val_recall_2: 1.0000\n",
      "Epoch 33/100\n",
      "11/11 [==============================] - 0s 6ms/step - loss: 6.6874e-04 - accuracy: 1.0000 - mse: 2.8895e-06 - precision_2: 1.0000 - recall_2: 1.0000 - val_loss: 0.9508 - val_accuracy: 0.8095 - val_mse: 0.1848 - val_precision_2: 0.6923 - val_recall_2: 1.0000\n",
      "Epoch 34/100\n",
      "11/11 [==============================] - 0s 6ms/step - loss: 6.5144e-04 - accuracy: 1.0000 - mse: 2.7432e-06 - precision_2: 1.0000 - recall_2: 1.0000 - val_loss: 0.9519 - val_accuracy: 0.8095 - val_mse: 0.1849 - val_precision_2: 0.6923 - val_recall_2: 1.0000\n",
      "Epoch 35/100\n",
      "11/11 [==============================] - 0s 5ms/step - loss: 6.3679e-04 - accuracy: 1.0000 - mse: 2.6098e-06 - precision_2: 1.0000 - recall_2: 1.0000 - val_loss: 0.9523 - val_accuracy: 0.8095 - val_mse: 0.1847 - val_precision_2: 0.6923 - val_recall_2: 1.0000\n",
      "Epoch 36/100\n",
      "11/11 [==============================] - 0s 5ms/step - loss: 6.2194e-04 - accuracy: 1.0000 - mse: 2.5059e-06 - precision_2: 1.0000 - recall_2: 1.0000 - val_loss: 0.9549 - val_accuracy: 0.8095 - val_mse: 0.1846 - val_precision_2: 0.6923 - val_recall_2: 1.0000\n",
      "Epoch 37/100\n",
      "11/11 [==============================] - 0s 5ms/step - loss: 6.0691e-04 - accuracy: 1.0000 - mse: 2.3678e-06 - precision_2: 1.0000 - recall_2: 1.0000 - val_loss: 0.9602 - val_accuracy: 0.8095 - val_mse: 0.1849 - val_precision_2: 0.6923 - val_recall_2: 1.0000\n",
      "Epoch 38/100\n",
      "11/11 [==============================] - 0s 5ms/step - loss: 5.9286e-04 - accuracy: 1.0000 - mse: 2.2548e-06 - precision_2: 1.0000 - recall_2: 1.0000 - val_loss: 0.9619 - val_accuracy: 0.8095 - val_mse: 0.1849 - val_precision_2: 0.6923 - val_recall_2: 1.0000\n",
      "Epoch 39/100\n",
      "11/11 [==============================] - 0s 6ms/step - loss: 5.7933e-04 - accuracy: 1.0000 - mse: 2.1616e-06 - precision_2: 1.0000 - recall_2: 1.0000 - val_loss: 0.9668 - val_accuracy: 0.8095 - val_mse: 0.1849 - val_precision_2: 0.6923 - val_recall_2: 1.0000\n",
      "Epoch 40/100\n",
      "11/11 [==============================] - 0s 5ms/step - loss: 5.6588e-04 - accuracy: 1.0000 - mse: 2.0606e-06 - precision_2: 1.0000 - recall_2: 1.0000 - val_loss: 0.9704 - val_accuracy: 0.8095 - val_mse: 0.1849 - val_precision_2: 0.6923 - val_recall_2: 1.0000\n",
      "Epoch 41/100\n",
      "11/11 [==============================] - 0s 6ms/step - loss: 5.5416e-04 - accuracy: 1.0000 - mse: 1.9778e-06 - precision_2: 1.0000 - recall_2: 1.0000 - val_loss: 0.9714 - val_accuracy: 0.8095 - val_mse: 0.1849 - val_precision_2: 0.6923 - val_recall_2: 1.0000\n",
      "Epoch 42/100\n",
      "11/11 [==============================] - 0s 6ms/step - loss: 5.3973e-04 - accuracy: 1.0000 - mse: 1.8728e-06 - precision_2: 1.0000 - recall_2: 1.0000 - val_loss: 0.9739 - val_accuracy: 0.8095 - val_mse: 0.1849 - val_precision_2: 0.6923 - val_recall_2: 1.0000\n",
      "Epoch 43/100\n",
      "11/11 [==============================] - 0s 6ms/step - loss: 5.2706e-04 - accuracy: 1.0000 - mse: 1.7788e-06 - precision_2: 1.0000 - recall_2: 1.0000 - val_loss: 0.9773 - val_accuracy: 0.8095 - val_mse: 0.1850 - val_precision_2: 0.6923 - val_recall_2: 1.0000\n",
      "Epoch 44/100\n",
      "11/11 [==============================] - 0s 5ms/step - loss: 5.1657e-04 - accuracy: 1.0000 - mse: 1.7132e-06 - precision_2: 1.0000 - recall_2: 1.0000 - val_loss: 0.9805 - val_accuracy: 0.8095 - val_mse: 0.1851 - val_precision_2: 0.6923 - val_recall_2: 1.0000\n",
      "Epoch 45/100\n",
      "11/11 [==============================] - 0s 6ms/step - loss: 5.0453e-04 - accuracy: 1.0000 - mse: 1.6300e-06 - precision_2: 1.0000 - recall_2: 1.0000 - val_loss: 0.9833 - val_accuracy: 0.8095 - val_mse: 0.1852 - val_precision_2: 0.6923 - val_recall_2: 1.0000\n",
      "Epoch 46/100\n",
      "11/11 [==============================] - 0s 5ms/step - loss: 4.9437e-04 - accuracy: 1.0000 - mse: 1.5730e-06 - precision_2: 1.0000 - recall_2: 1.0000 - val_loss: 0.9815 - val_accuracy: 0.8095 - val_mse: 0.1851 - val_precision_2: 0.6923 - val_recall_2: 1.0000\n",
      "Epoch 47/100\n",
      "11/11 [==============================] - 0s 5ms/step - loss: 4.8262e-04 - accuracy: 1.0000 - mse: 1.4877e-06 - precision_2: 1.0000 - recall_2: 1.0000 - val_loss: 0.9823 - val_accuracy: 0.8095 - val_mse: 0.1851 - val_precision_2: 0.6923 - val_recall_2: 1.0000\n",
      "Epoch 48/100\n",
      "11/11 [==============================] - 0s 5ms/step - loss: 4.7115e-04 - accuracy: 1.0000 - mse: 1.4207e-06 - precision_2: 1.0000 - recall_2: 1.0000 - val_loss: 0.9846 - val_accuracy: 0.8095 - val_mse: 0.1851 - val_precision_2: 0.6923 - val_recall_2: 1.0000\n",
      "Epoch 49/100\n",
      "11/11 [==============================] - 0s 5ms/step - loss: 4.6209e-04 - accuracy: 1.0000 - mse: 1.3649e-06 - precision_2: 1.0000 - recall_2: 1.0000 - val_loss: 0.9860 - val_accuracy: 0.8095 - val_mse: 0.1852 - val_precision_2: 0.6923 - val_recall_2: 1.0000\n",
      "Epoch 50/100\n",
      "11/11 [==============================] - 0s 6ms/step - loss: 4.5115e-04 - accuracy: 1.0000 - mse: 1.2980e-06 - precision_2: 1.0000 - recall_2: 1.0000 - val_loss: 0.9887 - val_accuracy: 0.8095 - val_mse: 0.1851 - val_precision_2: 0.6923 - val_recall_2: 1.0000\n",
      "Epoch 51/100\n",
      "11/11 [==============================] - 0s 6ms/step - loss: 4.4207e-04 - accuracy: 1.0000 - mse: 1.2438e-06 - precision_2: 1.0000 - recall_2: 1.0000 - val_loss: 0.9911 - val_accuracy: 0.8095 - val_mse: 0.1852 - val_precision_2: 0.6923 - val_recall_2: 1.0000\n",
      "Epoch 52/100\n",
      "11/11 [==============================] - 0s 6ms/step - loss: 4.3371e-04 - accuracy: 1.0000 - mse: 1.1995e-06 - precision_2: 1.0000 - recall_2: 1.0000 - val_loss: 0.9944 - val_accuracy: 0.8095 - val_mse: 0.1851 - val_precision_2: 0.6923 - val_recall_2: 1.0000\n",
      "Epoch 53/100\n",
      "11/11 [==============================] - 0s 6ms/step - loss: 4.2425e-04 - accuracy: 1.0000 - mse: 1.1474e-06 - precision_2: 1.0000 - recall_2: 1.0000 - val_loss: 0.9948 - val_accuracy: 0.8095 - val_mse: 0.1852 - val_precision_2: 0.6923 - val_recall_2: 1.0000\n",
      "Epoch 54/100\n",
      "11/11 [==============================] - 0s 5ms/step - loss: 4.1496e-04 - accuracy: 1.0000 - mse: 1.0989e-06 - precision_2: 1.0000 - recall_2: 1.0000 - val_loss: 0.9960 - val_accuracy: 0.8095 - val_mse: 0.1853 - val_precision_2: 0.6923 - val_recall_2: 1.0000\n",
      "Epoch 55/100\n",
      "11/11 [==============================] - 0s 5ms/step - loss: 4.0607e-04 - accuracy: 1.0000 - mse: 1.0445e-06 - precision_2: 1.0000 - recall_2: 1.0000 - val_loss: 0.9934 - val_accuracy: 0.8095 - val_mse: 0.1849 - val_precision_2: 0.6923 - val_recall_2: 1.0000\n",
      "Epoch 56/100\n",
      "11/11 [==============================] - 0s 5ms/step - loss: 3.9911e-04 - accuracy: 1.0000 - mse: 1.0132e-06 - precision_2: 1.0000 - recall_2: 1.0000 - val_loss: 0.9929 - val_accuracy: 0.8095 - val_mse: 0.1849 - val_precision_2: 0.6923 - val_recall_2: 1.0000\n",
      "Epoch 57/100\n",
      "11/11 [==============================] - 0s 5ms/step - loss: 3.8987e-04 - accuracy: 1.0000 - mse: 9.5827e-07 - precision_2: 1.0000 - recall_2: 1.0000 - val_loss: 0.9974 - val_accuracy: 0.8095 - val_mse: 0.1850 - val_precision_2: 0.6923 - val_recall_2: 1.0000\n",
      "Epoch 58/100\n",
      "11/11 [==============================] - 0s 5ms/step - loss: 3.8175e-04 - accuracy: 1.0000 - mse: 9.2305e-07 - precision_2: 1.0000 - recall_2: 1.0000 - val_loss: 1.0023 - val_accuracy: 0.8095 - val_mse: 0.1852 - val_precision_2: 0.6923 - val_recall_2: 1.0000\n",
      "Epoch 59/100\n",
      "11/11 [==============================] - 0s 6ms/step - loss: 3.7428e-04 - accuracy: 1.0000 - mse: 8.8372e-07 - precision_2: 1.0000 - recall_2: 1.0000 - val_loss: 1.0047 - val_accuracy: 0.8095 - val_mse: 0.1852 - val_precision_2: 0.6923 - val_recall_2: 1.0000\n",
      "Epoch 60/100\n",
      "11/11 [==============================] - 0s 5ms/step - loss: 3.6630e-04 - accuracy: 1.0000 - mse: 8.4463e-07 - precision_2: 1.0000 - recall_2: 1.0000 - val_loss: 1.0062 - val_accuracy: 0.8095 - val_mse: 0.1853 - val_precision_2: 0.6923 - val_recall_2: 1.0000\n",
      "Epoch 61/100\n",
      "11/11 [==============================] - 0s 6ms/step - loss: 3.5884e-04 - accuracy: 1.0000 - mse: 8.0996e-07 - precision_2: 1.0000 - recall_2: 1.0000 - val_loss: 1.0077 - val_accuracy: 0.8095 - val_mse: 0.1852 - val_precision_2: 0.6923 - val_recall_2: 1.0000\n",
      "Epoch 62/100\n",
      "11/11 [==============================] - 0s 6ms/step - loss: 3.5054e-04 - accuracy: 1.0000 - mse: 7.6735e-07 - precision_2: 1.0000 - recall_2: 1.0000 - val_loss: 1.0090 - val_accuracy: 0.8095 - val_mse: 0.1853 - val_precision_2: 0.6923 - val_recall_2: 1.0000\n",
      "Epoch 63/100\n",
      "11/11 [==============================] - 0s 7ms/step - loss: 3.4384e-04 - accuracy: 1.0000 - mse: 7.3892e-07 - precision_2: 1.0000 - recall_2: 1.0000 - val_loss: 1.0080 - val_accuracy: 0.8095 - val_mse: 0.1853 - val_precision_2: 0.6923 - val_recall_2: 1.0000\n",
      "Epoch 64/100\n",
      "11/11 [==============================] - 0s 8ms/step - loss: 3.3719e-04 - accuracy: 1.0000 - mse: 7.1260e-07 - precision_2: 1.0000 - recall_2: 1.0000 - val_loss: 1.0092 - val_accuracy: 0.8095 - val_mse: 0.1853 - val_precision_2: 0.6923 - val_recall_2: 1.0000\n",
      "Epoch 65/100\n",
      "11/11 [==============================] - 0s 6ms/step - loss: 3.3087e-04 - accuracy: 1.0000 - mse: 6.8248e-07 - precision_2: 1.0000 - recall_2: 1.0000 - val_loss: 1.0114 - val_accuracy: 0.8095 - val_mse: 0.1854 - val_precision_2: 0.6923 - val_recall_2: 1.0000\n",
      "Epoch 66/100\n",
      "11/11 [==============================] - 0s 6ms/step - loss: 3.2560e-04 - accuracy: 1.0000 - mse: 6.6115e-07 - precision_2: 1.0000 - recall_2: 1.0000 - val_loss: 1.0129 - val_accuracy: 0.8095 - val_mse: 0.1854 - val_precision_2: 0.6923 - val_recall_2: 1.0000\n",
      "Epoch 67/100\n",
      "11/11 [==============================] - 0s 5ms/step - loss: 3.1885e-04 - accuracy: 1.0000 - mse: 6.3301e-07 - precision_2: 1.0000 - recall_2: 1.0000 - val_loss: 1.0151 - val_accuracy: 0.8095 - val_mse: 0.1854 - val_precision_2: 0.6923 - val_recall_2: 1.0000\n",
      "Epoch 68/100\n",
      "11/11 [==============================] - 0s 5ms/step - loss: 3.1268e-04 - accuracy: 1.0000 - mse: 6.0804e-07 - precision_2: 1.0000 - recall_2: 1.0000 - val_loss: 1.0178 - val_accuracy: 0.8095 - val_mse: 0.1855 - val_precision_2: 0.6923 - val_recall_2: 1.0000\n",
      "Epoch 69/100\n",
      "11/11 [==============================] - 0s 5ms/step - loss: 3.0780e-04 - accuracy: 1.0000 - mse: 5.9197e-07 - precision_2: 1.0000 - recall_2: 1.0000 - val_loss: 1.0188 - val_accuracy: 0.8095 - val_mse: 0.1854 - val_precision_2: 0.6923 - val_recall_2: 1.0000\n",
      "Epoch 70/100\n",
      "11/11 [==============================] - 0s 5ms/step - loss: 3.0265e-04 - accuracy: 1.0000 - mse: 5.7245e-07 - precision_2: 1.0000 - recall_2: 1.0000 - val_loss: 1.0210 - val_accuracy: 0.8095 - val_mse: 0.1855 - val_precision_2: 0.6923 - val_recall_2: 1.0000\n",
      "Epoch 71/100\n",
      "11/11 [==============================] - 0s 6ms/step - loss: 2.9617e-04 - accuracy: 1.0000 - mse: 5.4551e-07 - precision_2: 1.0000 - recall_2: 1.0000 - val_loss: 1.0236 - val_accuracy: 0.8095 - val_mse: 0.1856 - val_precision_2: 0.6923 - val_recall_2: 1.0000\n",
      "Epoch 72/100\n",
      "11/11 [==============================] - 0s 6ms/step - loss: 2.9205e-04 - accuracy: 1.0000 - mse: 5.3067e-07 - precision_2: 1.0000 - recall_2: 1.0000 - val_loss: 1.0251 - val_accuracy: 0.8095 - val_mse: 0.1855 - val_precision_2: 0.6923 - val_recall_2: 1.0000\n",
      "Epoch 73/100\n",
      "11/11 [==============================] - 0s 5ms/step - loss: 2.8665e-04 - accuracy: 1.0000 - mse: 5.0893e-07 - precision_2: 1.0000 - recall_2: 1.0000 - val_loss: 1.0268 - val_accuracy: 0.8095 - val_mse: 0.1856 - val_precision_2: 0.6923 - val_recall_2: 1.0000\n",
      "Epoch 74/100\n",
      "11/11 [==============================] - 0s 6ms/step - loss: 2.8175e-04 - accuracy: 1.0000 - mse: 4.9402e-07 - precision_2: 1.0000 - recall_2: 1.0000 - val_loss: 1.0278 - val_accuracy: 0.8095 - val_mse: 0.1858 - val_precision_2: 0.6923 - val_recall_2: 1.0000\n",
      "Epoch 75/100\n",
      "11/11 [==============================] - 0s 5ms/step - loss: 2.7599e-04 - accuracy: 1.0000 - mse: 4.7267e-07 - precision_2: 1.0000 - recall_2: 1.0000 - val_loss: 1.0296 - val_accuracy: 0.8095 - val_mse: 0.1858 - val_precision_2: 0.6923 - val_recall_2: 1.0000\n",
      "Epoch 76/100\n",
      "11/11 [==============================] - 0s 6ms/step - loss: 2.7220e-04 - accuracy: 1.0000 - mse: 4.6223e-07 - precision_2: 1.0000 - recall_2: 1.0000 - val_loss: 1.0306 - val_accuracy: 0.8095 - val_mse: 0.1859 - val_precision_2: 0.6923 - val_recall_2: 1.0000\n",
      "Epoch 77/100\n",
      "11/11 [==============================] - 0s 6ms/step - loss: 2.6654e-04 - accuracy: 1.0000 - mse: 4.3937e-07 - precision_2: 1.0000 - recall_2: 1.0000 - val_loss: 1.0321 - val_accuracy: 0.8095 - val_mse: 0.1858 - val_precision_2: 0.6923 - val_recall_2: 1.0000\n",
      "Epoch 78/100\n",
      "11/11 [==============================] - 0s 5ms/step - loss: 2.6234e-04 - accuracy: 1.0000 - mse: 4.2683e-07 - precision_2: 1.0000 - recall_2: 1.0000 - val_loss: 1.0329 - val_accuracy: 0.8095 - val_mse: 0.1858 - val_precision_2: 0.6923 - val_recall_2: 1.0000\n",
      "Epoch 79/100\n",
      "11/11 [==============================] - 0s 5ms/step - loss: 2.5780e-04 - accuracy: 1.0000 - mse: 4.1139e-07 - precision_2: 1.0000 - recall_2: 1.0000 - val_loss: 1.0346 - val_accuracy: 0.8095 - val_mse: 0.1858 - val_precision_2: 0.6923 - val_recall_2: 1.0000\n",
      "Epoch 80/100\n",
      "11/11 [==============================] - 0s 5ms/step - loss: 2.5384e-04 - accuracy: 1.0000 - mse: 3.9860e-07 - precision_2: 1.0000 - recall_2: 1.0000 - val_loss: 1.0358 - val_accuracy: 0.8095 - val_mse: 0.1858 - val_precision_2: 0.6923 - val_recall_2: 1.0000\n",
      "Epoch 81/100\n",
      "11/11 [==============================] - 0s 5ms/step - loss: 2.5037e-04 - accuracy: 1.0000 - mse: 3.8839e-07 - precision_2: 1.0000 - recall_2: 1.0000 - val_loss: 1.0407 - val_accuracy: 0.8095 - val_mse: 0.1859 - val_precision_2: 0.6923 - val_recall_2: 1.0000\n",
      "Epoch 82/100\n",
      "11/11 [==============================] - 0s 5ms/step - loss: 2.4526e-04 - accuracy: 1.0000 - mse: 3.7141e-07 - precision_2: 1.0000 - recall_2: 1.0000 - val_loss: 1.0414 - val_accuracy: 0.8095 - val_mse: 0.1858 - val_precision_2: 0.6923 - val_recall_2: 1.0000\n",
      "Epoch 83/100\n",
      "11/11 [==============================] - 0s 5ms/step - loss: 2.4112e-04 - accuracy: 1.0000 - mse: 3.5936e-07 - precision_2: 1.0000 - recall_2: 1.0000 - val_loss: 1.0420 - val_accuracy: 0.8095 - val_mse: 0.1859 - val_precision_2: 0.6923 - val_recall_2: 1.0000\n",
      "Epoch 84/100\n",
      "11/11 [==============================] - 0s 5ms/step - loss: 2.3633e-04 - accuracy: 1.0000 - mse: 3.4388e-07 - precision_2: 1.0000 - recall_2: 1.0000 - val_loss: 1.0434 - val_accuracy: 0.8095 - val_mse: 0.1858 - val_precision_2: 0.6923 - val_recall_2: 1.0000\n",
      "Epoch 85/100\n",
      "11/11 [==============================] - 0s 5ms/step - loss: 2.3267e-04 - accuracy: 1.0000 - mse: 3.3263e-07 - precision_2: 1.0000 - recall_2: 1.0000 - val_loss: 1.0445 - val_accuracy: 0.8095 - val_mse: 0.1858 - val_precision_2: 0.6923 - val_recall_2: 1.0000\n",
      "Epoch 86/100\n",
      "11/11 [==============================] - 0s 6ms/step - loss: 2.2945e-04 - accuracy: 1.0000 - mse: 3.2421e-07 - precision_2: 1.0000 - recall_2: 1.0000 - val_loss: 1.0485 - val_accuracy: 0.8095 - val_mse: 0.1860 - val_precision_2: 0.6923 - val_recall_2: 1.0000\n",
      "Epoch 87/100\n",
      "11/11 [==============================] - 0s 6ms/step - loss: 2.2511e-04 - accuracy: 1.0000 - mse: 3.1217e-07 - precision_2: 1.0000 - recall_2: 1.0000 - val_loss: 1.0511 - val_accuracy: 0.8095 - val_mse: 0.1860 - val_precision_2: 0.6923 - val_recall_2: 1.0000\n",
      "Epoch 88/100\n",
      "11/11 [==============================] - 0s 5ms/step - loss: 2.2129e-04 - accuracy: 1.0000 - mse: 3.0124e-07 - precision_2: 1.0000 - recall_2: 1.0000 - val_loss: 1.0528 - val_accuracy: 0.8095 - val_mse: 0.1860 - val_precision_2: 0.6923 - val_recall_2: 1.0000\n",
      "Epoch 89/100\n",
      "11/11 [==============================] - 0s 6ms/step - loss: 2.1714e-04 - accuracy: 1.0000 - mse: 2.8964e-07 - precision_2: 1.0000 - recall_2: 1.0000 - val_loss: 1.0540 - val_accuracy: 0.8095 - val_mse: 0.1860 - val_precision_2: 0.6923 - val_recall_2: 1.0000\n",
      "Epoch 90/100\n",
      "11/11 [==============================] - 0s 5ms/step - loss: 2.1404e-04 - accuracy: 1.0000 - mse: 2.8164e-07 - precision_2: 1.0000 - recall_2: 1.0000 - val_loss: 1.0545 - val_accuracy: 0.8095 - val_mse: 0.1861 - val_precision_2: 0.6923 - val_recall_2: 1.0000\n",
      "Epoch 91/100\n",
      "11/11 [==============================] - 0s 6ms/step - loss: 2.1033e-04 - accuracy: 1.0000 - mse: 2.7310e-07 - precision_2: 1.0000 - recall_2: 1.0000 - val_loss: 1.0560 - val_accuracy: 0.8095 - val_mse: 0.1861 - val_precision_2: 0.6923 - val_recall_2: 1.0000\n",
      "Epoch 92/100\n",
      "11/11 [==============================] - 0s 6ms/step - loss: 2.0680e-04 - accuracy: 1.0000 - mse: 2.6340e-07 - precision_2: 1.0000 - recall_2: 1.0000 - val_loss: 1.0571 - val_accuracy: 0.8095 - val_mse: 0.1861 - val_precision_2: 0.6923 - val_recall_2: 1.0000\n",
      "Epoch 93/100\n",
      "11/11 [==============================] - 0s 5ms/step - loss: 2.0364e-04 - accuracy: 1.0000 - mse: 2.5579e-07 - precision_2: 1.0000 - recall_2: 1.0000 - val_loss: 1.0582 - val_accuracy: 0.8095 - val_mse: 0.1861 - val_precision_2: 0.6923 - val_recall_2: 1.0000\n",
      "Epoch 94/100\n",
      "11/11 [==============================] - 0s 6ms/step - loss: 2.0084e-04 - accuracy: 1.0000 - mse: 2.4766e-07 - precision_2: 1.0000 - recall_2: 1.0000 - val_loss: 1.0599 - val_accuracy: 0.8095 - val_mse: 0.1862 - val_precision_2: 0.6923 - val_recall_2: 1.0000\n",
      "Epoch 95/100\n",
      "11/11 [==============================] - 0s 6ms/step - loss: 1.9763e-04 - accuracy: 1.0000 - mse: 2.4060e-07 - precision_2: 1.0000 - recall_2: 1.0000 - val_loss: 1.0605 - val_accuracy: 0.8095 - val_mse: 0.1861 - val_precision_2: 0.6923 - val_recall_2: 1.0000\n",
      "Epoch 96/100\n",
      "11/11 [==============================] - 0s 5ms/step - loss: 1.9352e-04 - accuracy: 1.0000 - mse: 2.2935e-07 - precision_2: 1.0000 - recall_2: 1.0000 - val_loss: 1.0636 - val_accuracy: 0.8095 - val_mse: 0.1862 - val_precision_2: 0.6923 - val_recall_2: 1.0000\n",
      "Epoch 97/100\n",
      "11/11 [==============================] - 0s 5ms/step - loss: 1.9114e-04 - accuracy: 1.0000 - mse: 2.2381e-07 - precision_2: 1.0000 - recall_2: 1.0000 - val_loss: 1.0651 - val_accuracy: 0.8095 - val_mse: 0.1863 - val_precision_2: 0.6923 - val_recall_2: 1.0000\n",
      "Epoch 98/100\n",
      "11/11 [==============================] - 0s 6ms/step - loss: 1.8837e-04 - accuracy: 1.0000 - mse: 2.1762e-07 - precision_2: 1.0000 - recall_2: 1.0000 - val_loss: 1.0676 - val_accuracy: 0.8095 - val_mse: 0.1863 - val_precision_2: 0.6923 - val_recall_2: 1.0000\n",
      "Epoch 99/100\n",
      "11/11 [==============================] - 0s 5ms/step - loss: 1.8473e-04 - accuracy: 1.0000 - mse: 2.0896e-07 - precision_2: 1.0000 - recall_2: 1.0000 - val_loss: 1.0692 - val_accuracy: 0.8095 - val_mse: 0.1863 - val_precision_2: 0.6923 - val_recall_2: 1.0000\n",
      "Epoch 100/100\n",
      "11/11 [==============================] - 0s 6ms/step - loss: 1.8203e-04 - accuracy: 1.0000 - mse: 2.0297e-07 - precision_2: 1.0000 - recall_2: 1.0000 - val_loss: 1.0704 - val_accuracy: 0.8095 - val_mse: 0.1863 - val_precision_2: 0.6923 - val_recall_2: 1.0000\n"
     ]
    },
    {
     "name": "stderr",
     "output_type": "stream",
     "text": [
      "WARNING:absl:Found untraced functions such as _update_step_xla while saving (showing 1 of 1). These functions will not be directly callable after loading.\n"
     ]
    },
    {
     "name": "stdout",
     "output_type": "stream",
     "text": [
      "INFO:tensorflow:Assets written to: ./model1\\assets\n"
     ]
    },
    {
     "name": "stderr",
     "output_type": "stream",
     "text": [
      "INFO:tensorflow:Assets written to: ./model1\\assets\n"
     ]
    }
   ],
   "source": [
    "\n",
    "w = wandb.init(project='zadanie1',reinit=True)\n",
    "w.config.epochs = 100\n",
    "w.config.batch_size = 16\n",
    "\n",
    "\n",
    "\n",
    "fitModel(tf_model1, 'model1', [WandbCallback()])"
   ]
  },
  {
   "cell_type": "code",
   "execution_count": 71,
   "id": "1723e113",
   "metadata": {
    "scrolled": true,
    "tags": []
   },
   "outputs": [
    {
     "name": "stdout",
     "output_type": "stream",
     "text": [
      "Epoch 1/100\n",
      "11/11 [==============================] - 0s 10ms/step - loss: 0.0263 - accuracy: 0.9940 - mse: 0.0064 - precision_2: 1.0000 - recall_2: 0.9890 - val_loss: 2.1222 - val_accuracy: 0.7619 - val_mse: 0.2226 - val_precision_2: 0.7000 - val_recall_2: 0.7778\n",
      "Epoch 2/100\n",
      "11/11 [==============================] - 0s 5ms/step - loss: 0.0623 - accuracy: 0.9819 - mse: 0.0185 - precision_2: 0.9681 - recall_2: 1.0000 - val_loss: 2.1139 - val_accuracy: 0.7619 - val_mse: 0.2229 - val_precision_2: 0.7000 - val_recall_2: 0.7778\n",
      "Epoch 3/100\n",
      "11/11 [==============================] - 0s 5ms/step - loss: 0.0556 - accuracy: 0.9819 - mse: 0.0160 - precision_2: 0.9681 - recall_2: 1.0000 - val_loss: 2.0593 - val_accuracy: 0.7619 - val_mse: 0.2223 - val_precision_2: 0.7000 - val_recall_2: 0.7778\n",
      "Epoch 4/100\n",
      "11/11 [==============================] - 0s 6ms/step - loss: 0.0974 - accuracy: 0.9639 - mse: 0.0303 - precision_2: 0.9474 - recall_2: 0.9890 - val_loss: 1.9347 - val_accuracy: 0.7619 - val_mse: 0.2140 - val_precision_2: 0.7000 - val_recall_2: 0.7778\n",
      "Epoch 5/100\n",
      "11/11 [==============================] - 0s 6ms/step - loss: 0.0723 - accuracy: 0.9759 - mse: 0.0228 - precision_2: 0.9579 - recall_2: 1.0000 - val_loss: 1.8744 - val_accuracy: 0.7619 - val_mse: 0.2080 - val_precision_2: 0.7000 - val_recall_2: 0.7778\n",
      "Epoch 6/100\n",
      "11/11 [==============================] - 0s 6ms/step - loss: 0.0882 - accuracy: 0.9578 - mse: 0.0283 - precision_2: 0.9375 - recall_2: 0.9890 - val_loss: 1.8772 - val_accuracy: 0.7619 - val_mse: 0.2081 - val_precision_2: 0.7000 - val_recall_2: 0.7778\n",
      "Epoch 7/100\n",
      "11/11 [==============================] - 0s 5ms/step - loss: 0.0375 - accuracy: 0.9880 - mse: 0.0095 - precision_2: 0.9890 - recall_2: 0.9890 - val_loss: 1.9094 - val_accuracy: 0.7619 - val_mse: 0.2088 - val_precision_2: 0.7000 - val_recall_2: 0.7778\n",
      "Epoch 8/100\n",
      "11/11 [==============================] - 0s 6ms/step - loss: 0.0378 - accuracy: 0.9940 - mse: 0.0091 - precision_2: 0.9891 - recall_2: 1.0000 - val_loss: 1.9210 - val_accuracy: 0.7619 - val_mse: 0.2070 - val_precision_2: 0.7000 - val_recall_2: 0.7778\n",
      "Epoch 9/100\n",
      "11/11 [==============================] - 0s 5ms/step - loss: 0.0749 - accuracy: 0.9699 - mse: 0.0227 - precision_2: 0.9674 - recall_2: 0.9780 - val_loss: 1.9824 - val_accuracy: 0.7619 - val_mse: 0.2133 - val_precision_2: 0.7000 - val_recall_2: 0.7778\n",
      "Epoch 10/100\n",
      "11/11 [==============================] - 0s 5ms/step - loss: 0.0448 - accuracy: 0.9880 - mse: 0.0117 - precision_2: 0.9890 - recall_2: 0.9890 - val_loss: 2.0443 - val_accuracy: 0.7619 - val_mse: 0.2170 - val_precision_2: 0.7000 - val_recall_2: 0.7778\n",
      "Epoch 11/100\n",
      "11/11 [==============================] - 0s 6ms/step - loss: 0.0422 - accuracy: 0.9880 - mse: 0.0111 - precision_2: 0.9785 - recall_2: 1.0000 - val_loss: 2.0629 - val_accuracy: 0.7619 - val_mse: 0.2176 - val_precision_2: 0.7000 - val_recall_2: 0.7778\n",
      "Epoch 12/100\n",
      "11/11 [==============================] - 0s 5ms/step - loss: 0.0837 - accuracy: 0.9699 - mse: 0.0251 - precision_2: 0.9574 - recall_2: 0.9890 - val_loss: 2.0967 - val_accuracy: 0.7619 - val_mse: 0.2184 - val_precision_2: 0.7000 - val_recall_2: 0.7778\n",
      "Epoch 13/100\n",
      "11/11 [==============================] - 0s 6ms/step - loss: 0.0649 - accuracy: 0.9699 - mse: 0.0190 - precision_2: 0.9574 - recall_2: 0.9890 - val_loss: 2.1593 - val_accuracy: 0.7619 - val_mse: 0.2190 - val_precision_2: 0.7000 - val_recall_2: 0.7778\n",
      "Epoch 14/100\n",
      "11/11 [==============================] - 0s 5ms/step - loss: 0.0442 - accuracy: 0.9880 - mse: 0.0119 - precision_2: 0.9890 - recall_2: 0.9890 - val_loss: 2.2148 - val_accuracy: 0.7619 - val_mse: 0.2207 - val_precision_2: 0.7000 - val_recall_2: 0.7778\n",
      "Epoch 15/100\n",
      "11/11 [==============================] - 0s 5ms/step - loss: 0.0783 - accuracy: 0.9699 - mse: 0.0253 - precision_2: 0.9479 - recall_2: 1.0000 - val_loss: 2.2273 - val_accuracy: 0.7619 - val_mse: 0.2220 - val_precision_2: 0.7000 - val_recall_2: 0.7778\n",
      "Epoch 16/100\n",
      "11/11 [==============================] - 0s 5ms/step - loss: 0.0767 - accuracy: 0.9639 - mse: 0.0247 - precision_2: 0.9381 - recall_2: 1.0000 - val_loss: 2.2037 - val_accuracy: 0.7619 - val_mse: 0.2215 - val_precision_2: 0.7000 - val_recall_2: 0.7778\n",
      "Epoch 17/100\n",
      "11/11 [==============================] - 0s 5ms/step - loss: 0.0508 - accuracy: 0.9819 - mse: 0.0136 - precision_2: 0.9783 - recall_2: 0.9890 - val_loss: 2.1877 - val_accuracy: 0.7619 - val_mse: 0.2212 - val_precision_2: 0.7000 - val_recall_2: 0.7778\n",
      "Epoch 18/100\n",
      "11/11 [==============================] - 0s 6ms/step - loss: 0.0681 - accuracy: 0.9759 - mse: 0.0205 - precision_2: 0.9579 - recall_2: 1.0000 - val_loss: 2.2098 - val_accuracy: 0.7619 - val_mse: 0.2215 - val_precision_2: 0.7000 - val_recall_2: 0.7778\n",
      "Epoch 19/100\n",
      "11/11 [==============================] - 0s 6ms/step - loss: 0.0392 - accuracy: 0.9940 - mse: 0.0093 - precision_2: 0.9891 - recall_2: 1.0000 - val_loss: 2.2272 - val_accuracy: 0.7619 - val_mse: 0.2225 - val_precision_2: 0.7000 - val_recall_2: 0.7778\n",
      "Epoch 20/100\n",
      "11/11 [==============================] - 0s 6ms/step - loss: 0.0630 - accuracy: 0.9699 - mse: 0.0203 - precision_2: 0.9479 - recall_2: 1.0000 - val_loss: 2.2512 - val_accuracy: 0.7619 - val_mse: 0.2231 - val_precision_2: 0.7000 - val_recall_2: 0.7778\n",
      "Epoch 21/100\n",
      "11/11 [==============================] - 0s 5ms/step - loss: 0.0703 - accuracy: 0.9759 - mse: 0.0212 - precision_2: 0.9579 - recall_2: 1.0000 - val_loss: 2.2522 - val_accuracy: 0.7619 - val_mse: 0.2231 - val_precision_2: 0.7000 - val_recall_2: 0.7778\n",
      "Epoch 22/100\n",
      "11/11 [==============================] - 0s 5ms/step - loss: 0.0199 - accuracy: 1.0000 - mse: 0.0030 - precision_2: 1.0000 - recall_2: 1.0000 - val_loss: 2.2664 - val_accuracy: 0.7619 - val_mse: 0.2229 - val_precision_2: 0.7000 - val_recall_2: 0.7778\n",
      "Epoch 23/100\n",
      "11/11 [==============================] - 0s 5ms/step - loss: 0.0293 - accuracy: 1.0000 - mse: 0.0056 - precision_2: 1.0000 - recall_2: 1.0000 - val_loss: 2.2849 - val_accuracy: 0.7619 - val_mse: 0.2229 - val_precision_2: 0.7000 - val_recall_2: 0.7778\n",
      "Epoch 24/100\n",
      "11/11 [==============================] - 0s 6ms/step - loss: 0.0337 - accuracy: 0.9940 - mse: 0.0089 - precision_2: 0.9891 - recall_2: 1.0000 - val_loss: 2.3086 - val_accuracy: 0.7619 - val_mse: 0.2237 - val_precision_2: 0.7000 - val_recall_2: 0.7778\n",
      "Epoch 25/100\n",
      "11/11 [==============================] - 0s 6ms/step - loss: 0.0546 - accuracy: 0.9819 - mse: 0.0164 - precision_2: 0.9681 - recall_2: 1.0000 - val_loss: 2.3055 - val_accuracy: 0.7619 - val_mse: 0.2229 - val_precision_2: 0.7000 - val_recall_2: 0.7778\n",
      "Epoch 26/100\n",
      "11/11 [==============================] - 0s 5ms/step - loss: 0.0633 - accuracy: 0.9759 - mse: 0.0188 - precision_2: 0.9579 - recall_2: 1.0000 - val_loss: 2.3166 - val_accuracy: 0.7619 - val_mse: 0.2229 - val_precision_2: 0.7000 - val_recall_2: 0.7778\n",
      "Epoch 27/100\n",
      "11/11 [==============================] - 0s 6ms/step - loss: 0.0608 - accuracy: 0.9759 - mse: 0.0193 - precision_2: 0.9677 - recall_2: 0.9890 - val_loss: 2.3566 - val_accuracy: 0.7619 - val_mse: 0.2230 - val_precision_2: 0.7000 - val_recall_2: 0.7778\n",
      "Epoch 28/100\n",
      "11/11 [==============================] - 0s 6ms/step - loss: 0.0917 - accuracy: 0.9759 - mse: 0.0249 - precision_2: 0.9579 - recall_2: 1.0000 - val_loss: 2.4006 - val_accuracy: 0.7619 - val_mse: 0.2250 - val_precision_2: 0.7000 - val_recall_2: 0.7778\n",
      "Epoch 29/100\n",
      "11/11 [==============================] - 0s 6ms/step - loss: 0.0315 - accuracy: 0.9940 - mse: 0.0072 - precision_2: 0.9891 - recall_2: 1.0000 - val_loss: 2.3894 - val_accuracy: 0.7143 - val_mse: 0.2405 - val_precision_2: 0.6667 - val_recall_2: 0.6667\n",
      "Epoch 30/100\n",
      "11/11 [==============================] - 0s 6ms/step - loss: 0.0638 - accuracy: 0.9759 - mse: 0.0190 - precision_2: 0.9677 - recall_2: 0.9890 - val_loss: 2.3553 - val_accuracy: 0.7143 - val_mse: 0.2360 - val_precision_2: 0.6667 - val_recall_2: 0.6667\n",
      "Epoch 31/100\n",
      "11/11 [==============================] - 0s 5ms/step - loss: 0.0601 - accuracy: 0.9880 - mse: 0.0124 - precision_2: 0.9890 - recall_2: 0.9890 - val_loss: 2.3448 - val_accuracy: 0.7143 - val_mse: 0.2365 - val_precision_2: 0.6667 - val_recall_2: 0.6667\n",
      "Epoch 32/100\n",
      "11/11 [==============================] - 0s 6ms/step - loss: 0.0392 - accuracy: 0.9940 - mse: 0.0096 - precision_2: 0.9891 - recall_2: 1.0000 - val_loss: 2.3614 - val_accuracy: 0.7143 - val_mse: 0.2391 - val_precision_2: 0.6667 - val_recall_2: 0.6667\n",
      "Epoch 33/100\n",
      "11/11 [==============================] - 0s 5ms/step - loss: 0.0975 - accuracy: 0.9639 - mse: 0.0310 - precision_2: 0.9381 - recall_2: 1.0000 - val_loss: 2.3533 - val_accuracy: 0.7143 - val_mse: 0.2385 - val_precision_2: 0.6667 - val_recall_2: 0.6667\n",
      "Epoch 34/100\n",
      "11/11 [==============================] - 0s 6ms/step - loss: 0.0398 - accuracy: 0.9880 - mse: 0.0117 - precision_2: 0.9785 - recall_2: 1.0000 - val_loss: 2.3152 - val_accuracy: 0.7143 - val_mse: 0.2382 - val_precision_2: 0.6667 - val_recall_2: 0.6667\n",
      "Epoch 35/100\n",
      "11/11 [==============================] - 0s 5ms/step - loss: 0.0767 - accuracy: 0.9759 - mse: 0.0238 - precision_2: 0.9579 - recall_2: 1.0000 - val_loss: 2.3044 - val_accuracy: 0.7143 - val_mse: 0.2403 - val_precision_2: 0.6667 - val_recall_2: 0.6667\n",
      "Epoch 36/100\n",
      "11/11 [==============================] - 0s 6ms/step - loss: 0.0610 - accuracy: 0.9759 - mse: 0.0195 - precision_2: 0.9579 - recall_2: 1.0000 - val_loss: 2.3092 - val_accuracy: 0.7143 - val_mse: 0.2448 - val_precision_2: 0.6667 - val_recall_2: 0.6667\n",
      "Epoch 37/100\n",
      "11/11 [==============================] - 0s 6ms/step - loss: 0.0948 - accuracy: 0.9699 - mse: 0.0289 - precision_2: 0.9574 - recall_2: 0.9890 - val_loss: 2.2862 - val_accuracy: 0.7143 - val_mse: 0.2460 - val_precision_2: 0.6667 - val_recall_2: 0.6667\n",
      "Epoch 38/100\n",
      "11/11 [==============================] - 0s 6ms/step - loss: 0.0711 - accuracy: 0.9759 - mse: 0.0213 - precision_2: 0.9579 - recall_2: 1.0000 - val_loss: 2.2129 - val_accuracy: 0.7143 - val_mse: 0.2435 - val_precision_2: 0.6667 - val_recall_2: 0.6667\n",
      "Epoch 39/100\n",
      "11/11 [==============================] - 0s 6ms/step - loss: 0.0396 - accuracy: 0.9880 - mse: 0.0115 - precision_2: 0.9785 - recall_2: 1.0000 - val_loss: 2.1977 - val_accuracy: 0.7143 - val_mse: 0.2453 - val_precision_2: 0.6667 - val_recall_2: 0.6667\n",
      "Epoch 40/100\n",
      "11/11 [==============================] - 0s 6ms/step - loss: 0.0608 - accuracy: 0.9759 - mse: 0.0178 - precision_2: 0.9579 - recall_2: 1.0000 - val_loss: 2.2790 - val_accuracy: 0.7143 - val_mse: 0.2583 - val_precision_2: 0.6667 - val_recall_2: 0.6667\n",
      "Epoch 41/100\n",
      "11/11 [==============================] - 0s 5ms/step - loss: 0.0768 - accuracy: 0.9699 - mse: 0.0242 - precision_2: 0.9574 - recall_2: 0.9890 - val_loss: 2.3294 - val_accuracy: 0.7143 - val_mse: 0.2626 - val_precision_2: 0.6667 - val_recall_2: 0.6667\n",
      "Epoch 42/100\n",
      "11/11 [==============================] - 0s 5ms/step - loss: 0.0553 - accuracy: 0.9819 - mse: 0.0160 - precision_2: 0.9783 - recall_2: 0.9890 - val_loss: 2.3788 - val_accuracy: 0.7143 - val_mse: 0.2635 - val_precision_2: 0.6667 - val_recall_2: 0.6667\n",
      "Epoch 43/100\n",
      "11/11 [==============================] - 0s 5ms/step - loss: 0.0610 - accuracy: 0.9819 - mse: 0.0180 - precision_2: 0.9681 - recall_2: 1.0000 - val_loss: 2.3806 - val_accuracy: 0.7143 - val_mse: 0.2628 - val_precision_2: 0.6667 - val_recall_2: 0.6667\n",
      "Epoch 44/100\n",
      "11/11 [==============================] - 0s 6ms/step - loss: 0.0355 - accuracy: 0.9940 - mse: 0.0083 - precision_2: 0.9891 - recall_2: 1.0000 - val_loss: 2.3777 - val_accuracy: 0.7143 - val_mse: 0.2623 - val_precision_2: 0.6667 - val_recall_2: 0.6667\n",
      "Epoch 45/100\n",
      "11/11 [==============================] - 0s 6ms/step - loss: 0.0573 - accuracy: 0.9759 - mse: 0.0184 - precision_2: 0.9579 - recall_2: 1.0000 - val_loss: 2.3874 - val_accuracy: 0.7143 - val_mse: 0.2626 - val_precision_2: 0.6667 - val_recall_2: 0.6667\n",
      "Epoch 46/100\n",
      "11/11 [==============================] - 0s 6ms/step - loss: 0.0179 - accuracy: 1.0000 - mse: 0.0027 - precision_2: 1.0000 - recall_2: 1.0000 - val_loss: 2.3904 - val_accuracy: 0.7143 - val_mse: 0.2623 - val_precision_2: 0.6667 - val_recall_2: 0.6667\n",
      "Epoch 47/100\n",
      "11/11 [==============================] - 0s 6ms/step - loss: 0.0507 - accuracy: 0.9819 - mse: 0.0155 - precision_2: 0.9681 - recall_2: 1.0000 - val_loss: 2.4071 - val_accuracy: 0.7143 - val_mse: 0.2623 - val_precision_2: 0.6667 - val_recall_2: 0.6667\n",
      "Epoch 48/100\n",
      "11/11 [==============================] - 0s 5ms/step - loss: 0.0421 - accuracy: 0.9880 - mse: 0.0115 - precision_2: 0.9785 - recall_2: 1.0000 - val_loss: 2.4444 - val_accuracy: 0.7143 - val_mse: 0.2625 - val_precision_2: 0.6667 - val_recall_2: 0.6667\n",
      "Epoch 49/100\n",
      "11/11 [==============================] - 0s 5ms/step - loss: 0.0629 - accuracy: 0.9759 - mse: 0.0200 - precision_2: 0.9579 - recall_2: 1.0000 - val_loss: 2.4618 - val_accuracy: 0.7143 - val_mse: 0.2623 - val_precision_2: 0.6667 - val_recall_2: 0.6667\n",
      "Epoch 50/100\n",
      "11/11 [==============================] - 0s 5ms/step - loss: 0.0858 - accuracy: 0.9639 - mse: 0.0284 - precision_2: 0.9381 - recall_2: 1.0000 - val_loss: 2.4507 - val_accuracy: 0.7143 - val_mse: 0.2611 - val_precision_2: 0.6667 - val_recall_2: 0.6667\n",
      "Epoch 51/100\n",
      "11/11 [==============================] - 0s 5ms/step - loss: 0.0510 - accuracy: 0.9819 - mse: 0.0150 - precision_2: 0.9783 - recall_2: 0.9890 - val_loss: 2.4254 - val_accuracy: 0.7143 - val_mse: 0.2604 - val_precision_2: 0.6667 - val_recall_2: 0.6667\n",
      "Epoch 52/100\n",
      "11/11 [==============================] - 0s 5ms/step - loss: 0.0496 - accuracy: 0.9880 - mse: 0.0142 - precision_2: 0.9785 - recall_2: 1.0000 - val_loss: 2.4143 - val_accuracy: 0.7143 - val_mse: 0.2606 - val_precision_2: 0.6667 - val_recall_2: 0.6667\n",
      "Epoch 53/100\n",
      "11/11 [==============================] - 0s 5ms/step - loss: 0.0591 - accuracy: 0.9759 - mse: 0.0175 - precision_2: 0.9579 - recall_2: 1.0000 - val_loss: 2.4035 - val_accuracy: 0.7143 - val_mse: 0.2610 - val_precision_2: 0.6667 - val_recall_2: 0.6667\n",
      "Epoch 54/100\n",
      "11/11 [==============================] - 0s 5ms/step - loss: 0.0462 - accuracy: 0.9819 - mse: 0.0139 - precision_2: 0.9681 - recall_2: 1.0000 - val_loss: 2.4016 - val_accuracy: 0.7143 - val_mse: 0.2613 - val_precision_2: 0.6667 - val_recall_2: 0.6667\n",
      "Epoch 55/100\n",
      "11/11 [==============================] - 0s 7ms/step - loss: 0.0594 - accuracy: 0.9759 - mse: 0.0193 - precision_2: 0.9579 - recall_2: 1.0000 - val_loss: 2.3593 - val_accuracy: 0.7143 - val_mse: 0.2599 - val_precision_2: 0.6667 - val_recall_2: 0.6667\n",
      "Epoch 56/100\n",
      "11/11 [==============================] - 0s 6ms/step - loss: 0.0505 - accuracy: 0.9819 - mse: 0.0148 - precision_2: 0.9681 - recall_2: 1.0000 - val_loss: 2.3484 - val_accuracy: 0.7143 - val_mse: 0.2586 - val_precision_2: 0.6667 - val_recall_2: 0.6667\n",
      "Epoch 57/100\n",
      "11/11 [==============================] - 0s 6ms/step - loss: 0.0411 - accuracy: 0.9940 - mse: 0.0100 - precision_2: 0.9891 - recall_2: 1.0000 - val_loss: 2.3510 - val_accuracy: 0.7143 - val_mse: 0.2574 - val_precision_2: 0.6667 - val_recall_2: 0.6667\n",
      "Epoch 58/100\n",
      "11/11 [==============================] - 0s 6ms/step - loss: 0.0222 - accuracy: 1.0000 - mse: 0.0037 - precision_2: 1.0000 - recall_2: 1.0000 - val_loss: 2.3807 - val_accuracy: 0.7143 - val_mse: 0.2582 - val_precision_2: 0.6667 - val_recall_2: 0.6667\n",
      "Epoch 59/100\n",
      "11/11 [==============================] - 0s 6ms/step - loss: 0.0414 - accuracy: 0.9880 - mse: 0.0117 - precision_2: 0.9785 - recall_2: 1.0000 - val_loss: 2.3967 - val_accuracy: 0.7143 - val_mse: 0.2584 - val_precision_2: 0.6667 - val_recall_2: 0.6667\n",
      "Epoch 60/100\n",
      "11/11 [==============================] - 0s 6ms/step - loss: 0.0434 - accuracy: 0.9819 - mse: 0.0126 - precision_2: 0.9681 - recall_2: 1.0000 - val_loss: 2.4099 - val_accuracy: 0.7143 - val_mse: 0.2587 - val_precision_2: 0.6667 - val_recall_2: 0.6667\n",
      "Epoch 61/100\n",
      "11/11 [==============================] - 0s 6ms/step - loss: 0.0419 - accuracy: 0.9880 - mse: 0.0115 - precision_2: 0.9785 - recall_2: 1.0000 - val_loss: 2.4800 - val_accuracy: 0.7143 - val_mse: 0.2606 - val_precision_2: 0.6667 - val_recall_2: 0.6667\n",
      "Epoch 62/100\n",
      "11/11 [==============================] - 0s 6ms/step - loss: 0.0635 - accuracy: 0.9699 - mse: 0.0197 - precision_2: 0.9674 - recall_2: 0.9780 - val_loss: 2.5081 - val_accuracy: 0.7143 - val_mse: 0.2585 - val_precision_2: 0.6667 - val_recall_2: 0.6667\n",
      "Epoch 63/100\n",
      "11/11 [==============================] - 0s 5ms/step - loss: 0.0605 - accuracy: 0.9759 - mse: 0.0198 - precision_2: 0.9579 - recall_2: 1.0000 - val_loss: 2.5305 - val_accuracy: 0.7143 - val_mse: 0.2574 - val_precision_2: 0.6667 - val_recall_2: 0.6667\n",
      "Epoch 64/100\n",
      "11/11 [==============================] - 0s 6ms/step - loss: 0.0350 - accuracy: 0.9880 - mse: 0.0095 - precision_2: 0.9890 - recall_2: 0.9890 - val_loss: 2.5452 - val_accuracy: 0.7143 - val_mse: 0.2576 - val_precision_2: 0.6667 - val_recall_2: 0.6667\n",
      "Epoch 65/100\n",
      "11/11 [==============================] - 0s 5ms/step - loss: 0.0510 - accuracy: 0.9819 - mse: 0.0156 - precision_2: 0.9681 - recall_2: 1.0000 - val_loss: 2.5346 - val_accuracy: 0.7143 - val_mse: 0.2562 - val_precision_2: 0.6667 - val_recall_2: 0.6667\n",
      "Epoch 66/100\n",
      "11/11 [==============================] - 0s 5ms/step - loss: 0.0686 - accuracy: 0.9759 - mse: 0.0210 - precision_2: 0.9677 - recall_2: 0.9890 - val_loss: 2.5404 - val_accuracy: 0.7143 - val_mse: 0.2588 - val_precision_2: 0.6667 - val_recall_2: 0.6667\n",
      "Epoch 67/100\n",
      "11/11 [==============================] - 0s 5ms/step - loss: 0.0320 - accuracy: 0.9940 - mse: 0.0076 - precision_2: 0.9891 - recall_2: 1.0000 - val_loss: 2.5485 - val_accuracy: 0.7143 - val_mse: 0.2620 - val_precision_2: 0.6667 - val_recall_2: 0.6667\n",
      "Epoch 68/100\n",
      "11/11 [==============================] - 0s 5ms/step - loss: 0.0255 - accuracy: 0.9940 - mse: 0.0059 - precision_2: 0.9891 - recall_2: 1.0000 - val_loss: 2.5680 - val_accuracy: 0.7143 - val_mse: 0.2618 - val_precision_2: 0.6667 - val_recall_2: 0.6667\n",
      "Epoch 69/100\n",
      "11/11 [==============================] - 0s 6ms/step - loss: 0.0492 - accuracy: 0.9759 - mse: 0.0150 - precision_2: 0.9579 - recall_2: 1.0000 - val_loss: 2.6223 - val_accuracy: 0.7143 - val_mse: 0.2636 - val_precision_2: 0.6667 - val_recall_2: 0.6667\n",
      "Epoch 70/100\n",
      "11/11 [==============================] - 0s 5ms/step - loss: 0.0470 - accuracy: 0.9819 - mse: 0.0150 - precision_2: 0.9681 - recall_2: 1.0000 - val_loss: 2.6392 - val_accuracy: 0.7143 - val_mse: 0.2641 - val_precision_2: 0.6667 - val_recall_2: 0.6667\n",
      "Epoch 71/100\n",
      "11/11 [==============================] - 0s 7ms/step - loss: 0.0656 - accuracy: 0.9699 - mse: 0.0221 - precision_2: 0.9479 - recall_2: 1.0000 - val_loss: 2.6225 - val_accuracy: 0.7143 - val_mse: 0.2636 - val_precision_2: 0.6667 - val_recall_2: 0.6667\n",
      "Epoch 72/100\n",
      "11/11 [==============================] - 0s 5ms/step - loss: 0.0480 - accuracy: 0.9880 - mse: 0.0130 - precision_2: 0.9785 - recall_2: 1.0000 - val_loss: 2.6160 - val_accuracy: 0.7143 - val_mse: 0.2625 - val_precision_2: 0.6667 - val_recall_2: 0.6667\n",
      "Epoch 73/100\n",
      "11/11 [==============================] - 0s 5ms/step - loss: 0.1066 - accuracy: 0.9578 - mse: 0.0355 - precision_2: 0.9286 - recall_2: 1.0000 - val_loss: 2.5848 - val_accuracy: 0.7143 - val_mse: 0.2626 - val_precision_2: 0.6667 - val_recall_2: 0.6667\n",
      "Epoch 74/100\n",
      "11/11 [==============================] - 0s 5ms/step - loss: 0.0407 - accuracy: 0.9880 - mse: 0.0115 - precision_2: 0.9785 - recall_2: 1.0000 - val_loss: 2.5537 - val_accuracy: 0.7143 - val_mse: 0.2626 - val_precision_2: 0.6667 - val_recall_2: 0.6667\n",
      "Epoch 75/100\n",
      "11/11 [==============================] - 0s 5ms/step - loss: 0.0329 - accuracy: 0.9940 - mse: 0.0072 - precision_2: 0.9891 - recall_2: 1.0000 - val_loss: 2.5445 - val_accuracy: 0.7143 - val_mse: 0.2618 - val_precision_2: 0.6667 - val_recall_2: 0.6667\n",
      "Epoch 76/100\n",
      "11/11 [==============================] - 0s 5ms/step - loss: 0.0860 - accuracy: 0.9639 - mse: 0.0281 - precision_2: 0.9381 - recall_2: 1.0000 - val_loss: 2.5422 - val_accuracy: 0.7143 - val_mse: 0.2623 - val_precision_2: 0.6667 - val_recall_2: 0.6667\n",
      "Epoch 77/100\n",
      "11/11 [==============================] - 0s 5ms/step - loss: 0.0401 - accuracy: 0.9880 - mse: 0.0116 - precision_2: 0.9785 - recall_2: 1.0000 - val_loss: 2.4093 - val_accuracy: 0.7143 - val_mse: 0.2547 - val_precision_2: 0.6667 - val_recall_2: 0.6667\n",
      "Epoch 78/100\n",
      "11/11 [==============================] - 0s 5ms/step - loss: 0.0504 - accuracy: 0.9819 - mse: 0.0152 - precision_2: 0.9681 - recall_2: 1.0000 - val_loss: 2.3023 - val_accuracy: 0.7143 - val_mse: 0.2317 - val_precision_2: 0.6667 - val_recall_2: 0.6667\n",
      "Epoch 79/100\n",
      "11/11 [==============================] - 0s 5ms/step - loss: 0.0372 - accuracy: 0.9880 - mse: 0.0107 - precision_2: 0.9785 - recall_2: 1.0000 - val_loss: 2.2971 - val_accuracy: 0.7619 - val_mse: 0.2286 - val_precision_2: 0.7500 - val_recall_2: 0.6667\n",
      "Epoch 80/100\n",
      "11/11 [==============================] - 0s 5ms/step - loss: 0.0265 - accuracy: 0.9940 - mse: 0.0065 - precision_2: 0.9891 - recall_2: 1.0000 - val_loss: 2.3103 - val_accuracy: 0.7143 - val_mse: 0.2295 - val_precision_2: 0.6667 - val_recall_2: 0.6667\n",
      "Epoch 81/100\n",
      "11/11 [==============================] - 0s 5ms/step - loss: 0.0601 - accuracy: 0.9759 - mse: 0.0194 - precision_2: 0.9579 - recall_2: 1.0000 - val_loss: 2.3539 - val_accuracy: 0.7143 - val_mse: 0.2311 - val_precision_2: 0.6667 - val_recall_2: 0.6667\n",
      "Epoch 82/100\n",
      "11/11 [==============================] - 0s 6ms/step - loss: 0.0471 - accuracy: 0.9880 - mse: 0.0131 - precision_2: 0.9785 - recall_2: 1.0000 - val_loss: 2.3969 - val_accuracy: 0.7143 - val_mse: 0.2340 - val_precision_2: 0.6667 - val_recall_2: 0.6667\n",
      "Epoch 83/100\n",
      "11/11 [==============================] - 0s 5ms/step - loss: 0.0464 - accuracy: 0.9819 - mse: 0.0142 - precision_2: 0.9681 - recall_2: 1.0000 - val_loss: 2.3848 - val_accuracy: 0.7143 - val_mse: 0.2326 - val_precision_2: 0.6667 - val_recall_2: 0.6667\n",
      "Epoch 84/100\n",
      "11/11 [==============================] - 0s 5ms/step - loss: 0.0279 - accuracy: 0.9940 - mse: 0.0068 - precision_2: 0.9891 - recall_2: 1.0000 - val_loss: 2.3995 - val_accuracy: 0.7143 - val_mse: 0.2344 - val_precision_2: 0.6667 - val_recall_2: 0.6667\n",
      "Epoch 85/100\n",
      "11/11 [==============================] - 0s 6ms/step - loss: 0.0790 - accuracy: 0.9639 - mse: 0.0270 - precision_2: 0.9381 - recall_2: 1.0000 - val_loss: 2.3731 - val_accuracy: 0.7619 - val_mse: 0.2253 - val_precision_2: 0.7500 - val_recall_2: 0.6667\n",
      "Epoch 86/100\n",
      "11/11 [==============================] - 0s 5ms/step - loss: 0.0427 - accuracy: 0.9819 - mse: 0.0125 - precision_2: 0.9783 - recall_2: 0.9890 - val_loss: 2.3785 - val_accuracy: 0.7619 - val_mse: 0.2258 - val_precision_2: 0.7500 - val_recall_2: 0.6667\n",
      "Epoch 87/100\n",
      "11/11 [==============================] - 0s 6ms/step - loss: 0.0654 - accuracy: 0.9759 - mse: 0.0211 - precision_2: 0.9579 - recall_2: 1.0000 - val_loss: 2.3907 - val_accuracy: 0.7143 - val_mse: 0.2303 - val_precision_2: 0.6667 - val_recall_2: 0.6667\n",
      "Epoch 88/100\n",
      "11/11 [==============================] - 0s 6ms/step - loss: 0.0275 - accuracy: 0.9880 - mse: 0.0083 - precision_2: 0.9785 - recall_2: 1.0000 - val_loss: 2.3899 - val_accuracy: 0.7619 - val_mse: 0.2145 - val_precision_2: 0.7500 - val_recall_2: 0.6667\n",
      "Epoch 89/100\n",
      "11/11 [==============================] - 0s 7ms/step - loss: 0.0723 - accuracy: 0.9639 - mse: 0.0237 - precision_2: 0.9474 - recall_2: 0.9890 - val_loss: 2.3286 - val_accuracy: 0.7619 - val_mse: 0.1945 - val_precision_2: 0.7500 - val_recall_2: 0.6667\n",
      "Epoch 90/100\n",
      "11/11 [==============================] - 0s 5ms/step - loss: 0.0548 - accuracy: 0.9819 - mse: 0.0172 - precision_2: 0.9681 - recall_2: 1.0000 - val_loss: 2.2851 - val_accuracy: 0.7619 - val_mse: 0.1767 - val_precision_2: 0.7500 - val_recall_2: 0.6667\n",
      "Epoch 91/100\n",
      "11/11 [==============================] - 0s 5ms/step - loss: 0.0874 - accuracy: 0.9699 - mse: 0.0261 - precision_2: 0.9574 - recall_2: 0.9890 - val_loss: 2.2763 - val_accuracy: 0.8095 - val_mse: 0.1752 - val_precision_2: 0.7778 - val_recall_2: 0.7778\n",
      "Epoch 92/100\n",
      "11/11 [==============================] - 0s 6ms/step - loss: 0.0805 - accuracy: 0.9578 - mse: 0.0274 - precision_2: 0.9468 - recall_2: 0.9780 - val_loss: 2.3213 - val_accuracy: 0.8095 - val_mse: 0.1921 - val_precision_2: 0.7778 - val_recall_2: 0.7778\n",
      "Epoch 93/100\n",
      "11/11 [==============================] - 0s 5ms/step - loss: 0.0319 - accuracy: 0.9940 - mse: 0.0079 - precision_2: 0.9891 - recall_2: 1.0000 - val_loss: 2.3434 - val_accuracy: 0.7619 - val_mse: 0.1995 - val_precision_2: 0.7000 - val_recall_2: 0.7778\n",
      "Epoch 94/100\n",
      "11/11 [==============================] - 0s 5ms/step - loss: 0.0372 - accuracy: 0.9880 - mse: 0.0108 - precision_2: 0.9785 - recall_2: 1.0000 - val_loss: 2.3606 - val_accuracy: 0.7619 - val_mse: 0.2006 - val_precision_2: 0.7000 - val_recall_2: 0.7778\n",
      "Epoch 95/100\n",
      "11/11 [==============================] - 0s 6ms/step - loss: 0.1100 - accuracy: 0.9458 - mse: 0.0387 - precision_2: 0.9184 - recall_2: 0.9890 - val_loss: 2.3532 - val_accuracy: 0.7619 - val_mse: 0.2066 - val_precision_2: 0.7000 - val_recall_2: 0.7778\n",
      "Epoch 96/100\n",
      "11/11 [==============================] - 0s 6ms/step - loss: 0.0474 - accuracy: 0.9819 - mse: 0.0150 - precision_2: 0.9681 - recall_2: 1.0000 - val_loss: 2.3595 - val_accuracy: 0.7143 - val_mse: 0.2128 - val_precision_2: 0.6667 - val_recall_2: 0.6667\n",
      "Epoch 97/100\n",
      "11/11 [==============================] - 0s 5ms/step - loss: 0.0355 - accuracy: 0.9940 - mse: 0.0080 - precision_2: 1.0000 - recall_2: 0.9890 - val_loss: 2.3376 - val_accuracy: 0.7619 - val_mse: 0.2050 - val_precision_2: 0.7000 - val_recall_2: 0.7778\n",
      "Epoch 98/100\n",
      "11/11 [==============================] - 0s 6ms/step - loss: 0.0701 - accuracy: 0.9759 - mse: 0.0179 - precision_2: 0.9677 - recall_2: 0.9890 - val_loss: 2.3872 - val_accuracy: 0.7619 - val_mse: 0.2152 - val_precision_2: 0.7000 - val_recall_2: 0.7778\n",
      "Epoch 99/100\n",
      "11/11 [==============================] - 0s 6ms/step - loss: 0.0672 - accuracy: 0.9819 - mse: 0.0185 - precision_2: 0.9783 - recall_2: 0.9890 - val_loss: 2.4225 - val_accuracy: 0.7619 - val_mse: 0.2181 - val_precision_2: 0.7000 - val_recall_2: 0.7778\n",
      "Epoch 100/100\n",
      "11/11 [==============================] - 0s 5ms/step - loss: 0.0467 - accuracy: 0.9819 - mse: 0.0142 - precision_2: 0.9889 - recall_2: 0.9780 - val_loss: 2.4411 - val_accuracy: 0.7619 - val_mse: 0.2191 - val_precision_2: 0.7000 - val_recall_2: 0.7778\n"
     ]
    },
    {
     "name": "stderr",
     "output_type": "stream",
     "text": [
      "WARNING:absl:Found untraced functions such as _update_step_xla while saving (showing 1 of 1). These functions will not be directly callable after loading.\n"
     ]
    },
    {
     "name": "stdout",
     "output_type": "stream",
     "text": [
      "INFO:tensorflow:Assets written to: ./model2\\assets\n"
     ]
    },
    {
     "name": "stderr",
     "output_type": "stream",
     "text": [
      "INFO:tensorflow:Assets written to: ./model2\\assets\n"
     ]
    }
   ],
   "source": [
    "fitModel(tf_model2, 'model2', [WandbCallback()])"
   ]
  },
  {
   "cell_type": "code",
   "execution_count": 72,
   "id": "3aeae49d-6d71-4b0d-a424-5ce39c795baa",
   "metadata": {},
   "outputs": [
    {
     "data": {
      "text/html": [
       "Waiting for W&B process to finish... <strong style=\"color:green\">(success).</strong>"
      ],
      "text/plain": [
       "<IPython.core.display.HTML object>"
      ]
     },
     "metadata": {},
     "output_type": "display_data"
    },
    {
     "data": {
      "text/html": [
       "<style>\n",
       "    table.wandb td:nth-child(1) { padding: 0 10px; text-align: left ; width: auto;} td:nth-child(2) {text-align: left ; width: 100%}\n",
       "    .wandb-row { display: flex; flex-direction: row; flex-wrap: wrap; justify-content: flex-start; width: 100% }\n",
       "    .wandb-col { display: flex; flex-direction: column; flex-basis: 100%; flex: 1; padding: 10px; }\n",
       "    </style>\n",
       "<div class=\"wandb-row\"><div class=\"wandb-col\"><h3>Run history:</h3><br/><table class=\"wandb\"><tr><td>accuracy</td><td>████████████████████▄▇▁▂█▂▅▂▇▅▄█▅▇▅▄▇▅▅▄</td></tr><tr><td>epoch</td><td>▁▁▂▂▂▃▃▃▄▄▅▅▅▆▆▆▇▇▇█▁▁▂▂▂▃▃▄▄▄▅▅▅▆▆▆▇▇██</td></tr><tr><td>loss</td><td>▁▁▁▁▁▁▁▁▁▁▁▁▁▁▁▁▁▁▁▁▆▄▇▆▃█▄▆▄▄▅▃▄▃▄▅▃▃▄▅</td></tr><tr><td>mse</td><td>▁▁▁▁▁▁▁▁▁▁▁▁▁▁▁▁▁▁▁▁▆▄█▇▂█▄▇▃▄▅▂▄▃▄▅▃▃▄▅</td></tr><tr><td>precision_2</td><td>████████████████████▃▆▁▁█▁▄▁▆▄▃█▆▆▄▃▆▄▄▆</td></tr><tr><td>recall_2</td><td>██████████████████████▅█████████▅██████▁</td></tr><tr><td>val_accuracy</td><td>████████████████████▄▄▄▄▄▄▁▁▁▁▁▁▁▁▁▁▁▄▄▄</td></tr><tr><td>val_loss</td><td>▁▁▁▁▁▁▁▁▁▁▂▂▂▂▂▂▂▂▂▂▆▅▆▇▇▇▇▇▇▇▇▇███▇▇▇▇▇</td></tr><tr><td>val_mse</td><td>▁▁▁▁▁▁▁▁▁▁▁▁▁▁▁▁▁▁▁▁▄▃▄▄▄▅▆▆███████▅▅▄▂▄</td></tr><tr><td>val_precision_2</td><td>▃▃▃▃▃▃▃▃▃▃▃▃▃▃▃▃▃▃▃▃▄▄▄▄▄▄▁▁▁▁▁▁▁▁▁▁▁█▄▄</td></tr><tr><td>val_recall_2</td><td>████████████████████▃▃▃▃▃▃▁▁▁▁▁▁▁▁▁▁▁▁▃▃</td></tr></table><br/></div><div class=\"wandb-col\"><h3>Run summary:</h3><br/><table class=\"wandb\"><tr><td>accuracy</td><td>0.98193</td></tr><tr><td>best_epoch</td><td>1</td></tr><tr><td>best_val_loss</td><td>0.86321</td></tr><tr><td>epoch</td><td>99</td></tr><tr><td>loss</td><td>0.04669</td></tr><tr><td>mse</td><td>0.01425</td></tr><tr><td>precision_2</td><td>0.98889</td></tr><tr><td>recall_2</td><td>0.97802</td></tr><tr><td>val_accuracy</td><td>0.7619</td></tr><tr><td>val_loss</td><td>2.44114</td></tr><tr><td>val_mse</td><td>0.21905</td></tr><tr><td>val_precision_2</td><td>0.7</td></tr><tr><td>val_recall_2</td><td>0.77778</td></tr></table><br/></div></div>"
      ],
      "text/plain": [
       "<IPython.core.display.HTML object>"
      ]
     },
     "metadata": {},
     "output_type": "display_data"
    },
    {
     "data": {
      "text/html": [
       " View run <strong style=\"color:#cdcd00\">misty-fire-7</strong> at: <a href='https://wandb.ai/cajnyoby/zadanie1/runs/h7pawtdz' target=\"_blank\">https://wandb.ai/cajnyoby/zadanie1/runs/h7pawtdz</a><br/>Synced 5 W&B file(s), 2 media file(s), 10 artifact file(s) and 1 other file(s)"
      ],
      "text/plain": [
       "<IPython.core.display.HTML object>"
      ]
     },
     "metadata": {},
     "output_type": "display_data"
    },
    {
     "data": {
      "text/html": [
       "Find logs at: <code>.\\wandb\\run-20230329_022825-h7pawtdz\\logs</code>"
      ],
      "text/plain": [
       "<IPython.core.display.HTML object>"
      ]
     },
     "metadata": {},
     "output_type": "display_data"
    },
    {
     "data": {
      "application/vnd.jupyter.widget-view+json": {
       "model_id": "2bd934d5e6214bf78fcdda95e8d01fe4",
       "version_major": 2,
       "version_minor": 0
      },
      "text/plain": [
       "VBox(children=(Label(value='Waiting for wandb.init()...\\r'), FloatProgress(value=0.016666666666666666, max=1.0…"
      ]
     },
     "metadata": {},
     "output_type": "display_data"
    },
    {
     "data": {
      "text/html": [
       "wandb version 0.14.0 is available!  To upgrade, please run:\n",
       " $ pip install wandb --upgrade"
      ],
      "text/plain": [
       "<IPython.core.display.HTML object>"
      ]
     },
     "metadata": {},
     "output_type": "display_data"
    },
    {
     "data": {
      "text/html": [
       "Tracking run with wandb version 0.13.10"
      ],
      "text/plain": [
       "<IPython.core.display.HTML object>"
      ]
     },
     "metadata": {},
     "output_type": "display_data"
    },
    {
     "data": {
      "text/html": [
       "Run data is saved locally in <code>C:\\Users\\Burka\\Documents\\School\\Letny semester 22-23\\Neuronky\\ns-zadanie1\\wandb\\run-20230329_022953-pk2upxbl</code>"
      ],
      "text/plain": [
       "<IPython.core.display.HTML object>"
      ]
     },
     "metadata": {},
     "output_type": "display_data"
    },
    {
     "data": {
      "text/html": [
       "Syncing run <strong><a href='https://wandb.ai/cajnyoby/zadanie1/runs/pk2upxbl' target=\"_blank\">fluent-meadow-8</a></strong> to <a href='https://wandb.ai/cajnyoby/zadanie1' target=\"_blank\">Weights & Biases</a> (<a href='https://wandb.me/run' target=\"_blank\">docs</a>)<br/>"
      ],
      "text/plain": [
       "<IPython.core.display.HTML object>"
      ]
     },
     "metadata": {},
     "output_type": "display_data"
    },
    {
     "data": {
      "text/html": [
       " View project at <a href='https://wandb.ai/cajnyoby/zadanie1' target=\"_blank\">https://wandb.ai/cajnyoby/zadanie1</a>"
      ],
      "text/plain": [
       "<IPython.core.display.HTML object>"
      ]
     },
     "metadata": {},
     "output_type": "display_data"
    },
    {
     "data": {
      "text/html": [
       " View run at <a href='https://wandb.ai/cajnyoby/zadanie1/runs/pk2upxbl' target=\"_blank\">https://wandb.ai/cajnyoby/zadanie1/runs/pk2upxbl</a>"
      ],
      "text/plain": [
       "<IPython.core.display.HTML object>"
      ]
     },
     "metadata": {},
     "output_type": "display_data"
    }
   ],
   "source": [
    "w.finish()\n",
    "w = wandb.init(project='zadanie1',reinit=True)"
   ]
  },
  {
   "cell_type": "code",
   "execution_count": 73,
   "id": "92b0e13f",
   "metadata": {
    "scrolled": true,
    "tags": []
   },
   "outputs": [
    {
     "name": "stdout",
     "output_type": "stream",
     "text": [
      "Epoch 1/100\n",
      " 1/11 [=>............................] - ETA: 0s - loss: 0.0375 - accuracy: 1.0000 - mse: 0.0031 - precision_2: 1.0000 - recall_2: 1.0000"
     ]
    },
    {
     "name": "stderr",
     "output_type": "stream",
     "text": [
      "WARNING:absl:Found untraced functions such as _update_step_xla while saving (showing 1 of 1). These functions will not be directly callable after loading.\n"
     ]
    },
    {
     "name": "stdout",
     "output_type": "stream",
     "text": [
      "INFO:tensorflow:Assets written to: C:\\Users\\Burka\\Documents\\School\\Letny semester 22-23\\Neuronky\\ns-zadanie1\\wandb\\run-20230329_022953-pk2upxbl\\files\\model-best\\assets\n"
     ]
    },
    {
     "name": "stderr",
     "output_type": "stream",
     "text": [
      "INFO:tensorflow:Assets written to: C:\\Users\\Burka\\Documents\\School\\Letny semester 22-23\\Neuronky\\ns-zadanie1\\wandb\\run-20230329_022953-pk2upxbl\\files\\model-best\\assets\n",
      "\u001b[34m\u001b[1mwandb\u001b[0m: Adding directory to artifact (C:\\Users\\Burka\\Documents\\School\\Letny semester 22-23\\Neuronky\\ns-zadanie1\\wandb\\run-20230329_022953-pk2upxbl\\files\\model-best)... Done. 0.0s\n"
     ]
    },
    {
     "name": "stdout",
     "output_type": "stream",
     "text": [
      "11/11 [==============================] - 1s 106ms/step - loss: 0.0480 - accuracy: 0.9940 - mse: 0.0087 - precision_2: 1.0000 - recall_2: 0.9890 - val_loss: 0.5512 - val_accuracy: 0.7619 - val_mse: 0.1638 - val_precision_2: 0.7000 - val_recall_2: 0.7778\n",
      "Epoch 2/100\n",
      "11/11 [==============================] - 0s 6ms/step - loss: 0.0434 - accuracy: 0.9940 - mse: 0.0076 - precision_2: 1.0000 - recall_2: 0.9890 - val_loss: 0.5684 - val_accuracy: 0.7619 - val_mse: 0.1662 - val_precision_2: 0.7000 - val_recall_2: 0.7778\n",
      "Epoch 3/100\n",
      "11/11 [==============================] - 0s 6ms/step - loss: 0.0391 - accuracy: 0.9940 - mse: 0.0065 - precision_2: 1.0000 - recall_2: 0.9890 - val_loss: 0.5888 - val_accuracy: 0.7619 - val_mse: 0.1669 - val_precision_2: 0.7000 - val_recall_2: 0.7778\n",
      "Epoch 4/100\n",
      "11/11 [==============================] - 0s 6ms/step - loss: 0.0349 - accuracy: 0.9940 - mse: 0.0055 - precision_2: 1.0000 - recall_2: 0.9890 - val_loss: 0.6041 - val_accuracy: 0.7619 - val_mse: 0.1679 - val_precision_2: 0.7000 - val_recall_2: 0.7778\n",
      "Epoch 5/100\n",
      "11/11 [==============================] - 0s 6ms/step - loss: 0.0315 - accuracy: 0.9940 - mse: 0.0047 - precision_2: 1.0000 - recall_2: 0.9890 - val_loss: 0.6125 - val_accuracy: 0.7619 - val_mse: 0.1679 - val_precision_2: 0.7000 - val_recall_2: 0.7778\n",
      "Epoch 6/100\n",
      "11/11 [==============================] - 0s 5ms/step - loss: 0.0285 - accuracy: 0.9940 - mse: 0.0041 - precision_2: 1.0000 - recall_2: 0.9890 - val_loss: 0.6274 - val_accuracy: 0.7619 - val_mse: 0.1668 - val_precision_2: 0.7000 - val_recall_2: 0.7778\n",
      "Epoch 7/100\n",
      "11/11 [==============================] - 0s 5ms/step - loss: 0.0257 - accuracy: 1.0000 - mse: 0.0034 - precision_2: 1.0000 - recall_2: 1.0000 - val_loss: 0.6411 - val_accuracy: 0.7619 - val_mse: 0.1681 - val_precision_2: 0.7000 - val_recall_2: 0.7778\n",
      "Epoch 8/100\n",
      "11/11 [==============================] - 0s 5ms/step - loss: 0.0239 - accuracy: 1.0000 - mse: 0.0031 - precision_2: 1.0000 - recall_2: 1.0000 - val_loss: 0.6609 - val_accuracy: 0.7619 - val_mse: 0.1685 - val_precision_2: 0.7000 - val_recall_2: 0.7778\n",
      "Epoch 9/100\n",
      "11/11 [==============================] - 0s 5ms/step - loss: 0.0217 - accuracy: 1.0000 - mse: 0.0027 - precision_2: 1.0000 - recall_2: 1.0000 - val_loss: 0.6549 - val_accuracy: 0.7619 - val_mse: 0.1717 - val_precision_2: 0.7000 - val_recall_2: 0.7778\n",
      "Epoch 10/100\n",
      "11/11 [==============================] - 0s 5ms/step - loss: 0.0191 - accuracy: 1.0000 - mse: 0.0020 - precision_2: 1.0000 - recall_2: 1.0000 - val_loss: 0.6585 - val_accuracy: 0.7619 - val_mse: 0.1693 - val_precision_2: 0.7000 - val_recall_2: 0.7778\n",
      "Epoch 11/100\n",
      "11/11 [==============================] - 0s 5ms/step - loss: 0.0183 - accuracy: 1.0000 - mse: 0.0022 - precision_2: 1.0000 - recall_2: 1.0000 - val_loss: 0.6813 - val_accuracy: 0.7619 - val_mse: 0.1688 - val_precision_2: 0.7000 - val_recall_2: 0.7778\n"
     ]
    },
    {
     "name": "stderr",
     "output_type": "stream",
     "text": [
      "WARNING:absl:Found untraced functions such as _update_step_xla while saving (showing 1 of 1). These functions will not be directly callable after loading.\n"
     ]
    },
    {
     "name": "stdout",
     "output_type": "stream",
     "text": [
      "INFO:tensorflow:Assets written to: ./model3\\assets\n"
     ]
    },
    {
     "name": "stderr",
     "output_type": "stream",
     "text": [
      "INFO:tensorflow:Assets written to: ./model3\\assets\n"
     ]
    }
   ],
   "source": [
    "fitModel(tf_model3, 'model3', [earlyStop,WandbCallback()])"
   ]
  },
  {
   "cell_type": "code",
   "execution_count": 74,
   "id": "5bc5b5af-f3f2-42bd-8c22-ad6e6cfd1367",
   "metadata": {},
   "outputs": [
    {
     "data": {
      "text/html": [
       "Waiting for W&B process to finish... <strong style=\"color:green\">(success).</strong>"
      ],
      "text/plain": [
       "<IPython.core.display.HTML object>"
      ]
     },
     "metadata": {},
     "output_type": "display_data"
    },
    {
     "data": {
      "text/html": [
       "<style>\n",
       "    table.wandb td:nth-child(1) { padding: 0 10px; text-align: left ; width: auto;} td:nth-child(2) {text-align: left ; width: 100%}\n",
       "    .wandb-row { display: flex; flex-direction: row; flex-wrap: wrap; justify-content: flex-start; width: 100% }\n",
       "    .wandb-col { display: flex; flex-direction: column; flex-basis: 100%; flex: 1; padding: 10px; }\n",
       "    </style>\n",
       "<div class=\"wandb-row\"><div class=\"wandb-col\"><h3>Run history:</h3><br/><table class=\"wandb\"><tr><td>accuracy</td><td>▁▁▁▁▁▁█████</td></tr><tr><td>epoch</td><td>▁▂▂▃▄▅▅▆▇▇█</td></tr><tr><td>loss</td><td>█▇▆▅▄▃▃▂▂▁▁</td></tr><tr><td>mse</td><td>█▇▆▅▄▃▂▂▂▁▁</td></tr><tr><td>precision_2</td><td>▁▁▁▁▁▁▁▁▁▁▁</td></tr><tr><td>recall_2</td><td>▁▁▁▁▁▁█████</td></tr><tr><td>val_accuracy</td><td>▁▁▁▁▁▁▁▁▁▁▁</td></tr><tr><td>val_loss</td><td>▁▂▃▄▄▅▆▇▇▇█</td></tr><tr><td>val_mse</td><td>▁▃▄▅▅▄▅▅█▆▅</td></tr><tr><td>val_precision_2</td><td>▁▁▁▁▁▁▁▁▁▁▁</td></tr><tr><td>val_recall_2</td><td>▁▁▁▁▁▁▁▁▁▁▁</td></tr></table><br/></div><div class=\"wandb-col\"><h3>Run summary:</h3><br/><table class=\"wandb\"><tr><td>accuracy</td><td>1.0</td></tr><tr><td>best_epoch</td><td>0</td></tr><tr><td>best_val_loss</td><td>0.55125</td></tr><tr><td>epoch</td><td>10</td></tr><tr><td>loss</td><td>0.01831</td></tr><tr><td>mse</td><td>0.00223</td></tr><tr><td>precision_2</td><td>1.0</td></tr><tr><td>recall_2</td><td>1.0</td></tr><tr><td>val_accuracy</td><td>0.7619</td></tr><tr><td>val_loss</td><td>0.6813</td></tr><tr><td>val_mse</td><td>0.1688</td></tr><tr><td>val_precision_2</td><td>0.7</td></tr><tr><td>val_recall_2</td><td>0.77778</td></tr></table><br/></div></div>"
      ],
      "text/plain": [
       "<IPython.core.display.HTML object>"
      ]
     },
     "metadata": {},
     "output_type": "display_data"
    },
    {
     "data": {
      "text/html": [
       " View run <strong style=\"color:#cdcd00\">fluent-meadow-8</strong> at: <a href='https://wandb.ai/cajnyoby/zadanie1/runs/pk2upxbl' target=\"_blank\">https://wandb.ai/cajnyoby/zadanie1/runs/pk2upxbl</a><br/>Synced 5 W&B file(s), 1 media file(s), 5 artifact file(s) and 1 other file(s)"
      ],
      "text/plain": [
       "<IPython.core.display.HTML object>"
      ]
     },
     "metadata": {},
     "output_type": "display_data"
    },
    {
     "data": {
      "text/html": [
       "Find logs at: <code>.\\wandb\\run-20230329_022953-pk2upxbl\\logs</code>"
      ],
      "text/plain": [
       "<IPython.core.display.HTML object>"
      ]
     },
     "metadata": {},
     "output_type": "display_data"
    },
    {
     "data": {
      "application/vnd.jupyter.widget-view+json": {
       "model_id": "11b11e5d7c9f4261802af688a192d22f",
       "version_major": 2,
       "version_minor": 0
      },
      "text/plain": [
       "VBox(children=(Label(value='Waiting for wandb.init()...\\r'), FloatProgress(value=0.01693333333435779, max=1.0)…"
      ]
     },
     "metadata": {},
     "output_type": "display_data"
    },
    {
     "data": {
      "text/html": [
       "wandb version 0.14.0 is available!  To upgrade, please run:\n",
       " $ pip install wandb --upgrade"
      ],
      "text/plain": [
       "<IPython.core.display.HTML object>"
      ]
     },
     "metadata": {},
     "output_type": "display_data"
    },
    {
     "data": {
      "text/html": [
       "Tracking run with wandb version 0.13.10"
      ],
      "text/plain": [
       "<IPython.core.display.HTML object>"
      ]
     },
     "metadata": {},
     "output_type": "display_data"
    },
    {
     "data": {
      "text/html": [
       "Run data is saved locally in <code>C:\\Users\\Burka\\Documents\\School\\Letny semester 22-23\\Neuronky\\ns-zadanie1\\wandb\\run-20230329_023429-v31cbnnt</code>"
      ],
      "text/plain": [
       "<IPython.core.display.HTML object>"
      ]
     },
     "metadata": {},
     "output_type": "display_data"
    },
    {
     "data": {
      "text/html": [
       "Syncing run <strong><a href='https://wandb.ai/cajnyoby/zadanie1/runs/v31cbnnt' target=\"_blank\">stellar-planet-9</a></strong> to <a href='https://wandb.ai/cajnyoby/zadanie1' target=\"_blank\">Weights & Biases</a> (<a href='https://wandb.me/run' target=\"_blank\">docs</a>)<br/>"
      ],
      "text/plain": [
       "<IPython.core.display.HTML object>"
      ]
     },
     "metadata": {},
     "output_type": "display_data"
    },
    {
     "data": {
      "text/html": [
       " View project at <a href='https://wandb.ai/cajnyoby/zadanie1' target=\"_blank\">https://wandb.ai/cajnyoby/zadanie1</a>"
      ],
      "text/plain": [
       "<IPython.core.display.HTML object>"
      ]
     },
     "metadata": {},
     "output_type": "display_data"
    },
    {
     "data": {
      "text/html": [
       " View run at <a href='https://wandb.ai/cajnyoby/zadanie1/runs/v31cbnnt' target=\"_blank\">https://wandb.ai/cajnyoby/zadanie1/runs/v31cbnnt</a>"
      ],
      "text/plain": [
       "<IPython.core.display.HTML object>"
      ]
     },
     "metadata": {},
     "output_type": "display_data"
    }
   ],
   "source": [
    "w.finish()\n",
    "w = wandb.init(project='zadanie1',reinit=True)"
   ]
  },
  {
   "cell_type": "code",
   "execution_count": 75,
   "id": "ad287c4b",
   "metadata": {},
   "outputs": [
    {
     "name": "stdout",
     "output_type": "stream",
     "text": [
      "Epoch 1/100\n",
      " 1/11 [=>............................] - ETA: 10s - loss: 2.2854 - accuracy: 0.3125 - mse: 0.2808 - precision_2: 0.6923 - recall_2: 0.4286WARNING:tensorflow:Callback method `on_train_batch_end` is slow compared to the batch time (batch time: 0.0013s vs `on_train_batch_end` time: 0.0017s). Check your callbacks.\n"
     ]
    },
    {
     "name": "stderr",
     "output_type": "stream",
     "text": [
      "WARNING:tensorflow:Callback method `on_train_batch_end` is slow compared to the batch time (batch time: 0.0013s vs `on_train_batch_end` time: 0.0017s). Check your callbacks.\n",
      "WARNING:absl:Found untraced functions such as _update_step_xla while saving (showing 1 of 1). These functions will not be directly callable after loading.\n"
     ]
    },
    {
     "name": "stdout",
     "output_type": "stream",
     "text": [
      "INFO:tensorflow:Assets written to: C:\\Users\\Burka\\Documents\\School\\Letny semester 22-23\\Neuronky\\ns-zadanie1\\wandb\\run-20230329_023429-v31cbnnt\\files\\model-best\\assets\n"
     ]
    },
    {
     "name": "stderr",
     "output_type": "stream",
     "text": [
      "INFO:tensorflow:Assets written to: C:\\Users\\Burka\\Documents\\School\\Letny semester 22-23\\Neuronky\\ns-zadanie1\\wandb\\run-20230329_023429-v31cbnnt\\files\\model-best\\assets\n",
      "\u001b[34m\u001b[1mwandb\u001b[0m: Adding directory to artifact (C:\\Users\\Burka\\Documents\\School\\Letny semester 22-23\\Neuronky\\ns-zadanie1\\wandb\\run-20230329_023429-v31cbnnt\\files\\model-best)... Done. 0.0s\n"
     ]
    },
    {
     "name": "stdout",
     "output_type": "stream",
     "text": [
      "11/11 [==============================] - 3s 185ms/step - loss: 2.1851 - accuracy: 0.5904 - mse: 0.2418 - precision_2: 0.6627 - recall_2: 0.5500 - val_loss: 2.1319 - val_accuracy: 0.5238 - val_mse: 0.2305 - val_precision_2: 0.4545 - val_recall_2: 0.5556\n",
      "Epoch 2/100\n",
      " 1/11 [=>............................] - ETA: 0s - loss: 2.1815 - accuracy: 0.6250 - mse: 0.2524 - precision_2: 1.0000 - recall_2: 0.5000"
     ]
    },
    {
     "name": "stderr",
     "output_type": "stream",
     "text": [
      "WARNING:absl:Found untraced functions such as _update_step_xla while saving (showing 1 of 1). These functions will not be directly callable after loading.\n"
     ]
    },
    {
     "name": "stdout",
     "output_type": "stream",
     "text": [
      "INFO:tensorflow:Assets written to: C:\\Users\\Burka\\Documents\\School\\Letny semester 22-23\\Neuronky\\ns-zadanie1\\wandb\\run-20230329_023429-v31cbnnt\\files\\model-best\\assets\n"
     ]
    },
    {
     "name": "stderr",
     "output_type": "stream",
     "text": [
      "INFO:tensorflow:Assets written to: C:\\Users\\Burka\\Documents\\School\\Letny semester 22-23\\Neuronky\\ns-zadanie1\\wandb\\run-20230329_023429-v31cbnnt\\files\\model-best\\assets\n",
      "\u001b[34m\u001b[1mwandb\u001b[0m: Adding directory to artifact (C:\\Users\\Burka\\Documents\\School\\Letny semester 22-23\\Neuronky\\ns-zadanie1\\wandb\\run-20230329_023429-v31cbnnt\\files\\model-best)... Done. 0.0s\n"
     ]
    },
    {
     "name": "stdout",
     "output_type": "stream",
     "text": [
      "11/11 [==============================] - 1s 138ms/step - loss: 2.0971 - accuracy: 0.6566 - mse: 0.2225 - precision_2: 0.6932 - recall_2: 0.6703 - val_loss: 2.0737 - val_accuracy: 0.5714 - val_mse: 0.2238 - val_precision_2: 0.5000 - val_recall_2: 0.5556\n",
      "Epoch 3/100\n",
      " 1/11 [=>............................] - ETA: 0s - loss: 2.0033 - accuracy: 0.6875 - mse: 0.1898 - precision_2: 0.7500 - recall_2: 0.6667"
     ]
    },
    {
     "name": "stderr",
     "output_type": "stream",
     "text": [
      "WARNING:absl:Found untraced functions such as _update_step_xla while saving (showing 1 of 1). These functions will not be directly callable after loading.\n"
     ]
    },
    {
     "name": "stdout",
     "output_type": "stream",
     "text": [
      "INFO:tensorflow:Assets written to: C:\\Users\\Burka\\Documents\\School\\Letny semester 22-23\\Neuronky\\ns-zadanie1\\wandb\\run-20230329_023429-v31cbnnt\\files\\model-best\\assets\n"
     ]
    },
    {
     "name": "stderr",
     "output_type": "stream",
     "text": [
      "INFO:tensorflow:Assets written to: C:\\Users\\Burka\\Documents\\School\\Letny semester 22-23\\Neuronky\\ns-zadanie1\\wandb\\run-20230329_023429-v31cbnnt\\files\\model-best\\assets\n",
      "\u001b[34m\u001b[1mwandb\u001b[0m: Adding directory to artifact (C:\\Users\\Burka\\Documents\\School\\Letny semester 22-23\\Neuronky\\ns-zadanie1\\wandb\\run-20230329_023429-v31cbnnt\\files\\model-best)... Done. 0.0s\n"
     ]
    },
    {
     "name": "stdout",
     "output_type": "stream",
     "text": [
      "11/11 [==============================] - 1s 149ms/step - loss: 2.0174 - accuracy: 0.6867 - mse: 0.2058 - precision_2: 0.6931 - recall_2: 0.7692 - val_loss: 2.0200 - val_accuracy: 0.6190 - val_mse: 0.2193 - val_precision_2: 0.5455 - val_recall_2: 0.6667\n",
      "Epoch 4/100\n",
      " 1/11 [=>............................] - ETA: 0s - loss: 1.9309 - accuracy: 0.8125 - mse: 0.1772 - precision_2: 0.7273 - recall_2: 1.0000"
     ]
    },
    {
     "name": "stderr",
     "output_type": "stream",
     "text": [
      "WARNING:absl:Found untraced functions such as _update_step_xla while saving (showing 1 of 1). These functions will not be directly callable after loading.\n"
     ]
    },
    {
     "name": "stdout",
     "output_type": "stream",
     "text": [
      "INFO:tensorflow:Assets written to: C:\\Users\\Burka\\Documents\\School\\Letny semester 22-23\\Neuronky\\ns-zadanie1\\wandb\\run-20230329_023429-v31cbnnt\\files\\model-best\\assets\n"
     ]
    },
    {
     "name": "stderr",
     "output_type": "stream",
     "text": [
      "INFO:tensorflow:Assets written to: C:\\Users\\Burka\\Documents\\School\\Letny semester 22-23\\Neuronky\\ns-zadanie1\\wandb\\run-20230329_023429-v31cbnnt\\files\\model-best\\assets\n",
      "\u001b[34m\u001b[1mwandb\u001b[0m: Adding directory to artifact (C:\\Users\\Burka\\Documents\\School\\Letny semester 22-23\\Neuronky\\ns-zadanie1\\wandb\\run-20230329_023429-v31cbnnt\\files\\model-best)... Done. 0.0s\n"
     ]
    },
    {
     "name": "stdout",
     "output_type": "stream",
     "text": [
      "11/11 [==============================] - 1s 136ms/step - loss: 1.9480 - accuracy: 0.7410 - mse: 0.1937 - precision_2: 0.7308 - recall_2: 0.8352 - val_loss: 1.9640 - val_accuracy: 0.6190 - val_mse: 0.2131 - val_precision_2: 0.5455 - val_recall_2: 0.6667\n",
      "Epoch 5/100\n",
      " 1/11 [=>............................] - ETA: 0s - loss: 1.8521 - accuracy: 0.9375 - mse: 0.1617 - precision_2: 1.0000 - recall_2: 0.8750"
     ]
    },
    {
     "name": "stderr",
     "output_type": "stream",
     "text": [
      "WARNING:absl:Found untraced functions such as _update_step_xla while saving (showing 1 of 1). These functions will not be directly callable after loading.\n"
     ]
    },
    {
     "name": "stdout",
     "output_type": "stream",
     "text": [
      "INFO:tensorflow:Assets written to: C:\\Users\\Burka\\Documents\\School\\Letny semester 22-23\\Neuronky\\ns-zadanie1\\wandb\\run-20230329_023429-v31cbnnt\\files\\model-best\\assets\n"
     ]
    },
    {
     "name": "stderr",
     "output_type": "stream",
     "text": [
      "INFO:tensorflow:Assets written to: C:\\Users\\Burka\\Documents\\School\\Letny semester 22-23\\Neuronky\\ns-zadanie1\\wandb\\run-20230329_023429-v31cbnnt\\files\\model-best\\assets\n",
      "\u001b[34m\u001b[1mwandb\u001b[0m: Adding directory to artifact (C:\\Users\\Burka\\Documents\\School\\Letny semester 22-23\\Neuronky\\ns-zadanie1\\wandb\\run-20230329_023429-v31cbnnt\\files\\model-best)... Done. 0.0s\n"
     ]
    },
    {
     "name": "stdout",
     "output_type": "stream",
     "text": [
      "11/11 [==============================] - 1s 139ms/step - loss: 1.8813 - accuracy: 0.7711 - mse: 0.1827 - precision_2: 0.7524 - recall_2: 0.8681 - val_loss: 1.9124 - val_accuracy: 0.6667 - val_mse: 0.2087 - val_precision_2: 0.6000 - val_recall_2: 0.6667\n",
      "Epoch 6/100\n",
      " 1/11 [=>............................] - ETA: 0s - loss: 1.8013 - accuracy: 0.8125 - mse: 0.1582 - precision_2: 0.7000 - recall_2: 1.0000"
     ]
    },
    {
     "name": "stderr",
     "output_type": "stream",
     "text": [
      "WARNING:absl:Found untraced functions such as _update_step_xla while saving (showing 1 of 1). These functions will not be directly callable after loading.\n"
     ]
    },
    {
     "name": "stdout",
     "output_type": "stream",
     "text": [
      "INFO:tensorflow:Assets written to: C:\\Users\\Burka\\Documents\\School\\Letny semester 22-23\\Neuronky\\ns-zadanie1\\wandb\\run-20230329_023429-v31cbnnt\\files\\model-best\\assets\n"
     ]
    },
    {
     "name": "stderr",
     "output_type": "stream",
     "text": [
      "INFO:tensorflow:Assets written to: C:\\Users\\Burka\\Documents\\School\\Letny semester 22-23\\Neuronky\\ns-zadanie1\\wandb\\run-20230329_023429-v31cbnnt\\files\\model-best\\assets\n",
      "\u001b[34m\u001b[1mwandb\u001b[0m: Adding directory to artifact (C:\\Users\\Burka\\Documents\\School\\Letny semester 22-23\\Neuronky\\ns-zadanie1\\wandb\\run-20230329_023429-v31cbnnt\\files\\model-best)... Done. 0.0s\n"
     ]
    },
    {
     "name": "stdout",
     "output_type": "stream",
     "text": [
      "11/11 [==============================] - 1s 134ms/step - loss: 1.8156 - accuracy: 0.7771 - mse: 0.1719 - precision_2: 0.7547 - recall_2: 0.8791 - val_loss: 1.8577 - val_accuracy: 0.6190 - val_mse: 0.2022 - val_precision_2: 0.5455 - val_recall_2: 0.6667\n",
      "Epoch 7/100\n",
      " 1/11 [=>............................] - ETA: 0s - loss: 1.7745 - accuracy: 0.8125 - mse: 0.1622 - precision_2: 0.8333 - recall_2: 0.7143"
     ]
    },
    {
     "name": "stderr",
     "output_type": "stream",
     "text": [
      "WARNING:absl:Found untraced functions such as _update_step_xla while saving (showing 1 of 1). These functions will not be directly callable after loading.\n"
     ]
    },
    {
     "name": "stdout",
     "output_type": "stream",
     "text": [
      "INFO:tensorflow:Assets written to: C:\\Users\\Burka\\Documents\\School\\Letny semester 22-23\\Neuronky\\ns-zadanie1\\wandb\\run-20230329_023429-v31cbnnt\\files\\model-best\\assets\n"
     ]
    },
    {
     "name": "stderr",
     "output_type": "stream",
     "text": [
      "INFO:tensorflow:Assets written to: C:\\Users\\Burka\\Documents\\School\\Letny semester 22-23\\Neuronky\\ns-zadanie1\\wandb\\run-20230329_023429-v31cbnnt\\files\\model-best\\assets\n",
      "\u001b[34m\u001b[1mwandb\u001b[0m: Adding directory to artifact (C:\\Users\\Burka\\Documents\\School\\Letny semester 22-23\\Neuronky\\ns-zadanie1\\wandb\\run-20230329_023429-v31cbnnt\\files\\model-best)... Done. 0.0s\n"
     ]
    },
    {
     "name": "stdout",
     "output_type": "stream",
     "text": [
      "11/11 [==============================] - 1s 141ms/step - loss: 1.7551 - accuracy: 0.7831 - mse: 0.1629 - precision_2: 0.7619 - recall_2: 0.8791 - val_loss: 1.8047 - val_accuracy: 0.6667 - val_mse: 0.1961 - val_precision_2: 0.6000 - val_recall_2: 0.6667\n",
      "Epoch 8/100\n",
      " 1/11 [=>............................] - ETA: 0s - loss: 1.8664 - accuracy: 0.6875 - mse: 0.2246 - precision_2: 0.5000 - recall_2: 0.8000"
     ]
    },
    {
     "name": "stderr",
     "output_type": "stream",
     "text": [
      "WARNING:absl:Found untraced functions such as _update_step_xla while saving (showing 1 of 1). These functions will not be directly callable after loading.\n"
     ]
    },
    {
     "name": "stdout",
     "output_type": "stream",
     "text": [
      "INFO:tensorflow:Assets written to: C:\\Users\\Burka\\Documents\\School\\Letny semester 22-23\\Neuronky\\ns-zadanie1\\wandb\\run-20230329_023429-v31cbnnt\\files\\model-best\\assets\n"
     ]
    },
    {
     "name": "stderr",
     "output_type": "stream",
     "text": [
      "INFO:tensorflow:Assets written to: C:\\Users\\Burka\\Documents\\School\\Letny semester 22-23\\Neuronky\\ns-zadanie1\\wandb\\run-20230329_023429-v31cbnnt\\files\\model-best\\assets\n",
      "\u001b[34m\u001b[1mwandb\u001b[0m: Adding directory to artifact (C:\\Users\\Burka\\Documents\\School\\Letny semester 22-23\\Neuronky\\ns-zadanie1\\wandb\\run-20230329_023429-v31cbnnt\\files\\model-best)... Done. 0.0s\n"
     ]
    },
    {
     "name": "stdout",
     "output_type": "stream",
     "text": [
      "11/11 [==============================] - 1s 140ms/step - loss: 1.6931 - accuracy: 0.8193 - mse: 0.1531 - precision_2: 0.8020 - recall_2: 0.8901 - val_loss: 1.7497 - val_accuracy: 0.6667 - val_mse: 0.1890 - val_precision_2: 0.6000 - val_recall_2: 0.6667\n",
      "Epoch 9/100\n",
      " 1/11 [=>............................] - ETA: 0s - loss: 1.6454 - accuracy: 0.9375 - mse: 0.1381 - precision_2: 1.0000 - recall_2: 0.9091"
     ]
    },
    {
     "name": "stderr",
     "output_type": "stream",
     "text": [
      "WARNING:absl:Found untraced functions such as _update_step_xla while saving (showing 1 of 1). These functions will not be directly callable after loading.\n"
     ]
    },
    {
     "name": "stdout",
     "output_type": "stream",
     "text": [
      "INFO:tensorflow:Assets written to: C:\\Users\\Burka\\Documents\\School\\Letny semester 22-23\\Neuronky\\ns-zadanie1\\wandb\\run-20230329_023429-v31cbnnt\\files\\model-best\\assets\n"
     ]
    },
    {
     "name": "stderr",
     "output_type": "stream",
     "text": [
      "INFO:tensorflow:Assets written to: C:\\Users\\Burka\\Documents\\School\\Letny semester 22-23\\Neuronky\\ns-zadanie1\\wandb\\run-20230329_023429-v31cbnnt\\files\\model-best\\assets\n",
      "\u001b[34m\u001b[1mwandb\u001b[0m: Adding directory to artifact (C:\\Users\\Burka\\Documents\\School\\Letny semester 22-23\\Neuronky\\ns-zadanie1\\wandb\\run-20230329_023429-v31cbnnt\\files\\model-best)... Done. 0.0s\n"
     ]
    },
    {
     "name": "stdout",
     "output_type": "stream",
     "text": [
      "11/11 [==============================] - 2s 166ms/step - loss: 1.6357 - accuracy: 0.8373 - mse: 0.1449 - precision_2: 0.8200 - recall_2: 0.9011 - val_loss: 1.6975 - val_accuracy: 0.7143 - val_mse: 0.1831 - val_precision_2: 0.6667 - val_recall_2: 0.6667\n",
      "Epoch 10/100\n",
      " 1/11 [=>............................] - ETA: 0s - loss: 1.5571 - accuracy: 0.8750 - mse: 0.1192 - precision_2: 0.8182 - recall_2: 1.0000"
     ]
    },
    {
     "name": "stderr",
     "output_type": "stream",
     "text": [
      "WARNING:absl:Found untraced functions such as _update_step_xla while saving (showing 1 of 1). These functions will not be directly callable after loading.\n"
     ]
    },
    {
     "name": "stdout",
     "output_type": "stream",
     "text": [
      "INFO:tensorflow:Assets written to: C:\\Users\\Burka\\Documents\\School\\Letny semester 22-23\\Neuronky\\ns-zadanie1\\wandb\\run-20230329_023429-v31cbnnt\\files\\model-best\\assets\n"
     ]
    },
    {
     "name": "stderr",
     "output_type": "stream",
     "text": [
      "INFO:tensorflow:Assets written to: C:\\Users\\Burka\\Documents\\School\\Letny semester 22-23\\Neuronky\\ns-zadanie1\\wandb\\run-20230329_023429-v31cbnnt\\files\\model-best\\assets\n",
      "\u001b[34m\u001b[1mwandb\u001b[0m: Adding directory to artifact (C:\\Users\\Burka\\Documents\\School\\Letny semester 22-23\\Neuronky\\ns-zadanie1\\wandb\\run-20230329_023429-v31cbnnt\\files\\model-best)... Done. 0.0s\n"
     ]
    },
    {
     "name": "stdout",
     "output_type": "stream",
     "text": [
      "11/11 [==============================] - 1s 143ms/step - loss: 1.5761 - accuracy: 0.8494 - mse: 0.1352 - precision_2: 0.8367 - recall_2: 0.9011 - val_loss: 1.6445 - val_accuracy: 0.7143 - val_mse: 0.1760 - val_precision_2: 0.6667 - val_recall_2: 0.6667\n",
      "Epoch 11/100\n",
      " 1/11 [=>............................] - ETA: 0s - loss: 1.5728 - accuracy: 0.8125 - mse: 0.1428 - precision_2: 1.0000 - recall_2: 0.6667"
     ]
    },
    {
     "name": "stderr",
     "output_type": "stream",
     "text": [
      "WARNING:absl:Found untraced functions such as _update_step_xla while saving (showing 1 of 1). These functions will not be directly callable after loading.\n"
     ]
    },
    {
     "name": "stdout",
     "output_type": "stream",
     "text": [
      "INFO:tensorflow:Assets written to: C:\\Users\\Burka\\Documents\\School\\Letny semester 22-23\\Neuronky\\ns-zadanie1\\wandb\\run-20230329_023429-v31cbnnt\\files\\model-best\\assets\n"
     ]
    },
    {
     "name": "stderr",
     "output_type": "stream",
     "text": [
      "INFO:tensorflow:Assets written to: C:\\Users\\Burka\\Documents\\School\\Letny semester 22-23\\Neuronky\\ns-zadanie1\\wandb\\run-20230329_023429-v31cbnnt\\files\\model-best\\assets\n",
      "\u001b[34m\u001b[1mwandb\u001b[0m: Adding directory to artifact (C:\\Users\\Burka\\Documents\\School\\Letny semester 22-23\\Neuronky\\ns-zadanie1\\wandb\\run-20230329_023429-v31cbnnt\\files\\model-best)... Done. 0.0s\n"
     ]
    },
    {
     "name": "stdout",
     "output_type": "stream",
     "text": [
      "11/11 [==============================] - 1s 139ms/step - loss: 1.5203 - accuracy: 0.8554 - mse: 0.1269 - precision_2: 0.8454 - recall_2: 0.9011 - val_loss: 1.5941 - val_accuracy: 0.7143 - val_mse: 0.1701 - val_precision_2: 0.6667 - val_recall_2: 0.6667\n",
      "Epoch 12/100\n",
      " 1/11 [=>............................] - ETA: 0s - loss: 1.5749 - accuracy: 0.7500 - mse: 0.1605 - precision_2: 0.6250 - recall_2: 0.8333"
     ]
    },
    {
     "name": "stderr",
     "output_type": "stream",
     "text": [
      "WARNING:absl:Found untraced functions such as _update_step_xla while saving (showing 1 of 1). These functions will not be directly callable after loading.\n"
     ]
    },
    {
     "name": "stdout",
     "output_type": "stream",
     "text": [
      "INFO:tensorflow:Assets written to: C:\\Users\\Burka\\Documents\\School\\Letny semester 22-23\\Neuronky\\ns-zadanie1\\wandb\\run-20230329_023429-v31cbnnt\\files\\model-best\\assets\n"
     ]
    },
    {
     "name": "stderr",
     "output_type": "stream",
     "text": [
      "INFO:tensorflow:Assets written to: C:\\Users\\Burka\\Documents\\School\\Letny semester 22-23\\Neuronky\\ns-zadanie1\\wandb\\run-20230329_023429-v31cbnnt\\files\\model-best\\assets\n",
      "\u001b[34m\u001b[1mwandb\u001b[0m: Adding directory to artifact (C:\\Users\\Burka\\Documents\\School\\Letny semester 22-23\\Neuronky\\ns-zadanie1\\wandb\\run-20230329_023429-v31cbnnt\\files\\model-best)... Done. 0.0s\n"
     ]
    },
    {
     "name": "stdout",
     "output_type": "stream",
     "text": [
      "11/11 [==============================] - 1s 147ms/step - loss: 1.4646 - accuracy: 0.8735 - mse: 0.1185 - precision_2: 0.8723 - recall_2: 0.9011 - val_loss: 1.5494 - val_accuracy: 0.7143 - val_mse: 0.1666 - val_precision_2: 0.6667 - val_recall_2: 0.6667\n",
      "Epoch 13/100\n",
      " 1/11 [=>............................] - ETA: 0s - loss: 1.4648 - accuracy: 0.8750 - mse: 0.1296 - precision_2: 0.8571 - recall_2: 0.8571"
     ]
    },
    {
     "name": "stderr",
     "output_type": "stream",
     "text": [
      "WARNING:absl:Found untraced functions such as _update_step_xla while saving (showing 1 of 1). These functions will not be directly callable after loading.\n"
     ]
    },
    {
     "name": "stdout",
     "output_type": "stream",
     "text": [
      "INFO:tensorflow:Assets written to: C:\\Users\\Burka\\Documents\\School\\Letny semester 22-23\\Neuronky\\ns-zadanie1\\wandb\\run-20230329_023429-v31cbnnt\\files\\model-best\\assets\n"
     ]
    },
    {
     "name": "stderr",
     "output_type": "stream",
     "text": [
      "INFO:tensorflow:Assets written to: C:\\Users\\Burka\\Documents\\School\\Letny semester 22-23\\Neuronky\\ns-zadanie1\\wandb\\run-20230329_023429-v31cbnnt\\files\\model-best\\assets\n",
      "\u001b[34m\u001b[1mwandb\u001b[0m: Adding directory to artifact (C:\\Users\\Burka\\Documents\\School\\Letny semester 22-23\\Neuronky\\ns-zadanie1\\wandb\\run-20230329_023429-v31cbnnt\\files\\model-best)... Done. 0.0s\n"
     ]
    },
    {
     "name": "stdout",
     "output_type": "stream",
     "text": [
      "11/11 [==============================] - 1s 141ms/step - loss: 1.4091 - accuracy: 0.8735 - mse: 0.1102 - precision_2: 0.8646 - recall_2: 0.9121 - val_loss: 1.5005 - val_accuracy: 0.6667 - val_mse: 0.1615 - val_precision_2: 0.6000 - val_recall_2: 0.6667\n",
      "Epoch 14/100\n",
      " 1/11 [=>............................] - ETA: 0s - loss: 1.4655 - accuracy: 0.8750 - mse: 0.1389 - precision_2: 0.8182 - recall_2: 1.0000"
     ]
    },
    {
     "name": "stderr",
     "output_type": "stream",
     "text": [
      "WARNING:absl:Found untraced functions such as _update_step_xla while saving (showing 1 of 1). These functions will not be directly callable after loading.\n"
     ]
    },
    {
     "name": "stdout",
     "output_type": "stream",
     "text": [
      "INFO:tensorflow:Assets written to: C:\\Users\\Burka\\Documents\\School\\Letny semester 22-23\\Neuronky\\ns-zadanie1\\wandb\\run-20230329_023429-v31cbnnt\\files\\model-best\\assets\n"
     ]
    },
    {
     "name": "stderr",
     "output_type": "stream",
     "text": [
      "INFO:tensorflow:Assets written to: C:\\Users\\Burka\\Documents\\School\\Letny semester 22-23\\Neuronky\\ns-zadanie1\\wandb\\run-20230329_023429-v31cbnnt\\files\\model-best\\assets\n",
      "\u001b[34m\u001b[1mwandb\u001b[0m: Adding directory to artifact (C:\\Users\\Burka\\Documents\\School\\Letny semester 22-23\\Neuronky\\ns-zadanie1\\wandb\\run-20230329_023429-v31cbnnt\\files\\model-best)... Done. 0.0s\n"
     ]
    },
    {
     "name": "stdout",
     "output_type": "stream",
     "text": [
      "11/11 [==============================] - 1s 141ms/step - loss: 1.3534 - accuracy: 0.8916 - mse: 0.1017 - precision_2: 0.8842 - recall_2: 0.9231 - val_loss: 1.4589 - val_accuracy: 0.6667 - val_mse: 0.1596 - val_precision_2: 0.6000 - val_recall_2: 0.6667\n",
      "Epoch 15/100\n",
      " 1/11 [=>............................] - ETA: 0s - loss: 1.3562 - accuracy: 0.7500 - mse: 0.1153 - precision_2: 0.7000 - recall_2: 0.8750"
     ]
    },
    {
     "name": "stderr",
     "output_type": "stream",
     "text": [
      "WARNING:absl:Found untraced functions such as _update_step_xla while saving (showing 1 of 1). These functions will not be directly callable after loading.\n"
     ]
    },
    {
     "name": "stdout",
     "output_type": "stream",
     "text": [
      "INFO:tensorflow:Assets written to: C:\\Users\\Burka\\Documents\\School\\Letny semester 22-23\\Neuronky\\ns-zadanie1\\wandb\\run-20230329_023429-v31cbnnt\\files\\model-best\\assets\n"
     ]
    },
    {
     "name": "stderr",
     "output_type": "stream",
     "text": [
      "INFO:tensorflow:Assets written to: C:\\Users\\Burka\\Documents\\School\\Letny semester 22-23\\Neuronky\\ns-zadanie1\\wandb\\run-20230329_023429-v31cbnnt\\files\\model-best\\assets\n",
      "\u001b[34m\u001b[1mwandb\u001b[0m: Adding directory to artifact (C:\\Users\\Burka\\Documents\\School\\Letny semester 22-23\\Neuronky\\ns-zadanie1\\wandb\\run-20230329_023429-v31cbnnt\\files\\model-best)... Done. 0.0s\n"
     ]
    },
    {
     "name": "stdout",
     "output_type": "stream",
     "text": [
      "11/11 [==============================] - 1s 145ms/step - loss: 1.2979 - accuracy: 0.9036 - mse: 0.0929 - precision_2: 0.9032 - recall_2: 0.9231 - val_loss: 1.4185 - val_accuracy: 0.7143 - val_mse: 0.1576 - val_precision_2: 0.6667 - val_recall_2: 0.6667\n",
      "Epoch 16/100\n",
      " 1/11 [=>............................] - ETA: 0s - loss: 1.1528 - accuracy: 0.9375 - mse: 0.0418 - precision_2: 1.0000 - recall_2: 0.8889"
     ]
    },
    {
     "name": "stderr",
     "output_type": "stream",
     "text": [
      "WARNING:absl:Found untraced functions such as _update_step_xla while saving (showing 1 of 1). These functions will not be directly callable after loading.\n"
     ]
    },
    {
     "name": "stdout",
     "output_type": "stream",
     "text": [
      "INFO:tensorflow:Assets written to: C:\\Users\\Burka\\Documents\\School\\Letny semester 22-23\\Neuronky\\ns-zadanie1\\wandb\\run-20230329_023429-v31cbnnt\\files\\model-best\\assets\n"
     ]
    },
    {
     "name": "stderr",
     "output_type": "stream",
     "text": [
      "INFO:tensorflow:Assets written to: C:\\Users\\Burka\\Documents\\School\\Letny semester 22-23\\Neuronky\\ns-zadanie1\\wandb\\run-20230329_023429-v31cbnnt\\files\\model-best\\assets\n",
      "\u001b[34m\u001b[1mwandb\u001b[0m: Adding directory to artifact (C:\\Users\\Burka\\Documents\\School\\Letny semester 22-23\\Neuronky\\ns-zadanie1\\wandb\\run-20230329_023429-v31cbnnt\\files\\model-best)... Done. 0.0s\n"
     ]
    },
    {
     "name": "stdout",
     "output_type": "stream",
     "text": [
      "11/11 [==============================] - 2s 172ms/step - loss: 1.2460 - accuracy: 0.9277 - mse: 0.0852 - precision_2: 0.9438 - recall_2: 0.9231 - val_loss: 1.3740 - val_accuracy: 0.7143 - val_mse: 0.1533 - val_precision_2: 0.6667 - val_recall_2: 0.6667\n",
      "Epoch 17/100\n",
      " 1/11 [=>............................] - ETA: 0s - loss: 1.2052 - accuracy: 0.8750 - mse: 0.0804 - precision_2: 0.8889 - recall_2: 0.8889"
     ]
    },
    {
     "name": "stderr",
     "output_type": "stream",
     "text": [
      "WARNING:absl:Found untraced functions such as _update_step_xla while saving (showing 1 of 1). These functions will not be directly callable after loading.\n"
     ]
    },
    {
     "name": "stdout",
     "output_type": "stream",
     "text": [
      "INFO:tensorflow:Assets written to: C:\\Users\\Burka\\Documents\\School\\Letny semester 22-23\\Neuronky\\ns-zadanie1\\wandb\\run-20230329_023429-v31cbnnt\\files\\model-best\\assets\n"
     ]
    },
    {
     "name": "stderr",
     "output_type": "stream",
     "text": [
      "INFO:tensorflow:Assets written to: C:\\Users\\Burka\\Documents\\School\\Letny semester 22-23\\Neuronky\\ns-zadanie1\\wandb\\run-20230329_023429-v31cbnnt\\files\\model-best\\assets\n",
      "\u001b[34m\u001b[1mwandb\u001b[0m: Adding directory to artifact (C:\\Users\\Burka\\Documents\\School\\Letny semester 22-23\\Neuronky\\ns-zadanie1\\wandb\\run-20230329_023429-v31cbnnt\\files\\model-best)... Done. 0.0s\n"
     ]
    },
    {
     "name": "stdout",
     "output_type": "stream",
     "text": [
      "11/11 [==============================] - 2s 161ms/step - loss: 1.1967 - accuracy: 0.9337 - mse: 0.0784 - precision_2: 0.9444 - recall_2: 0.9341 - val_loss: 1.3341 - val_accuracy: 0.7143 - val_mse: 0.1504 - val_precision_2: 0.6667 - val_recall_2: 0.6667\n",
      "Epoch 18/100\n",
      " 1/11 [=>............................] - ETA: 0s - loss: 1.1279 - accuracy: 1.0000 - mse: 0.0536 - precision_2: 1.0000 - recall_2: 1.0000"
     ]
    },
    {
     "name": "stderr",
     "output_type": "stream",
     "text": [
      "WARNING:absl:Found untraced functions such as _update_step_xla while saving (showing 1 of 1). These functions will not be directly callable after loading.\n"
     ]
    },
    {
     "name": "stdout",
     "output_type": "stream",
     "text": [
      "INFO:tensorflow:Assets written to: C:\\Users\\Burka\\Documents\\School\\Letny semester 22-23\\Neuronky\\ns-zadanie1\\wandb\\run-20230329_023429-v31cbnnt\\files\\model-best\\assets\n"
     ]
    },
    {
     "name": "stderr",
     "output_type": "stream",
     "text": [
      "INFO:tensorflow:Assets written to: C:\\Users\\Burka\\Documents\\School\\Letny semester 22-23\\Neuronky\\ns-zadanie1\\wandb\\run-20230329_023429-v31cbnnt\\files\\model-best\\assets\n",
      "\u001b[34m\u001b[1mwandb\u001b[0m: Adding directory to artifact (C:\\Users\\Burka\\Documents\\School\\Letny semester 22-23\\Neuronky\\ns-zadanie1\\wandb\\run-20230329_023429-v31cbnnt\\files\\model-best)... Done. 0.0s\n"
     ]
    },
    {
     "name": "stdout",
     "output_type": "stream",
     "text": [
      "11/11 [==============================] - 2s 151ms/step - loss: 1.1503 - accuracy: 0.9337 - mse: 0.0726 - precision_2: 0.9444 - recall_2: 0.9341 - val_loss: 1.2968 - val_accuracy: 0.6667 - val_mse: 0.1482 - val_precision_2: 0.6000 - val_recall_2: 0.6667\n",
      "Epoch 19/100\n",
      " 1/11 [=>............................] - ETA: 0s - loss: 1.0678 - accuracy: 0.8750 - mse: 0.0571 - precision_2: 0.8571 - recall_2: 0.8571"
     ]
    },
    {
     "name": "stderr",
     "output_type": "stream",
     "text": [
      "WARNING:absl:Found untraced functions such as _update_step_xla while saving (showing 1 of 1). These functions will not be directly callable after loading.\n"
     ]
    },
    {
     "name": "stdout",
     "output_type": "stream",
     "text": [
      "INFO:tensorflow:Assets written to: C:\\Users\\Burka\\Documents\\School\\Letny semester 22-23\\Neuronky\\ns-zadanie1\\wandb\\run-20230329_023429-v31cbnnt\\files\\model-best\\assets\n"
     ]
    },
    {
     "name": "stderr",
     "output_type": "stream",
     "text": [
      "INFO:tensorflow:Assets written to: C:\\Users\\Burka\\Documents\\School\\Letny semester 22-23\\Neuronky\\ns-zadanie1\\wandb\\run-20230329_023429-v31cbnnt\\files\\model-best\\assets\n",
      "\u001b[34m\u001b[1mwandb\u001b[0m: Adding directory to artifact (C:\\Users\\Burka\\Documents\\School\\Letny semester 22-23\\Neuronky\\ns-zadanie1\\wandb\\run-20230329_023429-v31cbnnt\\files\\model-best)... Done. 0.0s\n"
     ]
    },
    {
     "name": "stdout",
     "output_type": "stream",
     "text": [
      "11/11 [==============================] - 1s 146ms/step - loss: 1.1043 - accuracy: 0.9337 - mse: 0.0668 - precision_2: 0.9444 - recall_2: 0.9341 - val_loss: 1.2566 - val_accuracy: 0.6667 - val_mse: 0.1444 - val_precision_2: 0.6000 - val_recall_2: 0.6667\n",
      "Epoch 20/100\n",
      " 1/11 [=>............................] - ETA: 0s - loss: 1.1940 - accuracy: 0.8125 - mse: 0.1107 - precision_2: 0.8889 - recall_2: 0.8000"
     ]
    },
    {
     "name": "stderr",
     "output_type": "stream",
     "text": [
      "WARNING:absl:Found untraced functions such as _update_step_xla while saving (showing 1 of 1). These functions will not be directly callable after loading.\n"
     ]
    },
    {
     "name": "stdout",
     "output_type": "stream",
     "text": [
      "INFO:tensorflow:Assets written to: C:\\Users\\Burka\\Documents\\School\\Letny semester 22-23\\Neuronky\\ns-zadanie1\\wandb\\run-20230329_023429-v31cbnnt\\files\\model-best\\assets\n"
     ]
    },
    {
     "name": "stderr",
     "output_type": "stream",
     "text": [
      "INFO:tensorflow:Assets written to: C:\\Users\\Burka\\Documents\\School\\Letny semester 22-23\\Neuronky\\ns-zadanie1\\wandb\\run-20230329_023429-v31cbnnt\\files\\model-best\\assets\n",
      "\u001b[34m\u001b[1mwandb\u001b[0m: Adding directory to artifact (C:\\Users\\Burka\\Documents\\School\\Letny semester 22-23\\Neuronky\\ns-zadanie1\\wandb\\run-20230329_023429-v31cbnnt\\files\\model-best)... Done. 0.0s\n"
     ]
    },
    {
     "name": "stdout",
     "output_type": "stream",
     "text": [
      "11/11 [==============================] - 1s 144ms/step - loss: 1.0615 - accuracy: 0.9337 - mse: 0.0621 - precision_2: 0.9444 - recall_2: 0.9341 - val_loss: 1.2154 - val_accuracy: 0.6667 - val_mse: 0.1398 - val_precision_2: 0.6000 - val_recall_2: 0.6667\n",
      "Epoch 21/100\n",
      " 1/11 [=>............................] - ETA: 0s - loss: 1.0299 - accuracy: 0.9375 - mse: 0.0604 - precision_2: 0.8889 - recall_2: 1.0000"
     ]
    },
    {
     "name": "stderr",
     "output_type": "stream",
     "text": [
      "WARNING:absl:Found untraced functions such as _update_step_xla while saving (showing 1 of 1). These functions will not be directly callable after loading.\n"
     ]
    },
    {
     "name": "stdout",
     "output_type": "stream",
     "text": [
      "INFO:tensorflow:Assets written to: C:\\Users\\Burka\\Documents\\School\\Letny semester 22-23\\Neuronky\\ns-zadanie1\\wandb\\run-20230329_023429-v31cbnnt\\files\\model-best\\assets\n"
     ]
    },
    {
     "name": "stderr",
     "output_type": "stream",
     "text": [
      "INFO:tensorflow:Assets written to: C:\\Users\\Burka\\Documents\\School\\Letny semester 22-23\\Neuronky\\ns-zadanie1\\wandb\\run-20230329_023429-v31cbnnt\\files\\model-best\\assets\n",
      "\u001b[34m\u001b[1mwandb\u001b[0m: Adding directory to artifact (C:\\Users\\Burka\\Documents\\School\\Letny semester 22-23\\Neuronky\\ns-zadanie1\\wandb\\run-20230329_023429-v31cbnnt\\files\\model-best)... Done. 0.0s\n"
     ]
    },
    {
     "name": "stdout",
     "output_type": "stream",
     "text": [
      "11/11 [==============================] - 1s 138ms/step - loss: 1.0197 - accuracy: 0.9337 - mse: 0.0574 - precision_2: 0.9444 - recall_2: 0.9341 - val_loss: 1.1852 - val_accuracy: 0.7143 - val_mse: 0.1393 - val_precision_2: 0.6364 - val_recall_2: 0.7778\n",
      "Epoch 22/100\n",
      " 1/11 [=>............................] - ETA: 0s - loss: 1.0015 - accuracy: 0.9375 - mse: 0.0585 - precision_2: 1.0000 - recall_2: 0.8571"
     ]
    },
    {
     "name": "stderr",
     "output_type": "stream",
     "text": [
      "WARNING:absl:Found untraced functions such as _update_step_xla while saving (showing 1 of 1). These functions will not be directly callable after loading.\n"
     ]
    },
    {
     "name": "stdout",
     "output_type": "stream",
     "text": [
      "INFO:tensorflow:Assets written to: C:\\Users\\Burka\\Documents\\School\\Letny semester 22-23\\Neuronky\\ns-zadanie1\\wandb\\run-20230329_023429-v31cbnnt\\files\\model-best\\assets\n"
     ]
    },
    {
     "name": "stderr",
     "output_type": "stream",
     "text": [
      "INFO:tensorflow:Assets written to: C:\\Users\\Burka\\Documents\\School\\Letny semester 22-23\\Neuronky\\ns-zadanie1\\wandb\\run-20230329_023429-v31cbnnt\\files\\model-best\\assets\n",
      "\u001b[34m\u001b[1mwandb\u001b[0m: Adding directory to artifact (C:\\Users\\Burka\\Documents\\School\\Letny semester 22-23\\Neuronky\\ns-zadanie1\\wandb\\run-20230329_023429-v31cbnnt\\files\\model-best)... Done. 0.0s\n"
     ]
    },
    {
     "name": "stdout",
     "output_type": "stream",
     "text": [
      "11/11 [==============================] - 1s 134ms/step - loss: 0.9812 - accuracy: 0.9458 - mse: 0.0534 - precision_2: 0.9556 - recall_2: 0.9451 - val_loss: 1.1606 - val_accuracy: 0.7143 - val_mse: 0.1402 - val_precision_2: 0.6364 - val_recall_2: 0.7778\n",
      "Epoch 23/100\n",
      " 1/11 [=>............................] - ETA: 0s - loss: 0.9323 - accuracy: 0.9375 - mse: 0.0471 - precision_2: 0.8750 - recall_2: 1.0000"
     ]
    },
    {
     "name": "stderr",
     "output_type": "stream",
     "text": [
      "WARNING:absl:Found untraced functions such as _update_step_xla while saving (showing 1 of 1). These functions will not be directly callable after loading.\n"
     ]
    },
    {
     "name": "stdout",
     "output_type": "stream",
     "text": [
      "INFO:tensorflow:Assets written to: C:\\Users\\Burka\\Documents\\School\\Letny semester 22-23\\Neuronky\\ns-zadanie1\\wandb\\run-20230329_023429-v31cbnnt\\files\\model-best\\assets\n"
     ]
    },
    {
     "name": "stderr",
     "output_type": "stream",
     "text": [
      "INFO:tensorflow:Assets written to: C:\\Users\\Burka\\Documents\\School\\Letny semester 22-23\\Neuronky\\ns-zadanie1\\wandb\\run-20230329_023429-v31cbnnt\\files\\model-best\\assets\n",
      "\u001b[34m\u001b[1mwandb\u001b[0m: Adding directory to artifact (C:\\Users\\Burka\\Documents\\School\\Letny semester 22-23\\Neuronky\\ns-zadanie1\\wandb\\run-20230329_023429-v31cbnnt\\files\\model-best)... Done. 0.0s\n"
     ]
    },
    {
     "name": "stdout",
     "output_type": "stream",
     "text": [
      "11/11 [==============================] - 1s 144ms/step - loss: 0.9451 - accuracy: 0.9458 - mse: 0.0499 - precision_2: 0.9556 - recall_2: 0.9451 - val_loss: 1.1226 - val_accuracy: 0.7143 - val_mse: 0.1358 - val_precision_2: 0.6364 - val_recall_2: 0.7778\n",
      "Epoch 24/100\n",
      " 1/11 [=>............................] - ETA: 0s - loss: 1.0039 - accuracy: 0.8750 - mse: 0.0760 - precision_2: 0.7778 - recall_2: 1.0000"
     ]
    },
    {
     "name": "stderr",
     "output_type": "stream",
     "text": [
      "WARNING:absl:Found untraced functions such as _update_step_xla while saving (showing 1 of 1). These functions will not be directly callable after loading.\n"
     ]
    },
    {
     "name": "stdout",
     "output_type": "stream",
     "text": [
      "INFO:tensorflow:Assets written to: C:\\Users\\Burka\\Documents\\School\\Letny semester 22-23\\Neuronky\\ns-zadanie1\\wandb\\run-20230329_023429-v31cbnnt\\files\\model-best\\assets\n"
     ]
    },
    {
     "name": "stderr",
     "output_type": "stream",
     "text": [
      "INFO:tensorflow:Assets written to: C:\\Users\\Burka\\Documents\\School\\Letny semester 22-23\\Neuronky\\ns-zadanie1\\wandb\\run-20230329_023429-v31cbnnt\\files\\model-best\\assets\n",
      "\u001b[34m\u001b[1mwandb\u001b[0m: Adding directory to artifact (C:\\Users\\Burka\\Documents\\School\\Letny semester 22-23\\Neuronky\\ns-zadanie1\\wandb\\run-20230329_023429-v31cbnnt\\files\\model-best)... Done. 0.0s\n"
     ]
    },
    {
     "name": "stdout",
     "output_type": "stream",
     "text": [
      "11/11 [==============================] - 2s 161ms/step - loss: 0.9071 - accuracy: 0.9518 - mse: 0.0452 - precision_2: 0.9560 - recall_2: 0.9560 - val_loss: 1.1064 - val_accuracy: 0.7143 - val_mse: 0.1389 - val_precision_2: 0.6154 - val_recall_2: 0.8889\n",
      "Epoch 25/100\n",
      " 1/11 [=>............................] - ETA: 0s - loss: 0.9229 - accuracy: 0.9375 - mse: 0.0545 - precision_2: 1.0000 - recall_2: 0.8571"
     ]
    },
    {
     "name": "stderr",
     "output_type": "stream",
     "text": [
      "WARNING:absl:Found untraced functions such as _update_step_xla while saving (showing 1 of 1). These functions will not be directly callable after loading.\n"
     ]
    },
    {
     "name": "stdout",
     "output_type": "stream",
     "text": [
      "INFO:tensorflow:Assets written to: C:\\Users\\Burka\\Documents\\School\\Letny semester 22-23\\Neuronky\\ns-zadanie1\\wandb\\run-20230329_023429-v31cbnnt\\files\\model-best\\assets\n"
     ]
    },
    {
     "name": "stderr",
     "output_type": "stream",
     "text": [
      "INFO:tensorflow:Assets written to: C:\\Users\\Burka\\Documents\\School\\Letny semester 22-23\\Neuronky\\ns-zadanie1\\wandb\\run-20230329_023429-v31cbnnt\\files\\model-best\\assets\n",
      "\u001b[34m\u001b[1mwandb\u001b[0m: Adding directory to artifact (C:\\Users\\Burka\\Documents\\School\\Letny semester 22-23\\Neuronky\\ns-zadanie1\\wandb\\run-20230329_023429-v31cbnnt\\files\\model-best)... Done. 0.0s\n"
     ]
    },
    {
     "name": "stdout",
     "output_type": "stream",
     "text": [
      "11/11 [==============================] - 1s 136ms/step - loss: 0.8771 - accuracy: 0.9578 - mse: 0.0432 - precision_2: 0.9565 - recall_2: 0.9670 - val_loss: 1.1045 - val_accuracy: 0.7619 - val_mse: 0.1461 - val_precision_2: 0.6667 - val_recall_2: 0.8889\n",
      "Epoch 26/100\n",
      " 1/11 [=>............................] - ETA: 0s - loss: 0.7694 - accuracy: 1.0000 - mse: 0.0098 - precision_2: 1.0000 - recall_2: 1.0000"
     ]
    },
    {
     "name": "stderr",
     "output_type": "stream",
     "text": [
      "WARNING:absl:Found untraced functions such as _update_step_xla while saving (showing 1 of 1). These functions will not be directly callable after loading.\n"
     ]
    },
    {
     "name": "stdout",
     "output_type": "stream",
     "text": [
      "INFO:tensorflow:Assets written to: C:\\Users\\Burka\\Documents\\School\\Letny semester 22-23\\Neuronky\\ns-zadanie1\\wandb\\run-20230329_023429-v31cbnnt\\files\\model-best\\assets\n"
     ]
    },
    {
     "name": "stderr",
     "output_type": "stream",
     "text": [
      "INFO:tensorflow:Assets written to: C:\\Users\\Burka\\Documents\\School\\Letny semester 22-23\\Neuronky\\ns-zadanie1\\wandb\\run-20230329_023429-v31cbnnt\\files\\model-best\\assets\n",
      "\u001b[34m\u001b[1mwandb\u001b[0m: Adding directory to artifact (C:\\Users\\Burka\\Documents\\School\\Letny semester 22-23\\Neuronky\\ns-zadanie1\\wandb\\run-20230329_023429-v31cbnnt\\files\\model-best)... Done. 0.0s\n"
     ]
    },
    {
     "name": "stdout",
     "output_type": "stream",
     "text": [
      "11/11 [==============================] - 1s 139ms/step - loss: 0.8417 - accuracy: 0.9639 - mse: 0.0388 - precision_2: 0.9670 - recall_2: 0.9670 - val_loss: 1.0908 - val_accuracy: 0.7143 - val_mse: 0.1497 - val_precision_2: 0.6364 - val_recall_2: 0.7778\n",
      "Epoch 27/100\n",
      " 1/11 [=>............................] - ETA: 0s - loss: 0.8399 - accuracy: 0.9375 - mse: 0.0382 - precision_2: 0.9000 - recall_2: 1.0000"
     ]
    },
    {
     "name": "stderr",
     "output_type": "stream",
     "text": [
      "WARNING:absl:Found untraced functions such as _update_step_xla while saving (showing 1 of 1). These functions will not be directly callable after loading.\n"
     ]
    },
    {
     "name": "stdout",
     "output_type": "stream",
     "text": [
      "INFO:tensorflow:Assets written to: C:\\Users\\Burka\\Documents\\School\\Letny semester 22-23\\Neuronky\\ns-zadanie1\\wandb\\run-20230329_023429-v31cbnnt\\files\\model-best\\assets\n"
     ]
    },
    {
     "name": "stderr",
     "output_type": "stream",
     "text": [
      "INFO:tensorflow:Assets written to: C:\\Users\\Burka\\Documents\\School\\Letny semester 22-23\\Neuronky\\ns-zadanie1\\wandb\\run-20230329_023429-v31cbnnt\\files\\model-best\\assets\n",
      "\u001b[34m\u001b[1mwandb\u001b[0m: Adding directory to artifact (C:\\Users\\Burka\\Documents\\School\\Letny semester 22-23\\Neuronky\\ns-zadanie1\\wandb\\run-20230329_023429-v31cbnnt\\files\\model-best)... Done. 0.0s\n"
     ]
    },
    {
     "name": "stdout",
     "output_type": "stream",
     "text": [
      "11/11 [==============================] - 1s 145ms/step - loss: 0.8102 - accuracy: 0.9578 - mse: 0.0358 - precision_2: 0.9565 - recall_2: 0.9670 - val_loss: 1.0792 - val_accuracy: 0.7143 - val_mse: 0.1517 - val_precision_2: 0.6364 - val_recall_2: 0.7778\n",
      "Epoch 28/100\n",
      " 1/11 [=>............................] - ETA: 0s - loss: 0.8208 - accuracy: 0.9375 - mse: 0.0464 - precision_2: 0.8889 - recall_2: 1.0000"
     ]
    },
    {
     "name": "stderr",
     "output_type": "stream",
     "text": [
      "WARNING:absl:Found untraced functions such as _update_step_xla while saving (showing 1 of 1). These functions will not be directly callable after loading.\n"
     ]
    },
    {
     "name": "stdout",
     "output_type": "stream",
     "text": [
      "INFO:tensorflow:Assets written to: C:\\Users\\Burka\\Documents\\School\\Letny semester 22-23\\Neuronky\\ns-zadanie1\\wandb\\run-20230329_023429-v31cbnnt\\files\\model-best\\assets\n"
     ]
    },
    {
     "name": "stderr",
     "output_type": "stream",
     "text": [
      "INFO:tensorflow:Assets written to: C:\\Users\\Burka\\Documents\\School\\Letny semester 22-23\\Neuronky\\ns-zadanie1\\wandb\\run-20230329_023429-v31cbnnt\\files\\model-best\\assets\n",
      "\u001b[34m\u001b[1mwandb\u001b[0m: Adding directory to artifact (C:\\Users\\Burka\\Documents\\School\\Letny semester 22-23\\Neuronky\\ns-zadanie1\\wandb\\run-20230329_023429-v31cbnnt\\files\\model-best)... Done. 0.0s\n"
     ]
    },
    {
     "name": "stdout",
     "output_type": "stream",
     "text": [
      "11/11 [==============================] - 2s 154ms/step - loss: 0.7809 - accuracy: 0.9639 - mse: 0.0333 - precision_2: 0.9670 - recall_2: 0.9670 - val_loss: 1.0511 - val_accuracy: 0.7143 - val_mse: 0.1504 - val_precision_2: 0.6364 - val_recall_2: 0.7778\n",
      "Epoch 29/100\n",
      " 1/11 [=>............................] - ETA: 0s - loss: 0.8585 - accuracy: 0.8750 - mse: 0.0750 - precision_2: 0.9091 - recall_2: 0.9091"
     ]
    },
    {
     "name": "stderr",
     "output_type": "stream",
     "text": [
      "WARNING:absl:Found untraced functions such as _update_step_xla while saving (showing 1 of 1). These functions will not be directly callable after loading.\n"
     ]
    },
    {
     "name": "stdout",
     "output_type": "stream",
     "text": [
      "INFO:tensorflow:Assets written to: C:\\Users\\Burka\\Documents\\School\\Letny semester 22-23\\Neuronky\\ns-zadanie1\\wandb\\run-20230329_023429-v31cbnnt\\files\\model-best\\assets\n"
     ]
    },
    {
     "name": "stderr",
     "output_type": "stream",
     "text": [
      "INFO:tensorflow:Assets written to: C:\\Users\\Burka\\Documents\\School\\Letny semester 22-23\\Neuronky\\ns-zadanie1\\wandb\\run-20230329_023429-v31cbnnt\\files\\model-best\\assets\n",
      "\u001b[34m\u001b[1mwandb\u001b[0m: Adding directory to artifact (C:\\Users\\Burka\\Documents\\School\\Letny semester 22-23\\Neuronky\\ns-zadanie1\\wandb\\run-20230329_023429-v31cbnnt\\files\\model-best)... Done. 0.0s\n"
     ]
    },
    {
     "name": "stdout",
     "output_type": "stream",
     "text": [
      "11/11 [==============================] - 1s 137ms/step - loss: 0.7540 - accuracy: 0.9639 - mse: 0.0311 - precision_2: 0.9670 - recall_2: 0.9670 - val_loss: 1.0507 - val_accuracy: 0.7143 - val_mse: 0.1540 - val_precision_2: 0.6364 - val_recall_2: 0.7778\n",
      "Epoch 30/100\n",
      " 1/11 [=>............................] - ETA: 0s - loss: 0.6704 - accuracy: 1.0000 - mse: 0.0074 - precision_2: 1.0000 - recall_2: 1.0000"
     ]
    },
    {
     "name": "stderr",
     "output_type": "stream",
     "text": [
      "WARNING:absl:Found untraced functions such as _update_step_xla while saving (showing 1 of 1). These functions will not be directly callable after loading.\n"
     ]
    },
    {
     "name": "stdout",
     "output_type": "stream",
     "text": [
      "INFO:tensorflow:Assets written to: C:\\Users\\Burka\\Documents\\School\\Letny semester 22-23\\Neuronky\\ns-zadanie1\\wandb\\run-20230329_023429-v31cbnnt\\files\\model-best\\assets\n"
     ]
    },
    {
     "name": "stderr",
     "output_type": "stream",
     "text": [
      "INFO:tensorflow:Assets written to: C:\\Users\\Burka\\Documents\\School\\Letny semester 22-23\\Neuronky\\ns-zadanie1\\wandb\\run-20230329_023429-v31cbnnt\\files\\model-best\\assets\n",
      "\u001b[34m\u001b[1mwandb\u001b[0m: Adding directory to artifact (C:\\Users\\Burka\\Documents\\School\\Letny semester 22-23\\Neuronky\\ns-zadanie1\\wandb\\run-20230329_023429-v31cbnnt\\files\\model-best)... Done. 0.0s\n"
     ]
    },
    {
     "name": "stdout",
     "output_type": "stream",
     "text": [
      "11/11 [==============================] - 1s 134ms/step - loss: 0.7258 - accuracy: 0.9759 - mse: 0.0281 - precision_2: 0.9780 - recall_2: 0.9780 - val_loss: 1.0186 - val_accuracy: 0.7143 - val_mse: 0.1511 - val_precision_2: 0.6154 - val_recall_2: 0.8889\n",
      "Epoch 31/100\n",
      " 1/11 [=>............................] - ETA: 0s - loss: 0.6698 - accuracy: 1.0000 - mse: 0.0113 - precision_2: 1.0000 - recall_2: 1.0000"
     ]
    },
    {
     "name": "stderr",
     "output_type": "stream",
     "text": [
      "WARNING:absl:Found untraced functions such as _update_step_xla while saving (showing 1 of 1). These functions will not be directly callable after loading.\n"
     ]
    },
    {
     "name": "stdout",
     "output_type": "stream",
     "text": [
      "INFO:tensorflow:Assets written to: C:\\Users\\Burka\\Documents\\School\\Letny semester 22-23\\Neuronky\\ns-zadanie1\\wandb\\run-20230329_023429-v31cbnnt\\files\\model-best\\assets\n"
     ]
    },
    {
     "name": "stderr",
     "output_type": "stream",
     "text": [
      "INFO:tensorflow:Assets written to: C:\\Users\\Burka\\Documents\\School\\Letny semester 22-23\\Neuronky\\ns-zadanie1\\wandb\\run-20230329_023429-v31cbnnt\\files\\model-best\\assets\n",
      "\u001b[34m\u001b[1mwandb\u001b[0m: Adding directory to artifact (C:\\Users\\Burka\\Documents\\School\\Letny semester 22-23\\Neuronky\\ns-zadanie1\\wandb\\run-20230329_023429-v31cbnnt\\files\\model-best)... Done. 0.0s\n"
     ]
    },
    {
     "name": "stdout",
     "output_type": "stream",
     "text": [
      "11/11 [==============================] - 2s 161ms/step - loss: 0.7012 - accuracy: 0.9759 - mse: 0.0260 - precision_2: 0.9780 - recall_2: 0.9780 - val_loss: 1.0165 - val_accuracy: 0.7619 - val_mse: 0.1549 - val_precision_2: 0.6667 - val_recall_2: 0.8889\n",
      "Epoch 32/100\n",
      " 1/11 [=>............................] - ETA: 0s - loss: 0.6630 - accuracy: 1.0000 - mse: 0.0134 - precision_2: 1.0000 - recall_2: 1.0000"
     ]
    },
    {
     "name": "stderr",
     "output_type": "stream",
     "text": [
      "WARNING:absl:Found untraced functions such as _update_step_xla while saving (showing 1 of 1). These functions will not be directly callable after loading.\n"
     ]
    },
    {
     "name": "stdout",
     "output_type": "stream",
     "text": [
      "INFO:tensorflow:Assets written to: C:\\Users\\Burka\\Documents\\School\\Letny semester 22-23\\Neuronky\\ns-zadanie1\\wandb\\run-20230329_023429-v31cbnnt\\files\\model-best\\assets\n"
     ]
    },
    {
     "name": "stderr",
     "output_type": "stream",
     "text": [
      "INFO:tensorflow:Assets written to: C:\\Users\\Burka\\Documents\\School\\Letny semester 22-23\\Neuronky\\ns-zadanie1\\wandb\\run-20230329_023429-v31cbnnt\\files\\model-best\\assets\n",
      "\u001b[34m\u001b[1mwandb\u001b[0m: Adding directory to artifact (C:\\Users\\Burka\\Documents\\School\\Letny semester 22-23\\Neuronky\\ns-zadanie1\\wandb\\run-20230329_023429-v31cbnnt\\files\\model-best)... Done. 0.0s\n"
     ]
    },
    {
     "name": "stdout",
     "output_type": "stream",
     "text": [
      "11/11 [==============================] - 1s 134ms/step - loss: 0.6774 - accuracy: 0.9819 - mse: 0.0242 - precision_2: 0.9889 - recall_2: 0.9780 - val_loss: 0.9969 - val_accuracy: 0.7143 - val_mse: 0.1558 - val_precision_2: 0.6154 - val_recall_2: 0.8889\n",
      "Epoch 33/100\n",
      "11/11 [==============================] - 0s 5ms/step - loss: 0.6553 - accuracy: 0.9759 - mse: 0.0226 - precision_2: 0.9780 - recall_2: 0.9780 - val_loss: 0.9986 - val_accuracy: 0.7143 - val_mse: 0.1582 - val_precision_2: 0.6364 - val_recall_2: 0.7778\n",
      "Epoch 34/100\n",
      "11/11 [==============================] - 0s 5ms/step - loss: 0.6345 - accuracy: 0.9880 - mse: 0.0210 - precision_2: 1.0000 - recall_2: 0.9780 - val_loss: 0.9994 - val_accuracy: 0.7143 - val_mse: 0.1605 - val_precision_2: 0.6364 - val_recall_2: 0.7778\n",
      "Epoch 35/100\n",
      " 1/11 [=>............................] - ETA: 0s - loss: 0.6324 - accuracy: 1.0000 - mse: 0.0181 - precision_2: 1.0000 - recall_2: 1.0000"
     ]
    },
    {
     "name": "stderr",
     "output_type": "stream",
     "text": [
      "WARNING:absl:Found untraced functions such as _update_step_xla while saving (showing 1 of 1). These functions will not be directly callable after loading.\n"
     ]
    },
    {
     "name": "stdout",
     "output_type": "stream",
     "text": [
      "INFO:tensorflow:Assets written to: C:\\Users\\Burka\\Documents\\School\\Letny semester 22-23\\Neuronky\\ns-zadanie1\\wandb\\run-20230329_023429-v31cbnnt\\files\\model-best\\assets\n"
     ]
    },
    {
     "name": "stderr",
     "output_type": "stream",
     "text": [
      "INFO:tensorflow:Assets written to: C:\\Users\\Burka\\Documents\\School\\Letny semester 22-23\\Neuronky\\ns-zadanie1\\wandb\\run-20230329_023429-v31cbnnt\\files\\model-best\\assets\n",
      "\u001b[34m\u001b[1mwandb\u001b[0m: Adding directory to artifact (C:\\Users\\Burka\\Documents\\School\\Letny semester 22-23\\Neuronky\\ns-zadanie1\\wandb\\run-20230329_023429-v31cbnnt\\files\\model-best)... Done. 0.0s\n"
     ]
    },
    {
     "name": "stdout",
     "output_type": "stream",
     "text": [
      "11/11 [==============================] - 1s 139ms/step - loss: 0.6154 - accuracy: 0.9880 - mse: 0.0199 - precision_2: 1.0000 - recall_2: 0.9780 - val_loss: 0.9771 - val_accuracy: 0.6667 - val_mse: 0.1595 - val_precision_2: 0.5833 - val_recall_2: 0.7778\n",
      "Epoch 36/100\n",
      " 1/11 [=>............................] - ETA: 0s - loss: 0.6389 - accuracy: 1.0000 - mse: 0.0284 - precision_2: 1.0000 - recall_2: 1.0000"
     ]
    },
    {
     "name": "stderr",
     "output_type": "stream",
     "text": [
      "WARNING:absl:Found untraced functions such as _update_step_xla while saving (showing 1 of 1). These functions will not be directly callable after loading.\n"
     ]
    },
    {
     "name": "stdout",
     "output_type": "stream",
     "text": [
      "INFO:tensorflow:Assets written to: C:\\Users\\Burka\\Documents\\School\\Letny semester 22-23\\Neuronky\\ns-zadanie1\\wandb\\run-20230329_023429-v31cbnnt\\files\\model-best\\assets\n"
     ]
    },
    {
     "name": "stderr",
     "output_type": "stream",
     "text": [
      "INFO:tensorflow:Assets written to: C:\\Users\\Burka\\Documents\\School\\Letny semester 22-23\\Neuronky\\ns-zadanie1\\wandb\\run-20230329_023429-v31cbnnt\\files\\model-best\\assets\n",
      "\u001b[34m\u001b[1mwandb\u001b[0m: Adding directory to artifact (C:\\Users\\Burka\\Documents\\School\\Letny semester 22-23\\Neuronky\\ns-zadanie1\\wandb\\run-20230329_023429-v31cbnnt\\files\\model-best)... Done. 0.0s\n"
     ]
    },
    {
     "name": "stdout",
     "output_type": "stream",
     "text": [
      "11/11 [==============================] - 2s 155ms/step - loss: 0.5965 - accuracy: 0.9880 - mse: 0.0188 - precision_2: 1.0000 - recall_2: 0.9780 - val_loss: 0.9678 - val_accuracy: 0.7143 - val_mse: 0.1603 - val_precision_2: 0.6364 - val_recall_2: 0.7778\n",
      "Epoch 37/100\n",
      " 1/11 [=>............................] - ETA: 0s - loss: 0.6132 - accuracy: 1.0000 - mse: 0.0245 - precision_2: 1.0000 - recall_2: 1.0000"
     ]
    },
    {
     "name": "stderr",
     "output_type": "stream",
     "text": [
      "WARNING:absl:Found untraced functions such as _update_step_xla while saving (showing 1 of 1). These functions will not be directly callable after loading.\n"
     ]
    },
    {
     "name": "stdout",
     "output_type": "stream",
     "text": [
      "INFO:tensorflow:Assets written to: C:\\Users\\Burka\\Documents\\School\\Letny semester 22-23\\Neuronky\\ns-zadanie1\\wandb\\run-20230329_023429-v31cbnnt\\files\\model-best\\assets\n"
     ]
    },
    {
     "name": "stderr",
     "output_type": "stream",
     "text": [
      "INFO:tensorflow:Assets written to: C:\\Users\\Burka\\Documents\\School\\Letny semester 22-23\\Neuronky\\ns-zadanie1\\wandb\\run-20230329_023429-v31cbnnt\\files\\model-best\\assets\n",
      "\u001b[34m\u001b[1mwandb\u001b[0m: Adding directory to artifact (C:\\Users\\Burka\\Documents\\School\\Letny semester 22-23\\Neuronky\\ns-zadanie1\\wandb\\run-20230329_023429-v31cbnnt\\files\\model-best)... Done. 0.0s\n"
     ]
    },
    {
     "name": "stdout",
     "output_type": "stream",
     "text": [
      "11/11 [==============================] - 1s 139ms/step - loss: 0.5799 - accuracy: 0.9819 - mse: 0.0180 - precision_2: 0.9889 - recall_2: 0.9780 - val_loss: 0.9631 - val_accuracy: 0.7143 - val_mse: 0.1624 - val_precision_2: 0.6364 - val_recall_2: 0.7778\n",
      "Epoch 38/100\n",
      " 1/11 [=>............................] - ETA: 0s - loss: 0.5494 - accuracy: 1.0000 - mse: 0.0081 - precision_2: 1.0000 - recall_2: 1.0000"
     ]
    },
    {
     "name": "stderr",
     "output_type": "stream",
     "text": [
      "WARNING:absl:Found untraced functions such as _update_step_xla while saving (showing 1 of 1). These functions will not be directly callable after loading.\n"
     ]
    },
    {
     "name": "stdout",
     "output_type": "stream",
     "text": [
      "INFO:tensorflow:Assets written to: C:\\Users\\Burka\\Documents\\School\\Letny semester 22-23\\Neuronky\\ns-zadanie1\\wandb\\run-20230329_023429-v31cbnnt\\files\\model-best\\assets\n"
     ]
    },
    {
     "name": "stderr",
     "output_type": "stream",
     "text": [
      "INFO:tensorflow:Assets written to: C:\\Users\\Burka\\Documents\\School\\Letny semester 22-23\\Neuronky\\ns-zadanie1\\wandb\\run-20230329_023429-v31cbnnt\\files\\model-best\\assets\n",
      "\u001b[34m\u001b[1mwandb\u001b[0m: Adding directory to artifact (C:\\Users\\Burka\\Documents\\School\\Letny semester 22-23\\Neuronky\\ns-zadanie1\\wandb\\run-20230329_023429-v31cbnnt\\files\\model-best)... Done. 0.0s\n"
     ]
    },
    {
     "name": "stdout",
     "output_type": "stream",
     "text": [
      "11/11 [==============================] - 1s 138ms/step - loss: 0.5641 - accuracy: 0.9880 - mse: 0.0173 - precision_2: 1.0000 - recall_2: 0.9780 - val_loss: 0.9555 - val_accuracy: 0.6667 - val_mse: 0.1655 - val_precision_2: 0.5833 - val_recall_2: 0.7778\n",
      "Epoch 39/100\n",
      "11/11 [==============================] - 0s 5ms/step - loss: 0.5485 - accuracy: 0.9880 - mse: 0.0162 - precision_2: 1.0000 - recall_2: 0.9780 - val_loss: 0.9568 - val_accuracy: 0.7143 - val_mse: 0.1669 - val_precision_2: 0.6364 - val_recall_2: 0.7778\n",
      "Epoch 40/100\n",
      " 1/11 [=>............................] - ETA: 0s - loss: 0.5884 - accuracy: 0.9375 - mse: 0.0355 - precision_2: 1.0000 - recall_2: 0.8333"
     ]
    },
    {
     "name": "stderr",
     "output_type": "stream",
     "text": [
      "WARNING:absl:Found untraced functions such as _update_step_xla while saving (showing 1 of 1). These functions will not be directly callable after loading.\n"
     ]
    },
    {
     "name": "stdout",
     "output_type": "stream",
     "text": [
      "INFO:tensorflow:Assets written to: C:\\Users\\Burka\\Documents\\School\\Letny semester 22-23\\Neuronky\\ns-zadanie1\\wandb\\run-20230329_023429-v31cbnnt\\files\\model-best\\assets\n"
     ]
    },
    {
     "name": "stderr",
     "output_type": "stream",
     "text": [
      "INFO:tensorflow:Assets written to: C:\\Users\\Burka\\Documents\\School\\Letny semester 22-23\\Neuronky\\ns-zadanie1\\wandb\\run-20230329_023429-v31cbnnt\\files\\model-best\\assets\n",
      "\u001b[34m\u001b[1mwandb\u001b[0m: Adding directory to artifact (C:\\Users\\Burka\\Documents\\School\\Letny semester 22-23\\Neuronky\\ns-zadanie1\\wandb\\run-20230329_023429-v31cbnnt\\files\\model-best)... Done. 0.0s\n"
     ]
    },
    {
     "name": "stdout",
     "output_type": "stream",
     "text": [
      "11/11 [==============================] - 1s 139ms/step - loss: 0.5333 - accuracy: 0.9880 - mse: 0.0149 - precision_2: 1.0000 - recall_2: 0.9780 - val_loss: 0.9363 - val_accuracy: 0.6667 - val_mse: 0.1674 - val_precision_2: 0.5833 - val_recall_2: 0.7778\n",
      "Epoch 41/100\n",
      " 1/11 [=>............................] - ETA: 0s - loss: 0.4864 - accuracy: 1.0000 - mse: 0.0028 - precision_2: 1.0000 - recall_2: 1.0000"
     ]
    },
    {
     "name": "stderr",
     "output_type": "stream",
     "text": [
      "WARNING:absl:Found untraced functions such as _update_step_xla while saving (showing 1 of 1). These functions will not be directly callable after loading.\n"
     ]
    },
    {
     "name": "stdout",
     "output_type": "stream",
     "text": [
      "INFO:tensorflow:Assets written to: C:\\Users\\Burka\\Documents\\School\\Letny semester 22-23\\Neuronky\\ns-zadanie1\\wandb\\run-20230329_023429-v31cbnnt\\files\\model-best\\assets\n"
     ]
    },
    {
     "name": "stderr",
     "output_type": "stream",
     "text": [
      "INFO:tensorflow:Assets written to: C:\\Users\\Burka\\Documents\\School\\Letny semester 22-23\\Neuronky\\ns-zadanie1\\wandb\\run-20230329_023429-v31cbnnt\\files\\model-best\\assets\n",
      "\u001b[34m\u001b[1mwandb\u001b[0m: Adding directory to artifact (C:\\Users\\Burka\\Documents\\School\\Letny semester 22-23\\Neuronky\\ns-zadanie1\\wandb\\run-20230329_023429-v31cbnnt\\files\\model-best)... Done. 0.0s\n"
     ]
    },
    {
     "name": "stdout",
     "output_type": "stream",
     "text": [
      "11/11 [==============================] - 1s 139ms/step - loss: 0.5193 - accuracy: 0.9819 - mse: 0.0142 - precision_2: 0.9889 - recall_2: 0.9780 - val_loss: 0.9316 - val_accuracy: 0.6667 - val_mse: 0.1681 - val_precision_2: 0.5833 - val_recall_2: 0.7778\n",
      "Epoch 42/100\n",
      "11/11 [==============================] - 0s 6ms/step - loss: 0.5063 - accuracy: 0.9880 - mse: 0.0131 - precision_2: 1.0000 - recall_2: 0.9780 - val_loss: 0.9351 - val_accuracy: 0.7143 - val_mse: 0.1713 - val_precision_2: 0.6364 - val_recall_2: 0.7778\n",
      "Epoch 43/100\n",
      " 1/11 [=>............................] - ETA: 0s - loss: 0.5122 - accuracy: 1.0000 - mse: 0.0188 - precision_2: 1.0000 - recall_2: 1.0000"
     ]
    },
    {
     "name": "stderr",
     "output_type": "stream",
     "text": [
      "WARNING:absl:Found untraced functions such as _update_step_xla while saving (showing 1 of 1). These functions will not be directly callable after loading.\n"
     ]
    },
    {
     "name": "stdout",
     "output_type": "stream",
     "text": [
      "INFO:tensorflow:Assets written to: C:\\Users\\Burka\\Documents\\School\\Letny semester 22-23\\Neuronky\\ns-zadanie1\\wandb\\run-20230329_023429-v31cbnnt\\files\\model-best\\assets\n"
     ]
    },
    {
     "name": "stderr",
     "output_type": "stream",
     "text": [
      "INFO:tensorflow:Assets written to: C:\\Users\\Burka\\Documents\\School\\Letny semester 22-23\\Neuronky\\ns-zadanie1\\wandb\\run-20230329_023429-v31cbnnt\\files\\model-best\\assets\n",
      "\u001b[34m\u001b[1mwandb\u001b[0m: Adding directory to artifact (C:\\Users\\Burka\\Documents\\School\\Letny semester 22-23\\Neuronky\\ns-zadanie1\\wandb\\run-20230329_023429-v31cbnnt\\files\\model-best)... Done. 0.0s\n"
     ]
    },
    {
     "name": "stdout",
     "output_type": "stream",
     "text": [
      "11/11 [==============================] - 2s 167ms/step - loss: 0.4935 - accuracy: 0.9940 - mse: 0.0123 - precision_2: 1.0000 - recall_2: 0.9890 - val_loss: 0.9187 - val_accuracy: 0.7143 - val_mse: 0.1704 - val_precision_2: 0.6364 - val_recall_2: 0.7778\n",
      "Epoch 44/100\n",
      "11/11 [==============================] - 0s 10ms/step - loss: 0.4821 - accuracy: 0.9880 - mse: 0.0119 - precision_2: 1.0000 - recall_2: 0.9780 - val_loss: 0.9187 - val_accuracy: 0.7143 - val_mse: 0.1733 - val_precision_2: 0.6364 - val_recall_2: 0.7778\n",
      "Epoch 45/100\n",
      " 1/11 [=>............................] - ETA: 0s - loss: 0.4738 - accuracy: 1.0000 - mse: 0.0074 - precision_2: 1.0000 - recall_2: 1.0000"
     ]
    },
    {
     "name": "stderr",
     "output_type": "stream",
     "text": [
      "WARNING:absl:Found untraced functions such as _update_step_xla while saving (showing 1 of 1). These functions will not be directly callable after loading.\n"
     ]
    },
    {
     "name": "stdout",
     "output_type": "stream",
     "text": [
      "INFO:tensorflow:Assets written to: C:\\Users\\Burka\\Documents\\School\\Letny semester 22-23\\Neuronky\\ns-zadanie1\\wandb\\run-20230329_023429-v31cbnnt\\files\\model-best\\assets\n"
     ]
    },
    {
     "name": "stderr",
     "output_type": "stream",
     "text": [
      "INFO:tensorflow:Assets written to: C:\\Users\\Burka\\Documents\\School\\Letny semester 22-23\\Neuronky\\ns-zadanie1\\wandb\\run-20230329_023429-v31cbnnt\\files\\model-best\\assets\n",
      "\u001b[34m\u001b[1mwandb\u001b[0m: Adding directory to artifact (C:\\Users\\Burka\\Documents\\School\\Letny semester 22-23\\Neuronky\\ns-zadanie1\\wandb\\run-20230329_023429-v31cbnnt\\files\\model-best)... Done. 0.0s\n"
     ]
    },
    {
     "name": "stdout",
     "output_type": "stream",
     "text": [
      "11/11 [==============================] - 2s 158ms/step - loss: 0.4718 - accuracy: 0.9880 - mse: 0.0112 - precision_2: 0.9890 - recall_2: 0.9890 - val_loss: 0.9159 - val_accuracy: 0.6667 - val_mse: 0.1740 - val_precision_2: 0.5833 - val_recall_2: 0.7778\n",
      "Epoch 46/100\n",
      " 1/11 [=>............................] - ETA: 0s - loss: 0.4679 - accuracy: 1.0000 - mse: 0.0095 - precision_2: 1.0000 - recall_2: 1.0000"
     ]
    },
    {
     "name": "stderr",
     "output_type": "stream",
     "text": [
      "WARNING:absl:Found untraced functions such as _update_step_xla while saving (showing 1 of 1). These functions will not be directly callable after loading.\n"
     ]
    },
    {
     "name": "stdout",
     "output_type": "stream",
     "text": [
      "INFO:tensorflow:Assets written to: C:\\Users\\Burka\\Documents\\School\\Letny semester 22-23\\Neuronky\\ns-zadanie1\\wandb\\run-20230329_023429-v31cbnnt\\files\\model-best\\assets\n"
     ]
    },
    {
     "name": "stderr",
     "output_type": "stream",
     "text": [
      "INFO:tensorflow:Assets written to: C:\\Users\\Burka\\Documents\\School\\Letny semester 22-23\\Neuronky\\ns-zadanie1\\wandb\\run-20230329_023429-v31cbnnt\\files\\model-best\\assets\n",
      "\u001b[34m\u001b[1mwandb\u001b[0m: Adding directory to artifact (C:\\Users\\Burka\\Documents\\School\\Letny semester 22-23\\Neuronky\\ns-zadanie1\\wandb\\run-20230329_023429-v31cbnnt\\files\\model-best)... Done. 0.0s\n"
     ]
    },
    {
     "name": "stdout",
     "output_type": "stream",
     "text": [
      "11/11 [==============================] - 1s 138ms/step - loss: 0.4610 - accuracy: 0.9940 - mse: 0.0102 - precision_2: 1.0000 - recall_2: 0.9890 - val_loss: 0.9152 - val_accuracy: 0.6667 - val_mse: 0.1754 - val_precision_2: 0.5833 - val_recall_2: 0.7778\n",
      "Epoch 47/100\n",
      " 1/11 [=>............................] - ETA: 0s - loss: 0.4436 - accuracy: 1.0000 - mse: 0.0047 - precision_2: 1.0000 - recall_2: 1.0000"
     ]
    },
    {
     "name": "stderr",
     "output_type": "stream",
     "text": [
      "WARNING:absl:Found untraced functions such as _update_step_xla while saving (showing 1 of 1). These functions will not be directly callable after loading.\n"
     ]
    },
    {
     "name": "stdout",
     "output_type": "stream",
     "text": [
      "INFO:tensorflow:Assets written to: C:\\Users\\Burka\\Documents\\School\\Letny semester 22-23\\Neuronky\\ns-zadanie1\\wandb\\run-20230329_023429-v31cbnnt\\files\\model-best\\assets\n"
     ]
    },
    {
     "name": "stderr",
     "output_type": "stream",
     "text": [
      "INFO:tensorflow:Assets written to: C:\\Users\\Burka\\Documents\\School\\Letny semester 22-23\\Neuronky\\ns-zadanie1\\wandb\\run-20230329_023429-v31cbnnt\\files\\model-best\\assets\n",
      "\u001b[34m\u001b[1mwandb\u001b[0m: Adding directory to artifact (C:\\Users\\Burka\\Documents\\School\\Letny semester 22-23\\Neuronky\\ns-zadanie1\\wandb\\run-20230329_023429-v31cbnnt\\files\\model-best)... Done. 0.0s\n"
     ]
    },
    {
     "name": "stdout",
     "output_type": "stream",
     "text": [
      "11/11 [==============================] - 1s 127ms/step - loss: 0.4506 - accuracy: 0.9940 - mse: 0.0099 - precision_2: 1.0000 - recall_2: 0.9890 - val_loss: 0.9105 - val_accuracy: 0.6667 - val_mse: 0.1758 - val_precision_2: 0.5833 - val_recall_2: 0.7778\n",
      "Epoch 48/100\n",
      " 1/11 [=>............................] - ETA: 0s - loss: 0.4581 - accuracy: 1.0000 - mse: 0.0124 - precision_2: 1.0000 - recall_2: 1.0000"
     ]
    },
    {
     "name": "stderr",
     "output_type": "stream",
     "text": [
      "WARNING:absl:Found untraced functions such as _update_step_xla while saving (showing 1 of 1). These functions will not be directly callable after loading.\n"
     ]
    },
    {
     "name": "stdout",
     "output_type": "stream",
     "text": [
      "INFO:tensorflow:Assets written to: C:\\Users\\Burka\\Documents\\School\\Letny semester 22-23\\Neuronky\\ns-zadanie1\\wandb\\run-20230329_023429-v31cbnnt\\files\\model-best\\assets\n"
     ]
    },
    {
     "name": "stderr",
     "output_type": "stream",
     "text": [
      "INFO:tensorflow:Assets written to: C:\\Users\\Burka\\Documents\\School\\Letny semester 22-23\\Neuronky\\ns-zadanie1\\wandb\\run-20230329_023429-v31cbnnt\\files\\model-best\\assets\n",
      "\u001b[34m\u001b[1mwandb\u001b[0m: Adding directory to artifact (C:\\Users\\Burka\\Documents\\School\\Letny semester 22-23\\Neuronky\\ns-zadanie1\\wandb\\run-20230329_023429-v31cbnnt\\files\\model-best)... Done. 0.0s\n"
     ]
    },
    {
     "name": "stdout",
     "output_type": "stream",
     "text": [
      "11/11 [==============================] - 1s 126ms/step - loss: 0.4404 - accuracy: 0.9940 - mse: 0.0092 - precision_2: 1.0000 - recall_2: 0.9890 - val_loss: 0.9034 - val_accuracy: 0.6667 - val_mse: 0.1753 - val_precision_2: 0.5833 - val_recall_2: 0.7778\n",
      "Epoch 49/100\n",
      " 1/11 [=>............................] - ETA: 0s - loss: 0.4478 - accuracy: 1.0000 - mse: 0.0121 - precision_2: 1.0000 - recall_2: 1.0000"
     ]
    },
    {
     "name": "stderr",
     "output_type": "stream",
     "text": [
      "WARNING:absl:Found untraced functions such as _update_step_xla while saving (showing 1 of 1). These functions will not be directly callable after loading.\n"
     ]
    },
    {
     "name": "stdout",
     "output_type": "stream",
     "text": [
      "INFO:tensorflow:Assets written to: C:\\Users\\Burka\\Documents\\School\\Letny semester 22-23\\Neuronky\\ns-zadanie1\\wandb\\run-20230329_023429-v31cbnnt\\files\\model-best\\assets\n"
     ]
    },
    {
     "name": "stderr",
     "output_type": "stream",
     "text": [
      "INFO:tensorflow:Assets written to: C:\\Users\\Burka\\Documents\\School\\Letny semester 22-23\\Neuronky\\ns-zadanie1\\wandb\\run-20230329_023429-v31cbnnt\\files\\model-best\\assets\n",
      "\u001b[34m\u001b[1mwandb\u001b[0m: Adding directory to artifact (C:\\Users\\Burka\\Documents\\School\\Letny semester 22-23\\Neuronky\\ns-zadanie1\\wandb\\run-20230329_023429-v31cbnnt\\files\\model-best)... Done. 0.0s\n"
     ]
    },
    {
     "name": "stdout",
     "output_type": "stream",
     "text": [
      "11/11 [==============================] - 2s 158ms/step - loss: 0.4318 - accuracy: 0.9940 - mse: 0.0091 - precision_2: 1.0000 - recall_2: 0.9890 - val_loss: 0.8995 - val_accuracy: 0.6667 - val_mse: 0.1756 - val_precision_2: 0.5833 - val_recall_2: 0.7778\n",
      "Epoch 50/100\n",
      " 1/11 [=>............................] - ETA: 0s - loss: 0.4079 - accuracy: 1.0000 - mse: 0.0048 - precision_2: 1.0000 - recall_2: 1.0000"
     ]
    },
    {
     "name": "stderr",
     "output_type": "stream",
     "text": [
      "WARNING:absl:Found untraced functions such as _update_step_xla while saving (showing 1 of 1). These functions will not be directly callable after loading.\n"
     ]
    },
    {
     "name": "stdout",
     "output_type": "stream",
     "text": [
      "INFO:tensorflow:Assets written to: C:\\Users\\Burka\\Documents\\School\\Letny semester 22-23\\Neuronky\\ns-zadanie1\\wandb\\run-20230329_023429-v31cbnnt\\files\\model-best\\assets\n"
     ]
    },
    {
     "name": "stderr",
     "output_type": "stream",
     "text": [
      "INFO:tensorflow:Assets written to: C:\\Users\\Burka\\Documents\\School\\Letny semester 22-23\\Neuronky\\ns-zadanie1\\wandb\\run-20230329_023429-v31cbnnt\\files\\model-best\\assets\n",
      "\u001b[34m\u001b[1mwandb\u001b[0m: Adding directory to artifact (C:\\Users\\Burka\\Documents\\School\\Letny semester 22-23\\Neuronky\\ns-zadanie1\\wandb\\run-20230329_023429-v31cbnnt\\files\\model-best)... Done. 0.0s\n"
     ]
    },
    {
     "name": "stdout",
     "output_type": "stream",
     "text": [
      "11/11 [==============================] - 2s 186ms/step - loss: 0.4240 - accuracy: 1.0000 - mse: 0.0091 - precision_2: 1.0000 - recall_2: 1.0000 - val_loss: 0.8918 - val_accuracy: 0.7143 - val_mse: 0.1753 - val_precision_2: 0.6364 - val_recall_2: 0.7778\n",
      "Epoch 51/100\n",
      " 1/11 [=>............................] - ETA: 0s - loss: 0.4887 - accuracy: 1.0000 - mse: 0.0322 - precision_2: 1.0000 - recall_2: 1.0000"
     ]
    },
    {
     "name": "stderr",
     "output_type": "stream",
     "text": [
      "WARNING:absl:Found untraced functions such as _update_step_xla while saving (showing 1 of 1). These functions will not be directly callable after loading.\n"
     ]
    },
    {
     "name": "stdout",
     "output_type": "stream",
     "text": [
      "INFO:tensorflow:Assets written to: C:\\Users\\Burka\\Documents\\School\\Letny semester 22-23\\Neuronky\\ns-zadanie1\\wandb\\run-20230329_023429-v31cbnnt\\files\\model-best\\assets\n"
     ]
    },
    {
     "name": "stderr",
     "output_type": "stream",
     "text": [
      "INFO:tensorflow:Assets written to: C:\\Users\\Burka\\Documents\\School\\Letny semester 22-23\\Neuronky\\ns-zadanie1\\wandb\\run-20230329_023429-v31cbnnt\\files\\model-best\\assets\n",
      "\u001b[34m\u001b[1mwandb\u001b[0m: Adding directory to artifact (C:\\Users\\Burka\\Documents\\School\\Letny semester 22-23\\Neuronky\\ns-zadanie1\\wandb\\run-20230329_023429-v31cbnnt\\files\\model-best)... Done. 0.0s\n"
     ]
    },
    {
     "name": "stdout",
     "output_type": "stream",
     "text": [
      "11/11 [==============================] - 1s 146ms/step - loss: 0.4149 - accuracy: 1.0000 - mse: 0.0080 - precision_2: 1.0000 - recall_2: 1.0000 - val_loss: 0.8794 - val_accuracy: 0.7143 - val_mse: 0.1717 - val_precision_2: 0.6364 - val_recall_2: 0.7778\n",
      "Epoch 52/100\n",
      " 1/11 [=>............................] - ETA: 0s - loss: 0.3916 - accuracy: 1.0000 - mse: 0.0030 - precision_2: 1.0000 - recall_2: 1.0000"
     ]
    },
    {
     "name": "stderr",
     "output_type": "stream",
     "text": [
      "WARNING:absl:Found untraced functions such as _update_step_xla while saving (showing 1 of 1). These functions will not be directly callable after loading.\n"
     ]
    },
    {
     "name": "stdout",
     "output_type": "stream",
     "text": [
      "INFO:tensorflow:Assets written to: C:\\Users\\Burka\\Documents\\School\\Letny semester 22-23\\Neuronky\\ns-zadanie1\\wandb\\run-20230329_023429-v31cbnnt\\files\\model-best\\assets\n"
     ]
    },
    {
     "name": "stderr",
     "output_type": "stream",
     "text": [
      "INFO:tensorflow:Assets written to: C:\\Users\\Burka\\Documents\\School\\Letny semester 22-23\\Neuronky\\ns-zadanie1\\wandb\\run-20230329_023429-v31cbnnt\\files\\model-best\\assets\n",
      "\u001b[34m\u001b[1mwandb\u001b[0m: Adding directory to artifact (C:\\Users\\Burka\\Documents\\School\\Letny semester 22-23\\Neuronky\\ns-zadanie1\\wandb\\run-20230329_023429-v31cbnnt\\files\\model-best)... Done. 0.0s\n"
     ]
    },
    {
     "name": "stdout",
     "output_type": "stream",
     "text": [
      "11/11 [==============================] - 1s 126ms/step - loss: 0.4075 - accuracy: 1.0000 - mse: 0.0081 - precision_2: 1.0000 - recall_2: 1.0000 - val_loss: 0.8733 - val_accuracy: 0.7143 - val_mse: 0.1703 - val_precision_2: 0.6364 - val_recall_2: 0.7778\n",
      "Epoch 53/100\n",
      " 1/11 [=>............................] - ETA: 0s - loss: 0.4129 - accuracy: 1.0000 - mse: 0.0122 - precision_2: 1.0000 - recall_2: 1.0000"
     ]
    },
    {
     "name": "stderr",
     "output_type": "stream",
     "text": [
      "WARNING:absl:Found untraced functions such as _update_step_xla while saving (showing 1 of 1). These functions will not be directly callable after loading.\n"
     ]
    },
    {
     "name": "stdout",
     "output_type": "stream",
     "text": [
      "INFO:tensorflow:Assets written to: C:\\Users\\Burka\\Documents\\School\\Letny semester 22-23\\Neuronky\\ns-zadanie1\\wandb\\run-20230329_023429-v31cbnnt\\files\\model-best\\assets\n"
     ]
    },
    {
     "name": "stderr",
     "output_type": "stream",
     "text": [
      "INFO:tensorflow:Assets written to: C:\\Users\\Burka\\Documents\\School\\Letny semester 22-23\\Neuronky\\ns-zadanie1\\wandb\\run-20230329_023429-v31cbnnt\\files\\model-best\\assets\n",
      "\u001b[34m\u001b[1mwandb\u001b[0m: Adding directory to artifact (C:\\Users\\Burka\\Documents\\School\\Letny semester 22-23\\Neuronky\\ns-zadanie1\\wandb\\run-20230329_023429-v31cbnnt\\files\\model-best)... Done. 0.0s\n"
     ]
    },
    {
     "name": "stdout",
     "output_type": "stream",
     "text": [
      "11/11 [==============================] - 1s 128ms/step - loss: 0.3994 - accuracy: 0.9940 - mse: 0.0077 - precision_2: 1.0000 - recall_2: 0.9890 - val_loss: 0.8671 - val_accuracy: 0.7143 - val_mse: 0.1712 - val_precision_2: 0.6364 - val_recall_2: 0.7778\n",
      "Epoch 54/100\n",
      " 1/11 [=>............................] - ETA: 0s - loss: 0.4388 - accuracy: 1.0000 - mse: 0.0213 - precision_2: 1.0000 - recall_2: 1.0000"
     ]
    },
    {
     "name": "stderr",
     "output_type": "stream",
     "text": [
      "WARNING:absl:Found untraced functions such as _update_step_xla while saving (showing 1 of 1). These functions will not be directly callable after loading.\n"
     ]
    },
    {
     "name": "stdout",
     "output_type": "stream",
     "text": [
      "INFO:tensorflow:Assets written to: C:\\Users\\Burka\\Documents\\School\\Letny semester 22-23\\Neuronky\\ns-zadanie1\\wandb\\run-20230329_023429-v31cbnnt\\files\\model-best\\assets\n"
     ]
    },
    {
     "name": "stderr",
     "output_type": "stream",
     "text": [
      "INFO:tensorflow:Assets written to: C:\\Users\\Burka\\Documents\\School\\Letny semester 22-23\\Neuronky\\ns-zadanie1\\wandb\\run-20230329_023429-v31cbnnt\\files\\model-best\\assets\n",
      "\u001b[34m\u001b[1mwandb\u001b[0m: Adding directory to artifact (C:\\Users\\Burka\\Documents\\School\\Letny semester 22-23\\Neuronky\\ns-zadanie1\\wandb\\run-20230329_023429-v31cbnnt\\files\\model-best)... Done. 0.0s\n"
     ]
    },
    {
     "name": "stdout",
     "output_type": "stream",
     "text": [
      "11/11 [==============================] - 1s 149ms/step - loss: 0.3935 - accuracy: 1.0000 - mse: 0.0079 - precision_2: 1.0000 - recall_2: 1.0000 - val_loss: 0.8555 - val_accuracy: 0.7143 - val_mse: 0.1727 - val_precision_2: 0.6364 - val_recall_2: 0.7778\n",
      "Epoch 55/100\n",
      "11/11 [==============================] - 0s 7ms/step - loss: 0.3852 - accuracy: 1.0000 - mse: 0.0072 - precision_2: 1.0000 - recall_2: 1.0000 - val_loss: 0.8598 - val_accuracy: 0.7143 - val_mse: 0.1693 - val_precision_2: 0.6364 - val_recall_2: 0.7778\n",
      "Epoch 56/100\n",
      " 1/11 [=>............................] - ETA: 0s - loss: 0.3834 - accuracy: 1.0000 - mse: 0.0064 - precision_2: 1.0000 - recall_2: 1.0000"
     ]
    },
    {
     "name": "stderr",
     "output_type": "stream",
     "text": [
      "WARNING:absl:Found untraced functions such as _update_step_xla while saving (showing 1 of 1). These functions will not be directly callable after loading.\n"
     ]
    },
    {
     "name": "stdout",
     "output_type": "stream",
     "text": [
      "INFO:tensorflow:Assets written to: C:\\Users\\Burka\\Documents\\School\\Letny semester 22-23\\Neuronky\\ns-zadanie1\\wandb\\run-20230329_023429-v31cbnnt\\files\\model-best\\assets\n"
     ]
    },
    {
     "name": "stderr",
     "output_type": "stream",
     "text": [
      "INFO:tensorflow:Assets written to: C:\\Users\\Burka\\Documents\\School\\Letny semester 22-23\\Neuronky\\ns-zadanie1\\wandb\\run-20230329_023429-v31cbnnt\\files\\model-best\\assets\n",
      "\u001b[34m\u001b[1mwandb\u001b[0m: Adding directory to artifact (C:\\Users\\Burka\\Documents\\School\\Letny semester 22-23\\Neuronky\\ns-zadanie1\\wandb\\run-20230329_023429-v31cbnnt\\files\\model-best)... Done. 0.0s\n"
     ]
    },
    {
     "name": "stdout",
     "output_type": "stream",
     "text": [
      "11/11 [==============================] - 2s 177ms/step - loss: 0.3785 - accuracy: 1.0000 - mse: 0.0068 - precision_2: 1.0000 - recall_2: 1.0000 - val_loss: 0.8432 - val_accuracy: 0.7143 - val_mse: 0.1663 - val_precision_2: 0.6364 - val_recall_2: 0.7778\n",
      "Epoch 57/100\n",
      "11/11 [==============================] - 0s 5ms/step - loss: 0.3728 - accuracy: 1.0000 - mse: 0.0068 - precision_2: 1.0000 - recall_2: 1.0000 - val_loss: 0.8527 - val_accuracy: 0.7143 - val_mse: 0.1700 - val_precision_2: 0.6364 - val_recall_2: 0.7778\n",
      "Epoch 58/100\n",
      " 1/11 [=>............................] - ETA: 0s - loss: 0.4233 - accuracy: 1.0000 - mse: 0.0197 - precision_2: 1.0000 - recall_2: 1.0000"
     ]
    },
    {
     "name": "stderr",
     "output_type": "stream",
     "text": [
      "WARNING:absl:Found untraced functions such as _update_step_xla while saving (showing 1 of 1). These functions will not be directly callable after loading.\n"
     ]
    },
    {
     "name": "stdout",
     "output_type": "stream",
     "text": [
      "INFO:tensorflow:Assets written to: C:\\Users\\Burka\\Documents\\School\\Letny semester 22-23\\Neuronky\\ns-zadanie1\\wandb\\run-20230329_023429-v31cbnnt\\files\\model-best\\assets\n"
     ]
    },
    {
     "name": "stderr",
     "output_type": "stream",
     "text": [
      "INFO:tensorflow:Assets written to: C:\\Users\\Burka\\Documents\\School\\Letny semester 22-23\\Neuronky\\ns-zadanie1\\wandb\\run-20230329_023429-v31cbnnt\\files\\model-best\\assets\n",
      "\u001b[34m\u001b[1mwandb\u001b[0m: Adding directory to artifact (C:\\Users\\Burka\\Documents\\School\\Letny semester 22-23\\Neuronky\\ns-zadanie1\\wandb\\run-20230329_023429-v31cbnnt\\files\\model-best)... Done. 0.0s\n"
     ]
    },
    {
     "name": "stdout",
     "output_type": "stream",
     "text": [
      "11/11 [==============================] - 1s 133ms/step - loss: 0.3672 - accuracy: 1.0000 - mse: 0.0066 - precision_2: 1.0000 - recall_2: 1.0000 - val_loss: 0.8379 - val_accuracy: 0.7143 - val_mse: 0.1652 - val_precision_2: 0.6364 - val_recall_2: 0.7778\n",
      "Epoch 59/100\n",
      "11/11 [==============================] - 0s 5ms/step - loss: 0.3612 - accuracy: 1.0000 - mse: 0.0063 - precision_2: 1.0000 - recall_2: 1.0000 - val_loss: 0.8422 - val_accuracy: 0.7143 - val_mse: 0.1652 - val_precision_2: 0.6364 - val_recall_2: 0.7778\n",
      "Epoch 60/100\n",
      " 1/11 [=>............................] - ETA: 0s - loss: 0.3700 - accuracy: 1.0000 - mse: 0.0097 - precision_2: 1.0000 - recall_2: 1.0000"
     ]
    },
    {
     "name": "stderr",
     "output_type": "stream",
     "text": [
      "WARNING:absl:Found untraced functions such as _update_step_xla while saving (showing 1 of 1). These functions will not be directly callable after loading.\n"
     ]
    },
    {
     "name": "stdout",
     "output_type": "stream",
     "text": [
      "INFO:tensorflow:Assets written to: C:\\Users\\Burka\\Documents\\School\\Letny semester 22-23\\Neuronky\\ns-zadanie1\\wandb\\run-20230329_023429-v31cbnnt\\files\\model-best\\assets\n"
     ]
    },
    {
     "name": "stderr",
     "output_type": "stream",
     "text": [
      "INFO:tensorflow:Assets written to: C:\\Users\\Burka\\Documents\\School\\Letny semester 22-23\\Neuronky\\ns-zadanie1\\wandb\\run-20230329_023429-v31cbnnt\\files\\model-best\\assets\n",
      "\u001b[34m\u001b[1mwandb\u001b[0m: Adding directory to artifact (C:\\Users\\Burka\\Documents\\School\\Letny semester 22-23\\Neuronky\\ns-zadanie1\\wandb\\run-20230329_023429-v31cbnnt\\files\\model-best)... Done. 0.0s\n"
     ]
    },
    {
     "name": "stdout",
     "output_type": "stream",
     "text": [
      "11/11 [==============================] - 1s 133ms/step - loss: 0.3558 - accuracy: 1.0000 - mse: 0.0061 - precision_2: 1.0000 - recall_2: 1.0000 - val_loss: 0.8376 - val_accuracy: 0.7143 - val_mse: 0.1651 - val_precision_2: 0.6364 - val_recall_2: 0.7778\n",
      "Epoch 61/100\n",
      " 1/11 [=>............................] - ETA: 0s - loss: 0.3644 - accuracy: 1.0000 - mse: 0.0056 - precision_2: 1.0000 - recall_2: 1.0000"
     ]
    },
    {
     "name": "stderr",
     "output_type": "stream",
     "text": [
      "WARNING:absl:Found untraced functions such as _update_step_xla while saving (showing 1 of 1). These functions will not be directly callable after loading.\n"
     ]
    },
    {
     "name": "stdout",
     "output_type": "stream",
     "text": [
      "INFO:tensorflow:Assets written to: C:\\Users\\Burka\\Documents\\School\\Letny semester 22-23\\Neuronky\\ns-zadanie1\\wandb\\run-20230329_023429-v31cbnnt\\files\\model-best\\assets\n"
     ]
    },
    {
     "name": "stderr",
     "output_type": "stream",
     "text": [
      "INFO:tensorflow:Assets written to: C:\\Users\\Burka\\Documents\\School\\Letny semester 22-23\\Neuronky\\ns-zadanie1\\wandb\\run-20230329_023429-v31cbnnt\\files\\model-best\\assets\n",
      "\u001b[34m\u001b[1mwandb\u001b[0m: Adding directory to artifact (C:\\Users\\Burka\\Documents\\School\\Letny semester 22-23\\Neuronky\\ns-zadanie1\\wandb\\run-20230329_023429-v31cbnnt\\files\\model-best)... Done. 0.0s\n"
     ]
    },
    {
     "name": "stdout",
     "output_type": "stream",
     "text": [
      "11/11 [==============================] - 1s 124ms/step - loss: 0.3505 - accuracy: 1.0000 - mse: 0.0059 - precision_2: 1.0000 - recall_2: 1.0000 - val_loss: 0.8349 - val_accuracy: 0.7143 - val_mse: 0.1645 - val_precision_2: 0.6364 - val_recall_2: 0.7778\n",
      "Epoch 62/100\n",
      " 1/11 [=>............................] - ETA: 0s - loss: 0.3402 - accuracy: 1.0000 - mse: 0.0037 - precision_2: 1.0000 - recall_2: 1.0000"
     ]
    },
    {
     "name": "stderr",
     "output_type": "stream",
     "text": [
      "WARNING:absl:Found untraced functions such as _update_step_xla while saving (showing 1 of 1). These functions will not be directly callable after loading.\n"
     ]
    },
    {
     "name": "stdout",
     "output_type": "stream",
     "text": [
      "INFO:tensorflow:Assets written to: C:\\Users\\Burka\\Documents\\School\\Letny semester 22-23\\Neuronky\\ns-zadanie1\\wandb\\run-20230329_023429-v31cbnnt\\files\\model-best\\assets\n"
     ]
    },
    {
     "name": "stderr",
     "output_type": "stream",
     "text": [
      "INFO:tensorflow:Assets written to: C:\\Users\\Burka\\Documents\\School\\Letny semester 22-23\\Neuronky\\ns-zadanie1\\wandb\\run-20230329_023429-v31cbnnt\\files\\model-best\\assets\n",
      "\u001b[34m\u001b[1mwandb\u001b[0m: Adding directory to artifact (C:\\Users\\Burka\\Documents\\School\\Letny semester 22-23\\Neuronky\\ns-zadanie1\\wandb\\run-20230329_023429-v31cbnnt\\files\\model-best)... Done. 0.0s\n"
     ]
    },
    {
     "name": "stdout",
     "output_type": "stream",
     "text": [
      "11/11 [==============================] - 2s 155ms/step - loss: 0.3476 - accuracy: 1.0000 - mse: 0.0062 - precision_2: 1.0000 - recall_2: 1.0000 - val_loss: 0.8182 - val_accuracy: 0.7143 - val_mse: 0.1634 - val_precision_2: 0.6364 - val_recall_2: 0.7778\n",
      "Epoch 63/100\n",
      "11/11 [==============================] - 0s 5ms/step - loss: 0.3418 - accuracy: 1.0000 - mse: 0.0053 - precision_2: 1.0000 - recall_2: 1.0000 - val_loss: 0.8439 - val_accuracy: 0.7619 - val_mse: 0.1645 - val_precision_2: 0.7000 - val_recall_2: 0.7778\n",
      "Epoch 64/100\n",
      "11/11 [==============================] - 0s 5ms/step - loss: 0.3364 - accuracy: 1.0000 - mse: 0.0051 - precision_2: 1.0000 - recall_2: 1.0000 - val_loss: 0.8224 - val_accuracy: 0.7143 - val_mse: 0.1628 - val_precision_2: 0.6364 - val_recall_2: 0.7778\n",
      "Epoch 65/100\n",
      "11/11 [==============================] - 0s 8ms/step - loss: 0.3323 - accuracy: 1.0000 - mse: 0.0050 - precision_2: 1.0000 - recall_2: 1.0000 - val_loss: 0.8381 - val_accuracy: 0.7143 - val_mse: 0.1633 - val_precision_2: 0.6364 - val_recall_2: 0.7778\n",
      "Epoch 66/100\n",
      "11/11 [==============================] - 0s 7ms/step - loss: 0.3273 - accuracy: 1.0000 - mse: 0.0048 - precision_2: 1.0000 - recall_2: 1.0000 - val_loss: 0.8375 - val_accuracy: 0.7143 - val_mse: 0.1665 - val_precision_2: 0.6364 - val_recall_2: 0.7778\n",
      "Epoch 67/100\n",
      "11/11 [==============================] - 0s 5ms/step - loss: 0.3239 - accuracy: 1.0000 - mse: 0.0050 - precision_2: 1.0000 - recall_2: 1.0000 - val_loss: 0.8223 - val_accuracy: 0.7619 - val_mse: 0.1608 - val_precision_2: 0.7000 - val_recall_2: 0.7778\n",
      "Epoch 68/100\n",
      " 1/11 [=>............................] - ETA: 0s - loss: 0.3613 - accuracy: 1.0000 - mse: 0.0168 - precision_2: 1.0000 - recall_2: 1.0000"
     ]
    },
    {
     "name": "stderr",
     "output_type": "stream",
     "text": [
      "WARNING:absl:Found untraced functions such as _update_step_xla while saving (showing 1 of 1). These functions will not be directly callable after loading.\n"
     ]
    },
    {
     "name": "stdout",
     "output_type": "stream",
     "text": [
      "INFO:tensorflow:Assets written to: C:\\Users\\Burka\\Documents\\School\\Letny semester 22-23\\Neuronky\\ns-zadanie1\\wandb\\run-20230329_023429-v31cbnnt\\files\\model-best\\assets\n"
     ]
    },
    {
     "name": "stderr",
     "output_type": "stream",
     "text": [
      "INFO:tensorflow:Assets written to: C:\\Users\\Burka\\Documents\\School\\Letny semester 22-23\\Neuronky\\ns-zadanie1\\wandb\\run-20230329_023429-v31cbnnt\\files\\model-best\\assets\n",
      "\u001b[34m\u001b[1mwandb\u001b[0m: Adding directory to artifact (C:\\Users\\Burka\\Documents\\School\\Letny semester 22-23\\Neuronky\\ns-zadanie1\\wandb\\run-20230329_023429-v31cbnnt\\files\\model-best)... Done. 0.0s\n"
     ]
    },
    {
     "name": "stdout",
     "output_type": "stream",
     "text": [
      "11/11 [==============================] - 1s 140ms/step - loss: 0.3208 - accuracy: 1.0000 - mse: 0.0045 - precision_2: 1.0000 - recall_2: 1.0000 - val_loss: 0.8108 - val_accuracy: 0.7619 - val_mse: 0.1619 - val_precision_2: 0.6667 - val_recall_2: 0.8889\n",
      "Epoch 69/100\n",
      "11/11 [==============================] - 0s 9ms/step - loss: 0.3169 - accuracy: 1.0000 - mse: 0.0046 - precision_2: 1.0000 - recall_2: 1.0000 - val_loss: 0.8304 - val_accuracy: 0.7619 - val_mse: 0.1646 - val_precision_2: 0.7000 - val_recall_2: 0.7778\n",
      "Epoch 70/100\n",
      "11/11 [==============================] - 0s 8ms/step - loss: 0.3168 - accuracy: 1.0000 - mse: 0.0052 - precision_2: 1.0000 - recall_2: 1.0000 - val_loss: 0.8336 - val_accuracy: 0.7619 - val_mse: 0.1589 - val_precision_2: 0.7000 - val_recall_2: 0.7778\n",
      "Epoch 71/100\n",
      "11/11 [==============================] - 0s 8ms/step - loss: 0.3098 - accuracy: 1.0000 - mse: 0.0035 - precision_2: 1.0000 - recall_2: 1.0000 - val_loss: 0.8192 - val_accuracy: 0.8095 - val_mse: 0.1640 - val_precision_2: 0.7273 - val_recall_2: 0.8889\n",
      "Epoch 72/100\n",
      "11/11 [==============================] - 0s 12ms/step - loss: 0.3063 - accuracy: 1.0000 - mse: 0.0038 - precision_2: 1.0000 - recall_2: 1.0000 - val_loss: 0.8306 - val_accuracy: 0.7619 - val_mse: 0.1632 - val_precision_2: 0.7000 - val_recall_2: 0.7778\n",
      "Epoch 73/100\n",
      "11/11 [==============================] - 0s 11ms/step - loss: 0.3021 - accuracy: 1.0000 - mse: 0.0034 - precision_2: 1.0000 - recall_2: 1.0000 - val_loss: 0.8242 - val_accuracy: 0.8095 - val_mse: 0.1559 - val_precision_2: 0.7273 - val_recall_2: 0.8889\n",
      "Epoch 74/100\n",
      "11/11 [==============================] - 0s 9ms/step - loss: 0.2983 - accuracy: 1.0000 - mse: 0.0032 - precision_2: 1.0000 - recall_2: 1.0000 - val_loss: 0.8413 - val_accuracy: 0.7619 - val_mse: 0.1630 - val_precision_2: 0.7000 - val_recall_2: 0.7778\n",
      "Epoch 75/100\n",
      "11/11 [==============================] - 0s 9ms/step - loss: 0.2951 - accuracy: 1.0000 - mse: 0.0033 - precision_2: 1.0000 - recall_2: 1.0000 - val_loss: 0.8163 - val_accuracy: 0.8095 - val_mse: 0.1618 - val_precision_2: 0.7273 - val_recall_2: 0.8889\n",
      "Epoch 76/100\n",
      "11/11 [==============================] - 0s 9ms/step - loss: 0.2915 - accuracy: 1.0000 - mse: 0.0032 - precision_2: 1.0000 - recall_2: 1.0000 - val_loss: 0.8300 - val_accuracy: 0.7619 - val_mse: 0.1634 - val_precision_2: 0.7000 - val_recall_2: 0.7778\n",
      "Epoch 77/100\n",
      " 1/11 [=>............................] - ETA: 0s - loss: 0.2831 - accuracy: 1.0000 - mse: 0.0030 - precision_2: 1.0000 - recall_2: 1.0000"
     ]
    },
    {
     "name": "stderr",
     "output_type": "stream",
     "text": [
      "WARNING:absl:Found untraced functions such as _update_step_xla while saving (showing 1 of 1). These functions will not be directly callable after loading.\n"
     ]
    },
    {
     "name": "stdout",
     "output_type": "stream",
     "text": [
      "INFO:tensorflow:Assets written to: C:\\Users\\Burka\\Documents\\School\\Letny semester 22-23\\Neuronky\\ns-zadanie1\\wandb\\run-20230329_023429-v31cbnnt\\files\\model-best\\assets\n"
     ]
    },
    {
     "name": "stderr",
     "output_type": "stream",
     "text": [
      "INFO:tensorflow:Assets written to: C:\\Users\\Burka\\Documents\\School\\Letny semester 22-23\\Neuronky\\ns-zadanie1\\wandb\\run-20230329_023429-v31cbnnt\\files\\model-best\\assets\n",
      "\u001b[34m\u001b[1mwandb\u001b[0m: Adding directory to artifact (C:\\Users\\Burka\\Documents\\School\\Letny semester 22-23\\Neuronky\\ns-zadanie1\\wandb\\run-20230329_023429-v31cbnnt\\files\\model-best)... Done. 0.0s\n"
     ]
    },
    {
     "name": "stdout",
     "output_type": "stream",
     "text": [
      "11/11 [==============================] - 2s 210ms/step - loss: 0.2888 - accuracy: 1.0000 - mse: 0.0033 - precision_2: 1.0000 - recall_2: 1.0000 - val_loss: 0.8045 - val_accuracy: 0.8095 - val_mse: 0.1611 - val_precision_2: 0.7273 - val_recall_2: 0.8889\n",
      "Epoch 78/100\n",
      "11/11 [==============================] - 0s 5ms/step - loss: 0.2870 - accuracy: 1.0000 - mse: 0.0034 - precision_2: 1.0000 - recall_2: 1.0000 - val_loss: 0.8251 - val_accuracy: 0.8095 - val_mse: 0.1623 - val_precision_2: 0.7273 - val_recall_2: 0.8889\n",
      "Epoch 79/100\n",
      "11/11 [==============================] - 0s 5ms/step - loss: 0.2833 - accuracy: 1.0000 - mse: 0.0029 - precision_2: 1.0000 - recall_2: 1.0000 - val_loss: 0.8240 - val_accuracy: 0.8095 - val_mse: 0.1630 - val_precision_2: 0.7273 - val_recall_2: 0.8889\n",
      "Epoch 80/100\n",
      "11/11 [==============================] - 0s 5ms/step - loss: 0.2811 - accuracy: 1.0000 - mse: 0.0031 - precision_2: 1.0000 - recall_2: 1.0000 - val_loss: 0.8328 - val_accuracy: 0.8095 - val_mse: 0.1671 - val_precision_2: 0.7273 - val_recall_2: 0.8889\n",
      "Epoch 81/100\n",
      "11/11 [==============================] - 0s 5ms/step - loss: 0.2786 - accuracy: 1.0000 - mse: 0.0031 - precision_2: 1.0000 - recall_2: 1.0000 - val_loss: 0.8275 - val_accuracy: 0.8095 - val_mse: 0.1633 - val_precision_2: 0.7273 - val_recall_2: 0.8889\n",
      "Epoch 82/100\n",
      "11/11 [==============================] - 0s 5ms/step - loss: 0.2759 - accuracy: 1.0000 - mse: 0.0030 - precision_2: 1.0000 - recall_2: 1.0000 - val_loss: 0.8203 - val_accuracy: 0.8095 - val_mse: 0.1661 - val_precision_2: 0.7273 - val_recall_2: 0.8889\n",
      "Epoch 83/100\n",
      "11/11 [==============================] - 0s 5ms/step - loss: 0.2727 - accuracy: 1.0000 - mse: 0.0028 - precision_2: 1.0000 - recall_2: 1.0000 - val_loss: 0.8152 - val_accuracy: 0.8095 - val_mse: 0.1636 - val_precision_2: 0.7273 - val_recall_2: 0.8889\n",
      "Epoch 84/100\n",
      "11/11 [==============================] - 0s 5ms/step - loss: 0.2713 - accuracy: 1.0000 - mse: 0.0030 - precision_2: 1.0000 - recall_2: 1.0000 - val_loss: 0.8329 - val_accuracy: 0.8095 - val_mse: 0.1662 - val_precision_2: 0.7273 - val_recall_2: 0.8889\n",
      "Epoch 85/100\n",
      " 1/11 [=>............................] - ETA: 0s - loss: 0.2575 - accuracy: 1.0000 - mse: 8.6839e-04 - precision_2: 1.0000 - recall_2: 1.0000"
     ]
    },
    {
     "name": "stderr",
     "output_type": "stream",
     "text": [
      "WARNING:absl:Found untraced functions such as _update_step_xla while saving (showing 1 of 1). These functions will not be directly callable after loading.\n"
     ]
    },
    {
     "name": "stdout",
     "output_type": "stream",
     "text": [
      "INFO:tensorflow:Assets written to: C:\\Users\\Burka\\Documents\\School\\Letny semester 22-23\\Neuronky\\ns-zadanie1\\wandb\\run-20230329_023429-v31cbnnt\\files\\model-best\\assets\n"
     ]
    },
    {
     "name": "stderr",
     "output_type": "stream",
     "text": [
      "INFO:tensorflow:Assets written to: C:\\Users\\Burka\\Documents\\School\\Letny semester 22-23\\Neuronky\\ns-zadanie1\\wandb\\run-20230329_023429-v31cbnnt\\files\\model-best\\assets\n",
      "\u001b[34m\u001b[1mwandb\u001b[0m: Adding directory to artifact (C:\\Users\\Burka\\Documents\\School\\Letny semester 22-23\\Neuronky\\ns-zadanie1\\wandb\\run-20230329_023429-v31cbnnt\\files\\model-best)... Done. 0.0s\n"
     ]
    },
    {
     "name": "stdout",
     "output_type": "stream",
     "text": [
      "11/11 [==============================] - 1s 134ms/step - loss: 0.2690 - accuracy: 1.0000 - mse: 0.0030 - precision_2: 1.0000 - recall_2: 1.0000 - val_loss: 0.7990 - val_accuracy: 0.8095 - val_mse: 0.1650 - val_precision_2: 0.7273 - val_recall_2: 0.8889\n",
      "Epoch 86/100\n",
      "11/11 [==============================] - 0s 11ms/step - loss: 0.2669 - accuracy: 1.0000 - mse: 0.0029 - precision_2: 1.0000 - recall_2: 1.0000 - val_loss: 0.8195 - val_accuracy: 0.8095 - val_mse: 0.1671 - val_precision_2: 0.7273 - val_recall_2: 0.8889\n",
      "Epoch 87/100\n",
      "11/11 [==============================] - 0s 11ms/step - loss: 0.2642 - accuracy: 1.0000 - mse: 0.0027 - precision_2: 1.0000 - recall_2: 1.0000 - val_loss: 0.8118 - val_accuracy: 0.8095 - val_mse: 0.1639 - val_precision_2: 0.7273 - val_recall_2: 0.8889\n",
      "Epoch 88/100\n",
      "11/11 [==============================] - 0s 10ms/step - loss: 0.2625 - accuracy: 1.0000 - mse: 0.0028 - precision_2: 1.0000 - recall_2: 1.0000 - val_loss: 0.8196 - val_accuracy: 0.8095 - val_mse: 0.1655 - val_precision_2: 0.7273 - val_recall_2: 0.8889\n",
      "Epoch 89/100\n",
      "11/11 [==============================] - 0s 11ms/step - loss: 0.2609 - accuracy: 1.0000 - mse: 0.0029 - precision_2: 1.0000 - recall_2: 1.0000 - val_loss: 0.8087 - val_accuracy: 0.8095 - val_mse: 0.1639 - val_precision_2: 0.7273 - val_recall_2: 0.8889\n",
      "Epoch 90/100\n",
      "11/11 [==============================] - 0s 9ms/step - loss: 0.2588 - accuracy: 1.0000 - mse: 0.0028 - precision_2: 1.0000 - recall_2: 1.0000 - val_loss: 0.8004 - val_accuracy: 0.8095 - val_mse: 0.1631 - val_precision_2: 0.7273 - val_recall_2: 0.8889\n",
      "Epoch 91/100\n",
      "11/11 [==============================] - 0s 8ms/step - loss: 0.2567 - accuracy: 1.0000 - mse: 0.0027 - precision_2: 1.0000 - recall_2: 1.0000 - val_loss: 0.8075 - val_accuracy: 0.8095 - val_mse: 0.1650 - val_precision_2: 0.7273 - val_recall_2: 0.8889\n",
      "Epoch 92/100\n",
      " 1/11 [=>............................] - ETA: 0s - loss: 0.2714 - accuracy: 1.0000 - mse: 0.0053 - precision_2: 1.0000 - recall_2: 1.0000"
     ]
    },
    {
     "name": "stderr",
     "output_type": "stream",
     "text": [
      "WARNING:absl:Found untraced functions such as _update_step_xla while saving (showing 1 of 1). These functions will not be directly callable after loading.\n"
     ]
    },
    {
     "name": "stdout",
     "output_type": "stream",
     "text": [
      "INFO:tensorflow:Assets written to: C:\\Users\\Burka\\Documents\\School\\Letny semester 22-23\\Neuronky\\ns-zadanie1\\wandb\\run-20230329_023429-v31cbnnt\\files\\model-best\\assets\n"
     ]
    },
    {
     "name": "stderr",
     "output_type": "stream",
     "text": [
      "INFO:tensorflow:Assets written to: C:\\Users\\Burka\\Documents\\School\\Letny semester 22-23\\Neuronky\\ns-zadanie1\\wandb\\run-20230329_023429-v31cbnnt\\files\\model-best\\assets\n",
      "\u001b[34m\u001b[1mwandb\u001b[0m: Adding directory to artifact (C:\\Users\\Burka\\Documents\\School\\Letny semester 22-23\\Neuronky\\ns-zadanie1\\wandb\\run-20230329_023429-v31cbnnt\\files\\model-best)... Done. 0.0s\n"
     ]
    },
    {
     "name": "stdout",
     "output_type": "stream",
     "text": [
      "11/11 [==============================] - 2s 189ms/step - loss: 0.2546 - accuracy: 1.0000 - mse: 0.0024 - precision_2: 1.0000 - recall_2: 1.0000 - val_loss: 0.7982 - val_accuracy: 0.8095 - val_mse: 0.1607 - val_precision_2: 0.7273 - val_recall_2: 0.8889\n",
      "Epoch 93/100\n",
      " 1/11 [=>............................] - ETA: 0s - loss: 0.2380 - accuracy: 1.0000 - mse: 5.0989e-04 - precision_2: 1.0000 - recall_2: 1.0000"
     ]
    },
    {
     "name": "stderr",
     "output_type": "stream",
     "text": [
      "WARNING:absl:Found untraced functions such as _update_step_xla while saving (showing 1 of 1). These functions will not be directly callable after loading.\n"
     ]
    },
    {
     "name": "stdout",
     "output_type": "stream",
     "text": [
      "INFO:tensorflow:Assets written to: C:\\Users\\Burka\\Documents\\School\\Letny semester 22-23\\Neuronky\\ns-zadanie1\\wandb\\run-20230329_023429-v31cbnnt\\files\\model-best\\assets\n"
     ]
    },
    {
     "name": "stderr",
     "output_type": "stream",
     "text": [
      "INFO:tensorflow:Assets written to: C:\\Users\\Burka\\Documents\\School\\Letny semester 22-23\\Neuronky\\ns-zadanie1\\wandb\\run-20230329_023429-v31cbnnt\\files\\model-best\\assets\n",
      "\u001b[34m\u001b[1mwandb\u001b[0m: Adding directory to artifact (C:\\Users\\Burka\\Documents\\School\\Letny semester 22-23\\Neuronky\\ns-zadanie1\\wandb\\run-20230329_023429-v31cbnnt\\files\\model-best)... Done. 0.0s\n"
     ]
    },
    {
     "name": "stdout",
     "output_type": "stream",
     "text": [
      "11/11 [==============================] - 2s 183ms/step - loss: 0.2526 - accuracy: 1.0000 - mse: 0.0025 - precision_2: 1.0000 - recall_2: 1.0000 - val_loss: 0.7916 - val_accuracy: 0.8095 - val_mse: 0.1615 - val_precision_2: 0.7273 - val_recall_2: 0.8889\n",
      "Epoch 94/100\n",
      "11/11 [==============================] - 0s 6ms/step - loss: 0.2509 - accuracy: 1.0000 - mse: 0.0025 - precision_2: 1.0000 - recall_2: 1.0000 - val_loss: 0.8018 - val_accuracy: 0.8095 - val_mse: 0.1645 - val_precision_2: 0.7273 - val_recall_2: 0.8889\n",
      "Epoch 95/100\n",
      "11/11 [==============================] - 0s 6ms/step - loss: 0.2499 - accuracy: 1.0000 - mse: 0.0024 - precision_2: 1.0000 - recall_2: 1.0000 - val_loss: 0.8114 - val_accuracy: 0.8095 - val_mse: 0.1618 - val_precision_2: 0.7273 - val_recall_2: 0.8889\n",
      "Epoch 96/100\n",
      "11/11 [==============================] - 0s 6ms/step - loss: 0.2485 - accuracy: 1.0000 - mse: 0.0024 - precision_2: 1.0000 - recall_2: 1.0000 - val_loss: 0.7930 - val_accuracy: 0.8095 - val_mse: 0.1616 - val_precision_2: 0.7273 - val_recall_2: 0.8889\n",
      "Epoch 97/100\n",
      " 1/11 [=>............................] - ETA: 0s - loss: 0.2417 - accuracy: 1.0000 - mse: 0.0011 - precision_2: 1.0000 - recall_2: 1.0000"
     ]
    },
    {
     "name": "stderr",
     "output_type": "stream",
     "text": [
      "WARNING:absl:Found untraced functions such as _update_step_xla while saving (showing 1 of 1). These functions will not be directly callable after loading.\n"
     ]
    },
    {
     "name": "stdout",
     "output_type": "stream",
     "text": [
      "INFO:tensorflow:Assets written to: C:\\Users\\Burka\\Documents\\School\\Letny semester 22-23\\Neuronky\\ns-zadanie1\\wandb\\run-20230329_023429-v31cbnnt\\files\\model-best\\assets\n"
     ]
    },
    {
     "name": "stderr",
     "output_type": "stream",
     "text": [
      "INFO:tensorflow:Assets written to: C:\\Users\\Burka\\Documents\\School\\Letny semester 22-23\\Neuronky\\ns-zadanie1\\wandb\\run-20230329_023429-v31cbnnt\\files\\model-best\\assets\n",
      "\u001b[34m\u001b[1mwandb\u001b[0m: Adding directory to artifact (C:\\Users\\Burka\\Documents\\School\\Letny semester 22-23\\Neuronky\\ns-zadanie1\\wandb\\run-20230329_023429-v31cbnnt\\files\\model-best)... Done. 0.0s\n"
     ]
    },
    {
     "name": "stdout",
     "output_type": "stream",
     "text": [
      "11/11 [==============================] - 1s 147ms/step - loss: 0.2465 - accuracy: 1.0000 - mse: 0.0023 - precision_2: 1.0000 - recall_2: 1.0000 - val_loss: 0.7897 - val_accuracy: 0.8095 - val_mse: 0.1625 - val_precision_2: 0.7273 - val_recall_2: 0.8889\n",
      "Epoch 98/100\n",
      "11/11 [==============================] - 0s 5ms/step - loss: 0.2452 - accuracy: 1.0000 - mse: 0.0022 - precision_2: 1.0000 - recall_2: 1.0000 - val_loss: 0.7927 - val_accuracy: 0.8095 - val_mse: 0.1635 - val_precision_2: 0.7273 - val_recall_2: 0.8889\n",
      "Epoch 99/100\n",
      "11/11 [==============================] - 0s 5ms/step - loss: 0.2440 - accuracy: 1.0000 - mse: 0.0023 - precision_2: 1.0000 - recall_2: 1.0000 - val_loss: 0.7910 - val_accuracy: 0.8095 - val_mse: 0.1619 - val_precision_2: 0.7273 - val_recall_2: 0.8889\n",
      "Epoch 100/100\n",
      " 1/11 [=>............................] - ETA: 0s - loss: 0.2295 - accuracy: 1.0000 - mse: 4.8500e-04 - precision_2: 1.0000 - recall_2: 1.0000"
     ]
    },
    {
     "name": "stderr",
     "output_type": "stream",
     "text": [
      "WARNING:absl:Found untraced functions such as _update_step_xla while saving (showing 1 of 1). These functions will not be directly callable after loading.\n"
     ]
    },
    {
     "name": "stdout",
     "output_type": "stream",
     "text": [
      "INFO:tensorflow:Assets written to: C:\\Users\\Burka\\Documents\\School\\Letny semester 22-23\\Neuronky\\ns-zadanie1\\wandb\\run-20230329_023429-v31cbnnt\\files\\model-best\\assets\n"
     ]
    },
    {
     "name": "stderr",
     "output_type": "stream",
     "text": [
      "INFO:tensorflow:Assets written to: C:\\Users\\Burka\\Documents\\School\\Letny semester 22-23\\Neuronky\\ns-zadanie1\\wandb\\run-20230329_023429-v31cbnnt\\files\\model-best\\assets\n",
      "\u001b[34m\u001b[1mwandb\u001b[0m: Adding directory to artifact (C:\\Users\\Burka\\Documents\\School\\Letny semester 22-23\\Neuronky\\ns-zadanie1\\wandb\\run-20230329_023429-v31cbnnt\\files\\model-best)... Done. 0.0s\n"
     ]
    },
    {
     "name": "stdout",
     "output_type": "stream",
     "text": [
      "11/11 [==============================] - 1s 146ms/step - loss: 0.2430 - accuracy: 1.0000 - mse: 0.0023 - precision_2: 1.0000 - recall_2: 1.0000 - val_loss: 0.7851 - val_accuracy: 0.8095 - val_mse: 0.1593 - val_precision_2: 0.7273 - val_recall_2: 0.8889\n"
     ]
    },
    {
     "name": "stderr",
     "output_type": "stream",
     "text": [
      "WARNING:absl:Found untraced functions such as _update_step_xla while saving (showing 1 of 1). These functions will not be directly callable after loading.\n"
     ]
    },
    {
     "name": "stdout",
     "output_type": "stream",
     "text": [
      "INFO:tensorflow:Assets written to: ./model4\\assets\n"
     ]
    },
    {
     "name": "stderr",
     "output_type": "stream",
     "text": [
      "INFO:tensorflow:Assets written to: ./model4\\assets\n"
     ]
    }
   ],
   "source": [
    "fitModel(tf_model4, 'model4', [WandbCallback()])"
   ]
  },
  {
   "cell_type": "code",
   "execution_count": 77,
   "id": "d6037c60-6807-4eaa-9e02-376155aad2df",
   "metadata": {},
   "outputs": [
    {
     "data": {
      "text/html": [
       "Waiting for W&B process to finish... <strong style=\"color:green\">(success).</strong>"
      ],
      "text/plain": [
       "<IPython.core.display.HTML object>"
      ]
     },
     "metadata": {},
     "output_type": "display_data"
    },
    {
     "data": {
      "application/vnd.jupyter.widget-view+json": {
       "model_id": "d7570922e9df490d98c1c2d5d3758c32",
       "version_major": 2,
       "version_minor": 0
      },
      "text/plain": [
       "VBox(children=(Label(value='0.005 MB of 0.005 MB uploaded (0.000 MB deduped)\\r'), FloatProgress(value=0.902585…"
      ]
     },
     "metadata": {},
     "output_type": "display_data"
    },
    {
     "data": {
      "text/html": [
       " View run <strong style=\"color:#cdcd00\">spring-firefly-10</strong> at: <a href='https://wandb.ai/cajnyoby/zadanie1/runs/6ni3sed7' target=\"_blank\">https://wandb.ai/cajnyoby/zadanie1/runs/6ni3sed7</a><br/>Synced 4 W&B file(s), 0 media file(s), 0 artifact file(s) and 0 other file(s)"
      ],
      "text/plain": [
       "<IPython.core.display.HTML object>"
      ]
     },
     "metadata": {},
     "output_type": "display_data"
    },
    {
     "data": {
      "text/html": [
       "Find logs at: <code>.\\wandb\\run-20230329_023813-6ni3sed7\\logs</code>"
      ],
      "text/plain": [
       "<IPython.core.display.HTML object>"
      ]
     },
     "metadata": {},
     "output_type": "display_data"
    },
    {
     "data": {
      "application/vnd.jupyter.widget-view+json": {
       "model_id": "19dfa82abfc247e7968047920685770f",
       "version_major": 2,
       "version_minor": 0
      },
      "text/plain": [
       "VBox(children=(Label(value='Waiting for wandb.init()...\\r'), FloatProgress(value=0.016666666666666666, max=1.0…"
      ]
     },
     "metadata": {},
     "output_type": "display_data"
    },
    {
     "data": {
      "text/html": [
       "wandb version 0.14.0 is available!  To upgrade, please run:\n",
       " $ pip install wandb --upgrade"
      ],
      "text/plain": [
       "<IPython.core.display.HTML object>"
      ]
     },
     "metadata": {},
     "output_type": "display_data"
    },
    {
     "data": {
      "text/html": [
       "Tracking run with wandb version 0.13.10"
      ],
      "text/plain": [
       "<IPython.core.display.HTML object>"
      ]
     },
     "metadata": {},
     "output_type": "display_data"
    },
    {
     "data": {
      "text/html": [
       "Run data is saved locally in <code>C:\\Users\\Burka\\Documents\\School\\Letny semester 22-23\\Neuronky\\ns-zadanie1\\wandb\\run-20230329_023819-four8km7</code>"
      ],
      "text/plain": [
       "<IPython.core.display.HTML object>"
      ]
     },
     "metadata": {},
     "output_type": "display_data"
    },
    {
     "data": {
      "text/html": [
       "Syncing run <strong><a href='https://wandb.ai/cajnyoby/zadanie1/runs/four8km7' target=\"_blank\">eternal-lake-11</a></strong> to <a href='https://wandb.ai/cajnyoby/zadanie1' target=\"_blank\">Weights & Biases</a> (<a href='https://wandb.me/run' target=\"_blank\">docs</a>)<br/>"
      ],
      "text/plain": [
       "<IPython.core.display.HTML object>"
      ]
     },
     "metadata": {},
     "output_type": "display_data"
    },
    {
     "data": {
      "text/html": [
       " View project at <a href='https://wandb.ai/cajnyoby/zadanie1' target=\"_blank\">https://wandb.ai/cajnyoby/zadanie1</a>"
      ],
      "text/plain": [
       "<IPython.core.display.HTML object>"
      ]
     },
     "metadata": {},
     "output_type": "display_data"
    },
    {
     "data": {
      "text/html": [
       " View run at <a href='https://wandb.ai/cajnyoby/zadanie1/runs/four8km7' target=\"_blank\">https://wandb.ai/cajnyoby/zadanie1/runs/four8km7</a>"
      ],
      "text/plain": [
       "<IPython.core.display.HTML object>"
      ]
     },
     "metadata": {},
     "output_type": "display_data"
    }
   ],
   "source": [
    "w.finish()\n",
    "w = wandb.init(project='zadanie1',reinit=True)"
   ]
  },
  {
   "cell_type": "code",
   "execution_count": null,
   "id": "d0185bb4",
   "metadata": {
    "tags": []
   },
   "outputs": [
    {
     "name": "stdout",
     "output_type": "stream",
     "text": [
      "Epoch 1/100\n",
      " 1/11 [=>............................] - ETA: 9s - loss: 0.6934 - accuracy: 0.5625 - mse: 0.2523 - precision_2: 0.6522 - recall_2: 0.8333WARNING:tensorflow:Callback method `on_train_batch_end` is slow compared to the batch time (batch time: 0.0018s vs `on_train_batch_end` time: 0.0024s). Check your callbacks.\n"
     ]
    },
    {
     "name": "stderr",
     "output_type": "stream",
     "text": [
      "WARNING:tensorflow:Callback method `on_train_batch_end` is slow compared to the batch time (batch time: 0.0018s vs `on_train_batch_end` time: 0.0024s). Check your callbacks.\n",
      "WARNING:absl:Found untraced functions such as _update_step_xla while saving (showing 1 of 1). These functions will not be directly callable after loading.\n"
     ]
    },
    {
     "name": "stdout",
     "output_type": "stream",
     "text": [
      "INFO:tensorflow:Assets written to: C:\\Users\\Burka\\Documents\\School\\Letny semester 22-23\\Neuronky\\ns-zadanie1\\wandb\\run-20230329_023819-four8km7\\files\\model-best\\assets\n"
     ]
    },
    {
     "name": "stderr",
     "output_type": "stream",
     "text": [
      "INFO:tensorflow:Assets written to: C:\\Users\\Burka\\Documents\\School\\Letny semester 22-23\\Neuronky\\ns-zadanie1\\wandb\\run-20230329_023819-four8km7\\files\\model-best\\assets\n",
      "\u001b[34m\u001b[1mwandb\u001b[0m: Adding directory to artifact (C:\\Users\\Burka\\Documents\\School\\Letny semester 22-23\\Neuronky\\ns-zadanie1\\wandb\\run-20230329_023819-four8km7\\files\\model-best)... Done. 0.0s\n"
     ]
    },
    {
     "name": "stdout",
     "output_type": "stream",
     "text": [
      "11/11 [==============================] - 2s 141ms/step - loss: 0.7413 - accuracy: 0.5301 - mse: 0.2632 - precision_2: 0.5789 - recall_2: 0.6600 - val_loss: 0.6921 - val_accuracy: 0.5238 - val_mse: 0.2490 - val_precision_2: 0.4737 - val_recall_2: 1.0000\n",
      "Epoch 2/100\n",
      " 1/11 [=>............................] - ETA: 0s - loss: 0.5040 - accuracy: 0.6875 - mse: 0.1652 - precision_2: 0.5556 - recall_2: 0.8333"
     ]
    },
    {
     "name": "stderr",
     "output_type": "stream",
     "text": [
      "WARNING:absl:Found untraced functions such as _update_step_xla while saving (showing 1 of 1). These functions will not be directly callable after loading.\n"
     ]
    },
    {
     "name": "stdout",
     "output_type": "stream",
     "text": [
      "INFO:tensorflow:Assets written to: C:\\Users\\Burka\\Documents\\School\\Letny semester 22-23\\Neuronky\\ns-zadanie1\\wandb\\run-20230329_023819-four8km7\\files\\model-best\\assets\n"
     ]
    },
    {
     "name": "stderr",
     "output_type": "stream",
     "text": [
      "INFO:tensorflow:Assets written to: C:\\Users\\Burka\\Documents\\School\\Letny semester 22-23\\Neuronky\\ns-zadanie1\\wandb\\run-20230329_023819-four8km7\\files\\model-best\\assets\n",
      "\u001b[34m\u001b[1mwandb\u001b[0m: Adding directory to artifact (C:\\Users\\Burka\\Documents\\School\\Letny semester 22-23\\Neuronky\\ns-zadanie1\\wandb\\run-20230329_023819-four8km7\\files\\model-best)... Done. 0.0s\n"
     ]
    },
    {
     "name": "stdout",
     "output_type": "stream",
     "text": [
      "11/11 [==============================] - 1s 118ms/step - loss: 0.7787 - accuracy: 0.5120 - mse: 0.2751 - precision_2: 0.5472 - recall_2: 0.6374 - val_loss: 0.6821 - val_accuracy: 0.5238 - val_mse: 0.2442 - val_precision_2: 0.4737 - val_recall_2: 1.0000\n",
      "Epoch 3/100\n",
      " 1/11 [=>............................] - ETA: 0s - loss: 0.8253 - accuracy: 0.4375 - mse: 0.2848 - precision_2: 0.4444 - recall_2: 0.5000"
     ]
    },
    {
     "name": "stderr",
     "output_type": "stream",
     "text": [
      "WARNING:absl:Found untraced functions such as _update_step_xla while saving (showing 1 of 1). These functions will not be directly callable after loading.\n"
     ]
    },
    {
     "name": "stdout",
     "output_type": "stream",
     "text": [
      "INFO:tensorflow:Assets written to: C:\\Users\\Burka\\Documents\\School\\Letny semester 22-23\\Neuronky\\ns-zadanie1\\wandb\\run-20230329_023819-four8km7\\files\\model-best\\assets\n"
     ]
    },
    {
     "name": "stderr",
     "output_type": "stream",
     "text": [
      "INFO:tensorflow:Assets written to: C:\\Users\\Burka\\Documents\\School\\Letny semester 22-23\\Neuronky\\ns-zadanie1\\wandb\\run-20230329_023819-four8km7\\files\\model-best\\assets\n",
      "\u001b[34m\u001b[1mwandb\u001b[0m: Adding directory to artifact (C:\\Users\\Burka\\Documents\\School\\Letny semester 22-23\\Neuronky\\ns-zadanie1\\wandb\\run-20230329_023819-four8km7\\files\\model-best)... Done. 0.0s\n"
     ]
    },
    {
     "name": "stdout",
     "output_type": "stream",
     "text": [
      "11/11 [==============================] - 1s 134ms/step - loss: 0.6713 - accuracy: 0.5663 - mse: 0.2378 - precision_2: 0.5856 - recall_2: 0.7143 - val_loss: 0.6815 - val_accuracy: 0.5238 - val_mse: 0.2440 - val_precision_2: 0.4737 - val_recall_2: 1.0000\n",
      "Epoch 4/100\n",
      "11/11 [==============================] - 0s 6ms/step - loss: 0.6873 - accuracy: 0.5843 - mse: 0.2405 - precision_2: 0.6100 - recall_2: 0.6703 - val_loss: 0.6817 - val_accuracy: 0.5238 - val_mse: 0.2442 - val_precision_2: 0.4737 - val_recall_2: 1.0000\n",
      "Epoch 5/100\n",
      "11/11 [==============================] - 0s 5ms/step - loss: 0.7542 - accuracy: 0.5060 - mse: 0.2719 - precision_2: 0.5421 - recall_2: 0.6374 - val_loss: 0.6867 - val_accuracy: 0.4762 - val_mse: 0.2468 - val_precision_2: 0.4500 - val_recall_2: 1.0000\n",
      "Epoch 6/100\n",
      " 1/11 [=>............................] - ETA: 0s - loss: 0.6840 - accuracy: 0.6875 - mse: 0.2382 - precision_2: 0.6429 - recall_2: 1.0000"
     ]
    },
    {
     "name": "stderr",
     "output_type": "stream",
     "text": [
      "WARNING:absl:Found untraced functions such as _update_step_xla while saving (showing 1 of 1). These functions will not be directly callable after loading.\n"
     ]
    },
    {
     "name": "stdout",
     "output_type": "stream",
     "text": [
      "INFO:tensorflow:Assets written to: C:\\Users\\Burka\\Documents\\School\\Letny semester 22-23\\Neuronky\\ns-zadanie1\\wandb\\run-20230329_023819-four8km7\\files\\model-best\\assets\n"
     ]
    },
    {
     "name": "stderr",
     "output_type": "stream",
     "text": [
      "INFO:tensorflow:Assets written to: C:\\Users\\Burka\\Documents\\School\\Letny semester 22-23\\Neuronky\\ns-zadanie1\\wandb\\run-20230329_023819-four8km7\\files\\model-best\\assets\n",
      "\u001b[34m\u001b[1mwandb\u001b[0m: Adding directory to artifact (C:\\Users\\Burka\\Documents\\School\\Letny semester 22-23\\Neuronky\\ns-zadanie1\\wandb\\run-20230329_023819-four8km7\\files\\model-best)... Done. 0.0s\n"
     ]
    },
    {
     "name": "stdout",
     "output_type": "stream",
     "text": [
      "11/11 [==============================] - 1s 123ms/step - loss: 0.7567 - accuracy: 0.5602 - mse: 0.2697 - precision_2: 0.5865 - recall_2: 0.6703 - val_loss: 0.6775 - val_accuracy: 0.5238 - val_mse: 0.2424 - val_precision_2: 0.4737 - val_recall_2: 1.0000\n",
      "Epoch 7/100\n",
      " 1/11 [=>............................] - ETA: 0s - loss: 0.7962 - accuracy: 0.5000 - mse: 0.2912 - precision_2: 0.4167 - recall_2: 0.8333"
     ]
    },
    {
     "name": "stderr",
     "output_type": "stream",
     "text": [
      "WARNING:absl:Found untraced functions such as _update_step_xla while saving (showing 1 of 1). These functions will not be directly callable after loading.\n"
     ]
    },
    {
     "name": "stdout",
     "output_type": "stream",
     "text": [
      "INFO:tensorflow:Assets written to: C:\\Users\\Burka\\Documents\\School\\Letny semester 22-23\\Neuronky\\ns-zadanie1\\wandb\\run-20230329_023819-four8km7\\files\\model-best\\assets\n"
     ]
    },
    {
     "name": "stderr",
     "output_type": "stream",
     "text": [
      "INFO:tensorflow:Assets written to: C:\\Users\\Burka\\Documents\\School\\Letny semester 22-23\\Neuronky\\ns-zadanie1\\wandb\\run-20230329_023819-four8km7\\files\\model-best\\assets\n",
      "\u001b[34m\u001b[1mwandb\u001b[0m: Adding directory to artifact (C:\\Users\\Burka\\Documents\\School\\Letny semester 22-23\\Neuronky\\ns-zadanie1\\wandb\\run-20230329_023819-four8km7\\files\\model-best)... Done. 0.0s\n"
     ]
    },
    {
     "name": "stdout",
     "output_type": "stream",
     "text": [
      "11/11 [==============================] - 1s 126ms/step - loss: 0.7263 - accuracy: 0.5301 - mse: 0.2616 - precision_2: 0.5546 - recall_2: 0.7253 - val_loss: 0.6657 - val_accuracy: 0.5238 - val_mse: 0.2368 - val_precision_2: 0.4737 - val_recall_2: 1.0000\n",
      "Epoch 8/100\n",
      " 1/11 [=>............................] - ETA: 0s - loss: 0.7327 - accuracy: 0.4375 - mse: 0.2682 - precision_2: 0.4286 - recall_2: 0.3750"
     ]
    },
    {
     "name": "stderr",
     "output_type": "stream",
     "text": [
      "WARNING:absl:Found untraced functions such as _update_step_xla while saving (showing 1 of 1). These functions will not be directly callable after loading.\n"
     ]
    },
    {
     "name": "stdout",
     "output_type": "stream",
     "text": [
      "INFO:tensorflow:Assets written to: C:\\Users\\Burka\\Documents\\School\\Letny semester 22-23\\Neuronky\\ns-zadanie1\\wandb\\run-20230329_023819-four8km7\\files\\model-best\\assets\n"
     ]
    },
    {
     "name": "stderr",
     "output_type": "stream",
     "text": [
      "INFO:tensorflow:Assets written to: C:\\Users\\Burka\\Documents\\School\\Letny semester 22-23\\Neuronky\\ns-zadanie1\\wandb\\run-20230329_023819-four8km7\\files\\model-best\\assets\n",
      "\u001b[34m\u001b[1mwandb\u001b[0m: Adding directory to artifact (C:\\Users\\Burka\\Documents\\School\\Letny semester 22-23\\Neuronky\\ns-zadanie1\\wandb\\run-20230329_023819-four8km7\\files\\model-best)... Done. 0.0s\n"
     ]
    },
    {
     "name": "stdout",
     "output_type": "stream",
     "text": [
      "11/11 [==============================] - 2s 162ms/step - loss: 0.7306 - accuracy: 0.5241 - mse: 0.2623 - precision_2: 0.5612 - recall_2: 0.6044 - val_loss: 0.6637 - val_accuracy: 0.5238 - val_mse: 0.2359 - val_precision_2: 0.4737 - val_recall_2: 1.0000\n",
      "Epoch 9/100\n",
      " 1/11 [=>............................] - ETA: 0s - loss: 0.7524 - accuracy: 0.3750 - mse: 0.2792 - precision_2: 0.3636 - recall_2: 0.5714"
     ]
    },
    {
     "name": "stderr",
     "output_type": "stream",
     "text": [
      "WARNING:absl:Found untraced functions such as _update_step_xla while saving (showing 1 of 1). These functions will not be directly callable after loading.\n"
     ]
    },
    {
     "name": "stdout",
     "output_type": "stream",
     "text": [
      "INFO:tensorflow:Assets written to: C:\\Users\\Burka\\Documents\\School\\Letny semester 22-23\\Neuronky\\ns-zadanie1\\wandb\\run-20230329_023819-four8km7\\files\\model-best\\assets\n"
     ]
    },
    {
     "name": "stderr",
     "output_type": "stream",
     "text": [
      "INFO:tensorflow:Assets written to: C:\\Users\\Burka\\Documents\\School\\Letny semester 22-23\\Neuronky\\ns-zadanie1\\wandb\\run-20230329_023819-four8km7\\files\\model-best\\assets\n",
      "\u001b[34m\u001b[1mwandb\u001b[0m: Adding directory to artifact (C:\\Users\\Burka\\Documents\\School\\Letny semester 22-23\\Neuronky\\ns-zadanie1\\wandb\\run-20230329_023819-four8km7\\files\\model-best)... Done. 0.0s\n"
     ]
    },
    {
     "name": "stdout",
     "output_type": "stream",
     "text": [
      "11/11 [==============================] - 1s 117ms/step - loss: 0.6963 - accuracy: 0.5602 - mse: 0.2511 - precision_2: 0.5738 - recall_2: 0.7692 - val_loss: 0.6614 - val_accuracy: 0.5238 - val_mse: 0.2349 - val_precision_2: 0.4737 - val_recall_2: 1.0000\n",
      "Epoch 10/100\n",
      " 1/11 [=>............................] - ETA: 0s - loss: 0.7387 - accuracy: 0.5000 - mse: 0.2565 - precision_2: 0.5455 - recall_2: 0.6667"
     ]
    },
    {
     "name": "stderr",
     "output_type": "stream",
     "text": [
      "WARNING:absl:Found untraced functions such as _update_step_xla while saving (showing 1 of 1). These functions will not be directly callable after loading.\n"
     ]
    },
    {
     "name": "stdout",
     "output_type": "stream",
     "text": [
      "INFO:tensorflow:Assets written to: C:\\Users\\Burka\\Documents\\School\\Letny semester 22-23\\Neuronky\\ns-zadanie1\\wandb\\run-20230329_023819-four8km7\\files\\model-best\\assets\n"
     ]
    },
    {
     "name": "stderr",
     "output_type": "stream",
     "text": [
      "INFO:tensorflow:Assets written to: C:\\Users\\Burka\\Documents\\School\\Letny semester 22-23\\Neuronky\\ns-zadanie1\\wandb\\run-20230329_023819-four8km7\\files\\model-best\\assets\n",
      "\u001b[34m\u001b[1mwandb\u001b[0m: Adding directory to artifact (C:\\Users\\Burka\\Documents\\School\\Letny semester 22-23\\Neuronky\\ns-zadanie1\\wandb\\run-20230329_023819-four8km7\\files\\model-best)... Done. 0.0s\n"
     ]
    },
    {
     "name": "stdout",
     "output_type": "stream",
     "text": [
      "11/11 [==============================] - 1s 118ms/step - loss: 0.6434 - accuracy: 0.6084 - mse: 0.2260 - precision_2: 0.6204 - recall_2: 0.7363 - val_loss: 0.6550 - val_accuracy: 0.5238 - val_mse: 0.2319 - val_precision_2: 0.4737 - val_recall_2: 1.0000\n",
      "Epoch 11/100\n",
      " 1/11 [=>............................] - ETA: 0s - loss: 0.5240 - accuracy: 0.7500 - mse: 0.1748 - precision_2: 1.0000 - recall_2: 0.6364"
     ]
    },
    {
     "name": "stderr",
     "output_type": "stream",
     "text": [
      "WARNING:absl:Found untraced functions such as _update_step_xla while saving (showing 1 of 1). These functions will not be directly callable after loading.\n"
     ]
    },
    {
     "name": "stdout",
     "output_type": "stream",
     "text": [
      "INFO:tensorflow:Assets written to: C:\\Users\\Burka\\Documents\\School\\Letny semester 22-23\\Neuronky\\ns-zadanie1\\wandb\\run-20230329_023819-four8km7\\files\\model-best\\assets\n"
     ]
    },
    {
     "name": "stderr",
     "output_type": "stream",
     "text": [
      "INFO:tensorflow:Assets written to: C:\\Users\\Burka\\Documents\\School\\Letny semester 22-23\\Neuronky\\ns-zadanie1\\wandb\\run-20230329_023819-four8km7\\files\\model-best\\assets\n",
      "\u001b[34m\u001b[1mwandb\u001b[0m: Adding directory to artifact (C:\\Users\\Burka\\Documents\\School\\Letny semester 22-23\\Neuronky\\ns-zadanie1\\wandb\\run-20230329_023819-four8km7\\files\\model-best)... Done. 0.0s\n"
     ]
    },
    {
     "name": "stdout",
     "output_type": "stream",
     "text": [
      "11/11 [==============================] - 1s 126ms/step - loss: 0.6356 - accuracy: 0.5904 - mse: 0.2248 - precision_2: 0.6075 - recall_2: 0.7143 - val_loss: 0.6474 - val_accuracy: 0.5714 - val_mse: 0.2283 - val_precision_2: 0.5000 - val_recall_2: 1.0000\n",
      "Epoch 12/100\n",
      " 1/11 [=>............................] - ETA: 0s - loss: 0.7249 - accuracy: 0.6250 - mse: 0.2557 - precision_2: 0.6000 - recall_2: 0.7500"
     ]
    },
    {
     "name": "stderr",
     "output_type": "stream",
     "text": [
      "WARNING:absl:Found untraced functions such as _update_step_xla while saving (showing 1 of 1). These functions will not be directly callable after loading.\n"
     ]
    },
    {
     "name": "stdout",
     "output_type": "stream",
     "text": [
      "INFO:tensorflow:Assets written to: C:\\Users\\Burka\\Documents\\School\\Letny semester 22-23\\Neuronky\\ns-zadanie1\\wandb\\run-20230329_023819-four8km7\\files\\model-best\\assets\n"
     ]
    },
    {
     "name": "stderr",
     "output_type": "stream",
     "text": [
      "INFO:tensorflow:Assets written to: C:\\Users\\Burka\\Documents\\School\\Letny semester 22-23\\Neuronky\\ns-zadanie1\\wandb\\run-20230329_023819-four8km7\\files\\model-best\\assets\n",
      "\u001b[34m\u001b[1mwandb\u001b[0m: Adding directory to artifact (C:\\Users\\Burka\\Documents\\School\\Letny semester 22-23\\Neuronky\\ns-zadanie1\\wandb\\run-20230329_023819-four8km7\\files\\model-best)... Done. 0.0s\n"
     ]
    },
    {
     "name": "stdout",
     "output_type": "stream",
     "text": [
      "11/11 [==============================] - 1s 135ms/step - loss: 0.6525 - accuracy: 0.6386 - mse: 0.2282 - precision_2: 0.6372 - recall_2: 0.7912 - val_loss: 0.6408 - val_accuracy: 0.5238 - val_mse: 0.2253 - val_precision_2: 0.4706 - val_recall_2: 0.8889\n",
      "Epoch 13/100\n",
      " 1/11 [=>............................] - ETA: 0s - loss: 0.5733 - accuracy: 0.6875 - mse: 0.1981 - precision_2: 0.5833 - recall_2: 1.0000"
     ]
    },
    {
     "name": "stderr",
     "output_type": "stream",
     "text": [
      "WARNING:absl:Found untraced functions such as _update_step_xla while saving (showing 1 of 1). These functions will not be directly callable after loading.\n"
     ]
    },
    {
     "name": "stdout",
     "output_type": "stream",
     "text": [
      "INFO:tensorflow:Assets written to: C:\\Users\\Burka\\Documents\\School\\Letny semester 22-23\\Neuronky\\ns-zadanie1\\wandb\\run-20230329_023819-four8km7\\files\\model-best\\assets\n"
     ]
    },
    {
     "name": "stderr",
     "output_type": "stream",
     "text": [
      "INFO:tensorflow:Assets written to: C:\\Users\\Burka\\Documents\\School\\Letny semester 22-23\\Neuronky\\ns-zadanie1\\wandb\\run-20230329_023819-four8km7\\files\\model-best\\assets\n",
      "\u001b[34m\u001b[1mwandb\u001b[0m: Adding directory to artifact (C:\\Users\\Burka\\Documents\\School\\Letny semester 22-23\\Neuronky\\ns-zadanie1\\wandb\\run-20230329_023819-four8km7\\files\\model-best)... Done. 0.0s\n"
     ]
    },
    {
     "name": "stdout",
     "output_type": "stream",
     "text": [
      "11/11 [==============================] - 1s 121ms/step - loss: 0.6605 - accuracy: 0.6084 - mse: 0.2325 - precision_2: 0.6300 - recall_2: 0.6923 - val_loss: 0.6378 - val_accuracy: 0.5238 - val_mse: 0.2241 - val_precision_2: 0.4706 - val_recall_2: 0.8889\n",
      "Epoch 14/100\n",
      " 1/11 [=>............................] - ETA: 0s - loss: 0.7513 - accuracy: 0.5625 - mse: 0.2760 - precision_2: 0.5455 - recall_2: 0.7500"
     ]
    },
    {
     "name": "stderr",
     "output_type": "stream",
     "text": [
      "WARNING:absl:Found untraced functions such as _update_step_xla while saving (showing 1 of 1). These functions will not be directly callable after loading.\n"
     ]
    },
    {
     "name": "stdout",
     "output_type": "stream",
     "text": [
      "INFO:tensorflow:Assets written to: C:\\Users\\Burka\\Documents\\School\\Letny semester 22-23\\Neuronky\\ns-zadanie1\\wandb\\run-20230329_023819-four8km7\\files\\model-best\\assets\n"
     ]
    },
    {
     "name": "stderr",
     "output_type": "stream",
     "text": [
      "INFO:tensorflow:Assets written to: C:\\Users\\Burka\\Documents\\School\\Letny semester 22-23\\Neuronky\\ns-zadanie1\\wandb\\run-20230329_023819-four8km7\\files\\model-best\\assets\n",
      "\u001b[34m\u001b[1mwandb\u001b[0m: Adding directory to artifact (C:\\Users\\Burka\\Documents\\School\\Letny semester 22-23\\Neuronky\\ns-zadanie1\\wandb\\run-20230329_023819-four8km7\\files\\model-best)... Done. 0.0s\n"
     ]
    },
    {
     "name": "stdout",
     "output_type": "stream",
     "text": [
      "11/11 [==============================] - 1s 130ms/step - loss: 0.6574 - accuracy: 0.5843 - mse: 0.2342 - precision_2: 0.6038 - recall_2: 0.7033 - val_loss: 0.6345 - val_accuracy: 0.5238 - val_mse: 0.2228 - val_precision_2: 0.4706 - val_recall_2: 0.8889\n",
      "Epoch 15/100\n",
      " 1/11 [=>............................] - ETA: 0s - loss: 0.6597 - accuracy: 0.6250 - mse: 0.2367 - precision_2: 0.6000 - recall_2: 0.7500"
     ]
    },
    {
     "name": "stderr",
     "output_type": "stream",
     "text": [
      "WARNING:absl:Found untraced functions such as _update_step_xla while saving (showing 1 of 1). These functions will not be directly callable after loading.\n"
     ]
    },
    {
     "name": "stdout",
     "output_type": "stream",
     "text": [
      "INFO:tensorflow:Assets written to: C:\\Users\\Burka\\Documents\\School\\Letny semester 22-23\\Neuronky\\ns-zadanie1\\wandb\\run-20230329_023819-four8km7\\files\\model-best\\assets\n"
     ]
    },
    {
     "name": "stderr",
     "output_type": "stream",
     "text": [
      "INFO:tensorflow:Assets written to: C:\\Users\\Burka\\Documents\\School\\Letny semester 22-23\\Neuronky\\ns-zadanie1\\wandb\\run-20230329_023819-four8km7\\files\\model-best\\assets\n",
      "\u001b[34m\u001b[1mwandb\u001b[0m: Adding directory to artifact (C:\\Users\\Burka\\Documents\\School\\Letny semester 22-23\\Neuronky\\ns-zadanie1\\wandb\\run-20230329_023819-four8km7\\files\\model-best)... Done. 0.0s\n"
     ]
    },
    {
     "name": "stdout",
     "output_type": "stream",
     "text": [
      "11/11 [==============================] - 1s 129ms/step - loss: 0.6162 - accuracy: 0.6446 - mse: 0.2162 - precision_2: 0.6538 - recall_2: 0.7473 - val_loss: 0.6276 - val_accuracy: 0.5714 - val_mse: 0.2197 - val_precision_2: 0.5000 - val_recall_2: 0.8889\n",
      "Epoch 16/100\n",
      " 1/11 [=>............................] - ETA: 0s - loss: 0.6213 - accuracy: 0.6875 - mse: 0.2121 - precision_2: 0.8182 - recall_2: 0.7500"
     ]
    },
    {
     "name": "stderr",
     "output_type": "stream",
     "text": [
      "WARNING:absl:Found untraced functions such as _update_step_xla while saving (showing 1 of 1). These functions will not be directly callable after loading.\n"
     ]
    },
    {
     "name": "stdout",
     "output_type": "stream",
     "text": [
      "INFO:tensorflow:Assets written to: C:\\Users\\Burka\\Documents\\School\\Letny semester 22-23\\Neuronky\\ns-zadanie1\\wandb\\run-20230329_023819-four8km7\\files\\model-best\\assets\n"
     ]
    },
    {
     "name": "stderr",
     "output_type": "stream",
     "text": [
      "INFO:tensorflow:Assets written to: C:\\Users\\Burka\\Documents\\School\\Letny semester 22-23\\Neuronky\\ns-zadanie1\\wandb\\run-20230329_023819-four8km7\\files\\model-best\\assets\n",
      "\u001b[34m\u001b[1mwandb\u001b[0m: Adding directory to artifact (C:\\Users\\Burka\\Documents\\School\\Letny semester 22-23\\Neuronky\\ns-zadanie1\\wandb\\run-20230329_023819-four8km7\\files\\model-best)... Done. 0.0s\n"
     ]
    },
    {
     "name": "stdout",
     "output_type": "stream",
     "text": [
      "11/11 [==============================] - 2s 153ms/step - loss: 0.6131 - accuracy: 0.6566 - mse: 0.2147 - precision_2: 0.6491 - recall_2: 0.8132 - val_loss: 0.6234 - val_accuracy: 0.5714 - val_mse: 0.2180 - val_precision_2: 0.5000 - val_recall_2: 0.8889\n",
      "Epoch 17/100\n",
      " 1/11 [=>............................] - ETA: 0s - loss: 0.5808 - accuracy: 0.6875 - mse: 0.2035 - precision_2: 0.6250 - recall_2: 0.7143"
     ]
    },
    {
     "name": "stderr",
     "output_type": "stream",
     "text": [
      "WARNING:absl:Found untraced functions such as _update_step_xla while saving (showing 1 of 1). These functions will not be directly callable after loading.\n"
     ]
    },
    {
     "name": "stdout",
     "output_type": "stream",
     "text": [
      "INFO:tensorflow:Assets written to: C:\\Users\\Burka\\Documents\\School\\Letny semester 22-23\\Neuronky\\ns-zadanie1\\wandb\\run-20230329_023819-four8km7\\files\\model-best\\assets\n"
     ]
    },
    {
     "name": "stderr",
     "output_type": "stream",
     "text": [
      "INFO:tensorflow:Assets written to: C:\\Users\\Burka\\Documents\\School\\Letny semester 22-23\\Neuronky\\ns-zadanie1\\wandb\\run-20230329_023819-four8km7\\files\\model-best\\assets\n",
      "\u001b[34m\u001b[1mwandb\u001b[0m: Adding directory to artifact (C:\\Users\\Burka\\Documents\\School\\Letny semester 22-23\\Neuronky\\ns-zadanie1\\wandb\\run-20230329_023819-four8km7\\files\\model-best)... Done. 0.0s\n"
     ]
    },
    {
     "name": "stdout",
     "output_type": "stream",
     "text": [
      "11/11 [==============================] - 1s 125ms/step - loss: 0.6181 - accuracy: 0.6024 - mse: 0.2182 - precision_2: 0.6106 - recall_2: 0.7582 - val_loss: 0.6176 - val_accuracy: 0.5714 - val_mse: 0.2156 - val_precision_2: 0.5000 - val_recall_2: 0.8889\n",
      "Epoch 18/100\n",
      " 1/11 [=>............................] - ETA: 0s - loss: 0.5069 - accuracy: 0.6875 - mse: 0.1723 - precision_2: 0.6154 - recall_2: 1.0000"
     ]
    },
    {
     "name": "stderr",
     "output_type": "stream",
     "text": [
      "WARNING:absl:Found untraced functions such as _update_step_xla while saving (showing 1 of 1). These functions will not be directly callable after loading.\n"
     ]
    },
    {
     "name": "stdout",
     "output_type": "stream",
     "text": [
      "INFO:tensorflow:Assets written to: C:\\Users\\Burka\\Documents\\School\\Letny semester 22-23\\Neuronky\\ns-zadanie1\\wandb\\run-20230329_023819-four8km7\\files\\model-best\\assets\n"
     ]
    },
    {
     "name": "stderr",
     "output_type": "stream",
     "text": [
      "INFO:tensorflow:Assets written to: C:\\Users\\Burka\\Documents\\School\\Letny semester 22-23\\Neuronky\\ns-zadanie1\\wandb\\run-20230329_023819-four8km7\\files\\model-best\\assets\n",
      "\u001b[34m\u001b[1mwandb\u001b[0m: Adding directory to artifact (C:\\Users\\Burka\\Documents\\School\\Letny semester 22-23\\Neuronky\\ns-zadanie1\\wandb\\run-20230329_023819-four8km7\\files\\model-best)... Done. 0.0s\n"
     ]
    },
    {
     "name": "stdout",
     "output_type": "stream",
     "text": [
      "11/11 [==============================] - 1s 123ms/step - loss: 0.6216 - accuracy: 0.6084 - mse: 0.2180 - precision_2: 0.6121 - recall_2: 0.7802 - val_loss: 0.6130 - val_accuracy: 0.5714 - val_mse: 0.2138 - val_precision_2: 0.5000 - val_recall_2: 0.8889\n",
      "Epoch 19/100\n",
      " 1/11 [=>............................] - ETA: 0s - loss: 0.5871 - accuracy: 0.7500 - mse: 0.1973 - precision_2: 0.7778 - recall_2: 0.7778"
     ]
    },
    {
     "name": "stderr",
     "output_type": "stream",
     "text": [
      "WARNING:absl:Found untraced functions such as _update_step_xla while saving (showing 1 of 1). These functions will not be directly callable after loading.\n"
     ]
    },
    {
     "name": "stdout",
     "output_type": "stream",
     "text": [
      "INFO:tensorflow:Assets written to: C:\\Users\\Burka\\Documents\\School\\Letny semester 22-23\\Neuronky\\ns-zadanie1\\wandb\\run-20230329_023819-four8km7\\files\\model-best\\assets\n"
     ]
    },
    {
     "name": "stderr",
     "output_type": "stream",
     "text": [
      "INFO:tensorflow:Assets written to: C:\\Users\\Burka\\Documents\\School\\Letny semester 22-23\\Neuronky\\ns-zadanie1\\wandb\\run-20230329_023819-four8km7\\files\\model-best\\assets\n",
      "\u001b[34m\u001b[1mwandb\u001b[0m: Adding directory to artifact (C:\\Users\\Burka\\Documents\\School\\Letny semester 22-23\\Neuronky\\ns-zadanie1\\wandb\\run-20230329_023819-four8km7\\files\\model-best)... "
     ]
    }
   ],
   "source": [
    "fitModel(tf_model5, 'model5', [earlyStop,WandbCallback()])"
   ]
  },
  {
   "cell_type": "code",
   "execution_count": null,
   "id": "94dd8295-bc9d-4d28-a931-cf32642fef39",
   "metadata": {},
   "outputs": [],
   "source": [
    "w.finish()\n",
    "w = wandb.init(project='zadanie1',reinit=True)"
   ]
  },
  {
   "cell_type": "code",
   "execution_count": null,
   "id": "2085f794",
   "metadata": {},
   "outputs": [],
   "source": [
    "#pomocna funkcia\n",
    "def predictEval(tf_model, XX, yy):\n",
    "    # vykonanie predikcie\n",
    "    y_pred = tf_model.predict(XX)\n",
    "    # uprava outputu na boolean\n",
    "    y_pred_bool = np.copy(y_pred)\n",
    "    for x in y_pred_bool:\n",
    "        x[0] = round(x[0])\n",
    "    y_pred_bool\n",
    "\n",
    "    #vratenie y a accuaracy\n",
    "    return [y_pred, y_pred_bool, accuracy_score(y_pred_bool, yy), mean_squared_error(y_pred_bool, yy), precision_score(y_pred_bool, yy), recall_score(y_pred_bool, yy)]"
   ]
  },
  {
   "cell_type": "markdown",
   "id": "a18ac23f",
   "metadata": {},
   "source": [
    "Eval"
   ]
  },
  {
   "cell_type": "code",
   "execution_count": null,
   "id": "56957029",
   "metadata": {},
   "outputs": [],
   "source": [
    "def predictEvalWrap(model, name):\n",
    "    train = predictEval(model, X_train, y_train)\n",
    "    val = predictEval(model, X_val, y_val)\n",
    "    test = predictEval(model, X_test, y_test)\n",
    "\n",
    "    print(name)\n",
    "    print('Accuracy score')\n",
    "    print(f'Train: {train[2]*100:.2f}%')\n",
    "    print(f'Val: {val[2]*100:.2f}%')\n",
    "    print(f'Test: {test[2]*100:.2f}%')\n",
    "    print('Mean squared error')\n",
    "    print(f'Train: {train[3]*100:.2f}%')\n",
    "    print(f'Val: {val[3]*100:.2f}%')\n",
    "    print(f'Test: {test[3]*100:.2f}%')\n",
    "    print('Precision')\n",
    "    print(f'Train: {train[4]*100:.2f}%')\n",
    "    print(f'Val: {val[4]*100:.2f}%')\n",
    "    print(f'Test: {test[4]*100:.2f}%')\n",
    "    print('Recall')\n",
    "    print(f'Train: {train[5]*100:.2f}%')\n",
    "    print(f'Val: {val[5]*100:.2f}%')\n",
    "    print(f'Test: {test[5]*100:.2f}%')\n",
    "    print('------------------------------------------')"
   ]
  },
  {
   "cell_type": "code",
   "execution_count": null,
   "id": "b444aef3",
   "metadata": {},
   "outputs": [],
   "source": [
    "predictEvalWrap(tf_model1, 'No overfit prevention')\n",
    "predictEvalWrap(tf_model2, 'Dropout')\n",
    "predictEvalWrap(tf_model3, 'Early stopping')\n",
    "predictEvalWrap(tf_model4, 'Regularization')\n",
    "predictEvalWrap(tf_model5, 'Dropout + Early stopping')"
   ]
  },
  {
   "cell_type": "code",
   "execution_count": null,
   "id": "2a688b36",
   "metadata": {},
   "outputs": [],
   "source": [
    "import torch\n",
    "import torch.nn as nn\n",
    "import torch.optim as optim\n",
    "from torch.utils.data import Dataset, DataLoader\n",
    "from sklearn.metrics import accuracy_score"
   ]
  },
  {
   "cell_type": "code",
   "execution_count": null,
   "id": "f17a7b69",
   "metadata": {},
   "outputs": [],
   "source": [
    "# Define the PyTorch model\n",
    "class PyTorchModel(nn.Module):\n",
    "    def __init__(self, input_dim):\n",
    "        super(PyTorchModel, self).__init__()\n",
    "        self.fc1 = nn.Linear(input_dim, 16)\n",
    "        self.fc2 = nn.Linear(16, 16)\n",
    "        self.fc3 = nn.Linear(16, 16)\n",
    "        self.fc4 = nn.Linear(16, 1)\n",
    "\n",
    "    def forward(self, x):\n",
    "        x = torch.relu(self.fc1(x))\n",
    "        x = torch.relu(self.fc2(x))\n",
    "        x = torch.relu(self.fc3(x))\n",
    "        x = torch.sigmoid(self.fc4(x))\n",
    "        return x"
   ]
  },
  {
   "cell_type": "code",
   "execution_count": null,
   "id": "39c7c165",
   "metadata": {},
   "outputs": [],
   "source": [
    "class PyTorchModelDropout(nn.Module):\n",
    "    def __init__(self, input_dim, dropout_rate=0.5):\n",
    "        super(PyTorchModelDropout, self).__init__()\n",
    "        self.fc1 = nn.Linear(input_dim, 16)\n",
    "        self.dropout1 = nn.Dropout(dropout_rate)\n",
    "        self.fc2 = nn.Linear(16, 16)\n",
    "        self.dropout2 = nn.Dropout(dropout_rate)\n",
    "        self.fc3 = nn.Linear(16, 16)\n",
    "        self.dropout3 = nn.Dropout(dropout_rate)\n",
    "        self.fc4 = nn.Linear(16, 1)\n",
    "\n",
    "    def forward(self, x):\n",
    "        x = torch.relu(self.fc1(x))\n",
    "        x = self.dropout1(x)\n",
    "        x = torch.relu(self.fc2(x))\n",
    "        x = self.dropout2(x)\n",
    "        x = torch.relu(self.fc3(x))\n",
    "        x = self.dropout3(x)\n",
    "        x = torch.sigmoid(self.fc4(x))\n",
    "        return x"
   ]
  },
  {
   "cell_type": "code",
   "execution_count": null,
   "id": "5d7e8074",
   "metadata": {},
   "outputs": [],
   "source": [
    "class SonarDataset(Dataset):\n",
    "    def __init__(self, X, y):\n",
    "        self.X = torch.tensor(X.values, dtype=torch.float32)\n",
    "        self.y = torch.tensor(y.values, dtype=torch.float32).view(-1, 1)\n",
    "\n",
    "    def __len__(self):\n",
    "        return len(self.X)\n",
    "\n",
    "    def __getitem__(self, idx):\n",
    "        return self.X[idx], self.y[idx]"
   ]
  },
  {
   "cell_type": "code",
   "execution_count": null,
   "id": "65da1a5f",
   "metadata": {},
   "outputs": [],
   "source": [
    "train_dataset = SonarDataset(X_train, y_train)\n",
    "val_dataset = SonarDataset(X_val, y_val)\n",
    "test_dataset = SonarDataset(X_test, y_test)\n",
    "\n",
    "train_loader = DataLoader(train_dataset, batch_size=16, shuffle=True)\n",
    "val_loader = DataLoader(val_dataset, batch_size=len(val_dataset), shuffle=False)\n",
    "test_loader = DataLoader(test_dataset, batch_size=len(test_dataset), shuffle=False)"
   ]
  },
  {
   "cell_type": "code",
   "execution_count": null,
   "id": "06616cf8",
   "metadata": {},
   "outputs": [],
   "source": [
    "# Instantiate the model\n",
    "input_dim = len(X_train.columns)\n",
    "model = PyTorchModel(input_dim)\n",
    "model_dropout = PyTorchModelDropout(input_dim, dropout_rate=0.5)\n",
    "model_early_stopping = PyTorchModel(input_dim)"
   ]
  },
  {
   "cell_type": "code",
   "execution_count": null,
   "id": "e1b6f25c",
   "metadata": {},
   "outputs": [],
   "source": [
    "criterion = nn.BCELoss()\n",
    "optimizer = optim.Adam(model.parameters())\n",
    "optimizer_dropout = optim.Adam(model_dropout.parameters())\n",
    "optimizer_early_stopping = optim.Adam(model_early_stopping.parameters())"
   ]
  },
  {
   "cell_type": "code",
   "execution_count": null,
   "id": "f8d03d80",
   "metadata": {},
   "outputs": [],
   "source": [
    "num_epochs = 100"
   ]
  },
  {
   "cell_type": "code",
   "execution_count": null,
   "id": "e9157ba8",
   "metadata": {},
   "outputs": [],
   "source": [
    "\n",
    "for epoch in range(num_epochs):\n",
    "    model.train()\n",
    "    for X_batch, y_batch in train_loader:\n",
    "        optimizer.zero_grad()\n",
    "        y_pred = model(X_batch)\n",
    "        loss = criterion(y_pred, y_batch)\n",
    "        loss.backward()\n",
    "        optimizer.step()\n",
    "        wandb.log({\"loss\": loss})\n",
    "    with torch.no_grad():\n",
    "        model.eval()\n",
    "        for X_val_batch, y_val_batch in val_loader:\n",
    "            y_val_pred = model(X_val_batch)\n",
    "            val_loss = criterion(y_val_pred, y_val_batch)\n",
    "\n",
    "    print(f\"Epoch: {epoch + 1}/{num_epochs}, Loss: {loss.item():.4f}, Val Loss: {val_loss.item():.4f}\")"
   ]
  },
  {
   "cell_type": "code",
   "execution_count": null,
   "id": "89725875",
   "metadata": {},
   "outputs": [],
   "source": [
    "for epoch in range(num_epochs):\n",
    "    model_dropout.train()\n",
    "    for X_batch, y_batch in train_loader:\n",
    "        optimizer_dropout.zero_grad()\n",
    "        y_pred = model_dropout(X_batch)\n",
    "        loss = criterion(y_pred, y_batch)\n",
    "        loss.backward()\n",
    "        optimizer.step()\n",
    "    \n",
    "    with torch.no_grad():\n",
    "        model_dropout.eval()\n",
    "        val_loss_sum = 0\n",
    "        val_batch_count = 0\n",
    "        for X_val_batch, y_val_batch in val_loader:\n",
    "            y_val_pred = model_dropout(X_val_batch)\n",
    "            val_loss = criterion(y_val_pred, y_val_batch)\n",
    "            val_loss_sum += val_loss.item()\n",
    "            val_batch_count += 1\n",
    "        val_loss_avg = val_loss_sum / val_batch_count\n",
    "    print(f\"Epoch: {epoch + 1}/{num_epochs}, Loss: {loss.item():.4f}, Val Loss: {val_loss_avg:.4f}\")"
   ]
  },
  {
   "cell_type": "code",
   "execution_count": null,
   "id": "dfabdcdf",
   "metadata": {},
   "outputs": [],
   "source": [
    "patience = 10\n",
    "\n",
    "best_val_loss = float(\"inf\")\n",
    "counter = 0\n",
    "\n",
    "for epoch in range(num_epochs):\n",
    "    model_early_stopping.train()\n",
    "    for X_batch, y_batch in train_loader:\n",
    "        optimizer_early_stopping.zero_grad()\n",
    "        y_pred = model_early_stopping(X_batch)\n",
    "        loss = criterion(y_pred, y_batch)\n",
    "        loss.backward()\n",
    "        optimizer.step()\n",
    "\n",
    "    with torch.no_grad():\n",
    "        model_early_stopping.eval()\n",
    "        val_loss_sum = 0\n",
    "        val_batch_count = 0\n",
    "        for X_val_batch, y_val_batch in val_loader:\n",
    "            y_val_pred = model_early_stopping(X_val_batch)\n",
    "            val_loss = criterion(y_val_pred, y_val_batch)\n",
    "            val_loss_sum += val_loss.item()\n",
    "            val_batch_count += 1\n",
    "        val_loss_avg = val_loss_sum / val_batch_count\n",
    "\n",
    "    print(f\"Epoch: {epoch + 1}/{num_epochs}, Loss: {loss.item():.4f}, Val Loss: {val_loss_avg:.4f}\")\n",
    "\n",
    "    # Early stopping logic\n",
    "    if val_loss_avg < best_val_loss:\n",
    "        best_val_loss = val_loss_avg\n",
    "        counter = 0\n",
    "    else:\n",
    "        counter += 1\n",
    "        if counter >= patience:\n",
    "            print(\"Early stopping!\")\n",
    "            break"
   ]
  },
  {
   "cell_type": "code",
   "execution_count": null,
   "id": "1ab49a7e",
   "metadata": {},
   "outputs": [],
   "source": [
    "def predict_eval(model, loader):\n",
    "    with torch.no_grad():\n",
    "        model.eval()\n",
    "        for X_batch, y_batch in loader:\n",
    "            y_pred = model(X_batch)\n",
    "            y_pred_bool = torch.round(y_pred)\n",
    "            accuracy = accuracy_score(y_pred_bool, y_batch)\n",
    "    return accuracy"
   ]
  },
  {
   "cell_type": "code",
   "execution_count": null,
   "id": "ce38c74c",
   "metadata": {},
   "outputs": [],
   "source": [
    "train_accuracy = predict_eval(model, train_loader)\n",
    "val_accuracy = predict_eval(model, val_loader)\n",
    "test_accuracy = predict_eval(model, test_loader)"
   ]
  },
  {
   "cell_type": "code",
   "execution_count": null,
   "id": "55ec5944",
   "metadata": {},
   "outputs": [],
   "source": [
    "train_accuracy_dropout = predict_eval(model_dropout, train_loader)\n",
    "val_accuracy_dropout = predict_eval(model_dropout, val_loader)\n",
    "test_accuracy_dropout = predict_eval(model_dropout, test_loader)"
   ]
  },
  {
   "cell_type": "code",
   "execution_count": null,
   "id": "1da69398",
   "metadata": {},
   "outputs": [],
   "source": [
    "train_accuracy_early_stopping = predict_eval(model_early_stopping, train_loader)\n",
    "val_accuracy_early_stopping = predict_eval(model_early_stopping, val_loader)\n",
    "test_accuracy_early_stopping = predict_eval(model_early_stopping, test_loader)"
   ]
  },
  {
   "cell_type": "code",
   "execution_count": null,
   "id": "5df66fc2",
   "metadata": {},
   "outputs": [],
   "source": [
    "print('No overfit prevention')\n",
    "print(f'Train: {train_accuracy * 100:.2f}%')\n",
    "print(f'Val: {val_accuracy * 100:.2f}%')\n",
    "print(f'Test: {test_accuracy * 100:.2f}%')"
   ]
  },
  {
   "cell_type": "code",
   "execution_count": null,
   "id": "26db5e48",
   "metadata": {},
   "outputs": [],
   "source": [
    "print('Droupout')\n",
    "print(f'Train: {train_accuracy_dropout * 100:.2f}%')\n",
    "print(f'Val: {val_accuracy_dropout * 100:.2f}%')\n",
    "print(f'Test: {test_accuracy_dropout * 100:.2f}%')"
   ]
  },
  {
   "cell_type": "code",
   "execution_count": null,
   "id": "36cee445",
   "metadata": {},
   "outputs": [],
   "source": [
    "print('Early stopping')\n",
    "print(f'Train: {train_accuracy_early_stopping * 100:.2f}%')\n",
    "print(f'Val: {val_accuracy_early_stopping * 100:.2f}%')\n",
    "print(f'Test: {test_accuracy_early_stopping * 100:.2f}%')"
   ]
  },
  {
   "cell_type": "code",
   "execution_count": null,
   "id": "8d0dc699",
   "metadata": {},
   "outputs": [],
   "source": []
  },
  {
   "cell_type": "code",
   "execution_count": null,
   "id": "161de969",
   "metadata": {},
   "outputs": [],
   "source": []
  }
 ],
 "metadata": {
  "kernelspec": {
   "display_name": "Python 3 (ipykernel)",
   "language": "python",
   "name": "python3"
  },
  "language_info": {
   "codemirror_mode": {
    "name": "ipython",
    "version": 3
   },
   "file_extension": ".py",
   "mimetype": "text/x-python",
   "name": "python",
   "nbconvert_exporter": "python",
   "pygments_lexer": "ipython3",
   "version": "3.9.13"
  }
 },
 "nbformat": 4,
 "nbformat_minor": 5
}
